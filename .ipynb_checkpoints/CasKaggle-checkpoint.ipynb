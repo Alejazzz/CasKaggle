{
 "cells": [
  {
   "cell_type": "markdown",
   "metadata": {},
   "source": [
    "Alejandro García García\n",
    "NIU: 1564537\n"
   ]
  },
  {
   "cell_type": "markdown",
   "metadata": {},
   "source": [
    "# FORMULA 1 RACE DATA"
   ]
  },
  {
   "cell_type": "markdown",
   "metadata": {},
   "source": [
    "## 1. INTRODUCCIÓN"
   ]
  },
  {
   "cell_type": "markdown",
   "metadata": {},
   "source": [
    "El caso Kaggle del cual dispongo se denomina FORMULA 1 RACE DATA. En el se encuentra información de la FORMULA 1  desde la temporada 1950 hasta la temporada 2017. Este Kaggle esta formado por varios datasets, en los cuales se puede encontrar datos de cada piloto, escuderia, resultados, etc. Aunque el caso Kaggle contenga exactamente 13 datasets, no todos seran utlitzados debido a la gran cantidad de datos que resultaria."
   ]
  },
  {
   "cell_type": "markdown",
   "metadata": {},
   "source": [
    "## 2. OBJETIVOS"
   ]
  },
  {
   "cell_type": "markdown",
   "metadata": {},
   "source": [
    "Nada más ver el dataset que se me proporciono en lo primero que pensé es en intentar predecir algo relacionado con el piloto español más famoso de todos los tiempos en nuestro país, Fernando Alonso. Por lo que el trabajo girara entorno a él y en investigar y visualizar sus estadísticas a lo largo de todos estos años en la FORMULA 1. El objetivo principal de esta práctica es predecir los puntos que hara Alonso en su siguiente carrera en ciertos circuitos y para ello se necesitara información relacionada con sus resultados globales en las diferentes carreras en las que ha participado. Además de esto, mientras se vaya avanzando, iré mostrando ciertos datos sobre la carrera de Fernando que me parezcan curiosos y que pueda obtener a partir de la información proporcionada por los diferentes datasets."
   ]
  },
  {
   "cell_type": "markdown",
   "metadata": {},
   "source": [
    "## 3. EDA (exploratory data analysis)"
   ]
  },
  {
   "cell_type": "markdown",
   "metadata": {},
   "source": [
    "Primeramente añadiremos todas las librerias necesarias para realizar la práctica y cargaremos los datasets con más importancia para nuestra investigación los cuales son: results.csv, races.csv, constructors.csv y circuits.csv. En ellos podemos encontrar información relacionada con los resultados de todos los pilotos en todas las carreras. Cabe decir que el último de ellos ha sido modificado manualmente a causa de errores en palabras originados por diversos acentos en ciertas palabras ya que sino no se podia utilizar correctamente. Más adelante se explicaran los diferentes atributos del dataset ya que este sufrira modificaciones respecto al original."
   ]
  },
  {
   "cell_type": "code",
   "execution_count": 1,
   "metadata": {},
   "outputs": [],
   "source": [
    "from sklearn.datasets import make_regression\n",
    "import numpy as np\n",
    "import pandas as pd\n",
    "%matplotlib inline\n",
    "from matplotlib import pyplot as plt\n",
    "import scipy.stats\n",
    "import seaborn as sns\n",
    "from sklearn.impute import SimpleImputer\n",
    "from sklearn import preprocessing\n",
    "from sklearn.preprocessing import StandardScaler\n",
    "import sklearn\n",
    "from sklearn.preprocessing import PolynomialFeatures\n",
    "from sklearn.linear_model import LogisticRegression\n",
    "from sklearn.model_selection import cross_val_score\n",
    "from sklearn.linear_model import LinearRegression\n",
    "from sklearn.model_selection import KFold\n",
    "from sklearn.neighbors import KNeighborsClassifier\n",
    "from sklearn.metrics import accuracy_score\n",
    "from sklearn.metrics import confusion_matrix\n",
    "from statistics import mean\n",
    "from sklearn import svm \n",
    "from sklearn.model_selection import StratifiedKFold\n",
    "from sklearn.metrics import f1_score\n",
    "from sklearn.metrics import mean_squared_error\n",
    "from sklearn.metrics import r2_score\n",
    "import warnings \n",
    "warnings.filterwarnings('ignore')\n",
    "\n",
    "pd.set_option('display.float_format', lambda x: '%.3f' % x)\n",
    "\n",
    "def load_dataset(path):\n",
    "    dataset = pd.read_csv(path, header=0, delimiter=',')\n",
    "    return dataset\n",
    "\n",
    "dataset = load_dataset('datasets/results.csv')\n",
    "data = dataset.values\n",
    "\n",
    "dataset2 = load_dataset('datasets/races.csv')\n",
    "data2 = dataset2.values\n",
    "\n",
    "dataset3 = load_dataset('datasets/constructors.csv')\n",
    "data3 = dataset3.values\n",
    "\n",
    "dataset4 = load_dataset('datasets/circuits.csv')\n",
    "data4 = dataset4.values\n",
    "\n"
   ]
  },
  {
   "cell_type": "markdown",
   "metadata": {},
   "source": [
    "Como en este caso, a diferencia de prácticas anteriores, tenemos varios datasets, realizaremos un join para asi unir todos ellos y tener todos los datos en un solo dataset. En este caso se han unido los datasets más relevantes anteriormente mencionados a través de distintos Ids.También se queria realizar un join con drivers.csv pero este causaba un error por lo que identificaremos a Fernando Alonso por su driverId el cual es 4."
   ]
  },
  {
   "cell_type": "code",
   "execution_count": 2,
   "metadata": {},
   "outputs": [
    {
     "data": {
      "text/html": [
       "<div>\n",
       "<style scoped>\n",
       "    .dataframe tbody tr th:only-of-type {\n",
       "        vertical-align: middle;\n",
       "    }\n",
       "\n",
       "    .dataframe tbody tr th {\n",
       "        vertical-align: top;\n",
       "    }\n",
       "\n",
       "    .dataframe thead th {\n",
       "        text-align: right;\n",
       "    }\n",
       "</style>\n",
       "<table border=\"1\" class=\"dataframe\">\n",
       "  <thead>\n",
       "    <tr style=\"text-align: right;\">\n",
       "      <th></th>\n",
       "      <th>resultId</th>\n",
       "      <th>raceId</th>\n",
       "      <th>driverId</th>\n",
       "      <th>constructorId</th>\n",
       "      <th>number</th>\n",
       "      <th>grid</th>\n",
       "      <th>position</th>\n",
       "      <th>positionText</th>\n",
       "      <th>positionOrder</th>\n",
       "      <th>points</th>\n",
       "      <th>...</th>\n",
       "      <th>url_y</th>\n",
       "      <th>Unnamed: 5</th>\n",
       "      <th>circuitRef</th>\n",
       "      <th>name</th>\n",
       "      <th>location</th>\n",
       "      <th>country</th>\n",
       "      <th>lat</th>\n",
       "      <th>lng</th>\n",
       "      <th>alt</th>\n",
       "      <th>url</th>\n",
       "    </tr>\n",
       "  </thead>\n",
       "  <tbody>\n",
       "    <tr>\n",
       "      <th>0</th>\n",
       "      <td>1</td>\n",
       "      <td>18</td>\n",
       "      <td>1</td>\n",
       "      <td>1</td>\n",
       "      <td>22.000</td>\n",
       "      <td>1</td>\n",
       "      <td>1.000</td>\n",
       "      <td>1</td>\n",
       "      <td>1</td>\n",
       "      <td>10.000</td>\n",
       "      <td>...</td>\n",
       "      <td>http://en.wikipedia.org/wiki/McLaren</td>\n",
       "      <td>NaN</td>\n",
       "      <td>albert_park</td>\n",
       "      <td>Albert Park Grand Prix Circuit</td>\n",
       "      <td>Melbourne</td>\n",
       "      <td>Australia</td>\n",
       "      <td>-37.850</td>\n",
       "      <td>144968.000</td>\n",
       "      <td>10.000</td>\n",
       "      <td>http://en.wikipedia.org/wiki/Melbourne_Grand_P...</td>\n",
       "    </tr>\n",
       "    <tr>\n",
       "      <th>1</th>\n",
       "      <td>5</td>\n",
       "      <td>18</td>\n",
       "      <td>5</td>\n",
       "      <td>1</td>\n",
       "      <td>23.000</td>\n",
       "      <td>3</td>\n",
       "      <td>5.000</td>\n",
       "      <td>5</td>\n",
       "      <td>5</td>\n",
       "      <td>4.000</td>\n",
       "      <td>...</td>\n",
       "      <td>http://en.wikipedia.org/wiki/McLaren</td>\n",
       "      <td>NaN</td>\n",
       "      <td>albert_park</td>\n",
       "      <td>Albert Park Grand Prix Circuit</td>\n",
       "      <td>Melbourne</td>\n",
       "      <td>Australia</td>\n",
       "      <td>-37.850</td>\n",
       "      <td>144968.000</td>\n",
       "      <td>10.000</td>\n",
       "      <td>http://en.wikipedia.org/wiki/Melbourne_Grand_P...</td>\n",
       "    </tr>\n",
       "    <tr>\n",
       "      <th>2</th>\n",
       "      <td>370</td>\n",
       "      <td>36</td>\n",
       "      <td>4</td>\n",
       "      <td>1</td>\n",
       "      <td>1.000</td>\n",
       "      <td>2</td>\n",
       "      <td>2.000</td>\n",
       "      <td>2</td>\n",
       "      <td>2</td>\n",
       "      <td>8.000</td>\n",
       "      <td>...</td>\n",
       "      <td>http://en.wikipedia.org/wiki/McLaren</td>\n",
       "      <td>NaN</td>\n",
       "      <td>albert_park</td>\n",
       "      <td>Albert Park Grand Prix Circuit</td>\n",
       "      <td>Melbourne</td>\n",
       "      <td>Australia</td>\n",
       "      <td>-37.850</td>\n",
       "      <td>144968.000</td>\n",
       "      <td>10.000</td>\n",
       "      <td>http://en.wikipedia.org/wiki/Melbourne_Grand_P...</td>\n",
       "    </tr>\n",
       "    <tr>\n",
       "      <th>3</th>\n",
       "      <td>371</td>\n",
       "      <td>36</td>\n",
       "      <td>1</td>\n",
       "      <td>1</td>\n",
       "      <td>2.000</td>\n",
       "      <td>4</td>\n",
       "      <td>3.000</td>\n",
       "      <td>3</td>\n",
       "      <td>3</td>\n",
       "      <td>6.000</td>\n",
       "      <td>...</td>\n",
       "      <td>http://en.wikipedia.org/wiki/McLaren</td>\n",
       "      <td>NaN</td>\n",
       "      <td>albert_park</td>\n",
       "      <td>Albert Park Grand Prix Circuit</td>\n",
       "      <td>Melbourne</td>\n",
       "      <td>Australia</td>\n",
       "      <td>-37.850</td>\n",
       "      <td>144968.000</td>\n",
       "      <td>10.000</td>\n",
       "      <td>http://en.wikipedia.org/wiki/Melbourne_Grand_P...</td>\n",
       "    </tr>\n",
       "    <tr>\n",
       "      <th>4</th>\n",
       "      <td>788</td>\n",
       "      <td>55</td>\n",
       "      <td>8</td>\n",
       "      <td>1</td>\n",
       "      <td>3.000</td>\n",
       "      <td>4</td>\n",
       "      <td>2.000</td>\n",
       "      <td>2</td>\n",
       "      <td>2</td>\n",
       "      <td>8.000</td>\n",
       "      <td>...</td>\n",
       "      <td>http://en.wikipedia.org/wiki/McLaren</td>\n",
       "      <td>NaN</td>\n",
       "      <td>albert_park</td>\n",
       "      <td>Albert Park Grand Prix Circuit</td>\n",
       "      <td>Melbourne</td>\n",
       "      <td>Australia</td>\n",
       "      <td>-37.850</td>\n",
       "      <td>144968.000</td>\n",
       "      <td>10.000</td>\n",
       "      <td>http://en.wikipedia.org/wiki/Melbourne_Grand_P...</td>\n",
       "    </tr>\n",
       "    <tr>\n",
       "      <th>...</th>\n",
       "      <td>...</td>\n",
       "      <td>...</td>\n",
       "      <td>...</td>\n",
       "      <td>...</td>\n",
       "      <td>...</td>\n",
       "      <td>...</td>\n",
       "      <td>...</td>\n",
       "      <td>...</td>\n",
       "      <td>...</td>\n",
       "      <td>...</td>\n",
       "      <td>...</td>\n",
       "      <td>...</td>\n",
       "      <td>...</td>\n",
       "      <td>...</td>\n",
       "      <td>...</td>\n",
       "      <td>...</td>\n",
       "      <td>...</td>\n",
       "      <td>...</td>\n",
       "      <td>...</td>\n",
       "      <td>...</td>\n",
       "      <td>...</td>\n",
       "    </tr>\n",
       "    <tr>\n",
       "      <th>23772</th>\n",
       "      <td>18286</td>\n",
       "      <td>755</td>\n",
       "      <td>541</td>\n",
       "      <td>170</td>\n",
       "      <td>4.000</td>\n",
       "      <td>21</td>\n",
       "      <td>NaN</td>\n",
       "      <td>R</td>\n",
       "      <td>21</td>\n",
       "      <td>0.000</td>\n",
       "      <td>...</td>\n",
       "      <td>http://en.wikipedia.org/wiki/Cooper_Car_Company</td>\n",
       "      <td>NaN</td>\n",
       "      <td>riverside</td>\n",
       "      <td>Riverside International Raceway</td>\n",
       "      <td>California</td>\n",
       "      <td>USA</td>\n",
       "      <td>33937.000</td>\n",
       "      <td>-117273.000</td>\n",
       "      <td>NaN</td>\n",
       "      <td>http://en.wikipedia.org/wiki/Riverside_Interna...</td>\n",
       "    </tr>\n",
       "    <tr>\n",
       "      <th>23773</th>\n",
       "      <td>18287</td>\n",
       "      <td>755</td>\n",
       "      <td>479</td>\n",
       "      <td>170</td>\n",
       "      <td>6.000</td>\n",
       "      <td>9</td>\n",
       "      <td>NaN</td>\n",
       "      <td>R</td>\n",
       "      <td>22</td>\n",
       "      <td>0.000</td>\n",
       "      <td>...</td>\n",
       "      <td>http://en.wikipedia.org/wiki/Cooper_Car_Company</td>\n",
       "      <td>NaN</td>\n",
       "      <td>riverside</td>\n",
       "      <td>Riverside International Raceway</td>\n",
       "      <td>California</td>\n",
       "      <td>USA</td>\n",
       "      <td>33937.000</td>\n",
       "      <td>-117273.000</td>\n",
       "      <td>NaN</td>\n",
       "      <td>http://en.wikipedia.org/wiki/Riverside_Interna...</td>\n",
       "    </tr>\n",
       "    <tr>\n",
       "      <th>23774</th>\n",
       "      <td>18278</td>\n",
       "      <td>755</td>\n",
       "      <td>548</td>\n",
       "      <td>105</td>\n",
       "      <td>20.000</td>\n",
       "      <td>22</td>\n",
       "      <td>13.000</td>\n",
       "      <td>13</td>\n",
       "      <td>13</td>\n",
       "      <td>0.000</td>\n",
       "      <td>...</td>\n",
       "      <td>http://en.wikipedia.org/wiki/Maserati</td>\n",
       "      <td>NaN</td>\n",
       "      <td>riverside</td>\n",
       "      <td>Riverside International Raceway</td>\n",
       "      <td>California</td>\n",
       "      <td>USA</td>\n",
       "      <td>33937.000</td>\n",
       "      <td>-117273.000</td>\n",
       "      <td>NaN</td>\n",
       "      <td>http://en.wikipedia.org/wiki/Riverside_Interna...</td>\n",
       "    </tr>\n",
       "    <tr>\n",
       "      <th>23775</th>\n",
       "      <td>18275</td>\n",
       "      <td>755</td>\n",
       "      <td>507</td>\n",
       "      <td>106</td>\n",
       "      <td>23.000</td>\n",
       "      <td>18</td>\n",
       "      <td>10.000</td>\n",
       "      <td>10</td>\n",
       "      <td>10</td>\n",
       "      <td>0.000</td>\n",
       "      <td>...</td>\n",
       "      <td>http://en.wikipedia.org/wiki/Scarab_(constructor)</td>\n",
       "      <td>NaN</td>\n",
       "      <td>riverside</td>\n",
       "      <td>Riverside International Raceway</td>\n",
       "      <td>California</td>\n",
       "      <td>USA</td>\n",
       "      <td>33937.000</td>\n",
       "      <td>-117273.000</td>\n",
       "      <td>NaN</td>\n",
       "      <td>http://en.wikipedia.org/wiki/Riverside_Interna...</td>\n",
       "    </tr>\n",
       "    <tr>\n",
       "      <th>23776</th>\n",
       "      <td>18276</td>\n",
       "      <td>755</td>\n",
       "      <td>353</td>\n",
       "      <td>171</td>\n",
       "      <td>25.000</td>\n",
       "      <td>20</td>\n",
       "      <td>11.000</td>\n",
       "      <td>11</td>\n",
       "      <td>11</td>\n",
       "      <td>0.000</td>\n",
       "      <td>...</td>\n",
       "      <td>http://en.wikipedia.org/wiki/Cooper_Car_Company</td>\n",
       "      <td>NaN</td>\n",
       "      <td>riverside</td>\n",
       "      <td>Riverside International Raceway</td>\n",
       "      <td>California</td>\n",
       "      <td>USA</td>\n",
       "      <td>33937.000</td>\n",
       "      <td>-117273.000</td>\n",
       "      <td>NaN</td>\n",
       "      <td>http://en.wikipedia.org/wiki/Riverside_Interna...</td>\n",
       "    </tr>\n",
       "  </tbody>\n",
       "</table>\n",
       "<p>23777 rows × 38 columns</p>\n",
       "</div>"
      ],
      "text/plain": [
       "       resultId  raceId  driverId  constructorId  number  grid  position  \\\n",
       "0             1      18         1              1  22.000     1     1.000   \n",
       "1             5      18         5              1  23.000     3     5.000   \n",
       "2           370      36         4              1   1.000     2     2.000   \n",
       "3           371      36         1              1   2.000     4     3.000   \n",
       "4           788      55         8              1   3.000     4     2.000   \n",
       "...         ...     ...       ...            ...     ...   ...       ...   \n",
       "23772     18286     755       541            170   4.000    21       NaN   \n",
       "23773     18287     755       479            170   6.000     9       NaN   \n",
       "23774     18278     755       548            105  20.000    22    13.000   \n",
       "23775     18275     755       507            106  23.000    18    10.000   \n",
       "23776     18276     755       353            171  25.000    20    11.000   \n",
       "\n",
       "      positionText  positionOrder  points  ...  \\\n",
       "0                1              1  10.000  ...   \n",
       "1                5              5   4.000  ...   \n",
       "2                2              2   8.000  ...   \n",
       "3                3              3   6.000  ...   \n",
       "4                2              2   8.000  ...   \n",
       "...            ...            ...     ...  ...   \n",
       "23772            R             21   0.000  ...   \n",
       "23773            R             22   0.000  ...   \n",
       "23774           13             13   0.000  ...   \n",
       "23775           10             10   0.000  ...   \n",
       "23776           11             11   0.000  ...   \n",
       "\n",
       "                                                   url_y Unnamed: 5  \\\n",
       "0                   http://en.wikipedia.org/wiki/McLaren        NaN   \n",
       "1                   http://en.wikipedia.org/wiki/McLaren        NaN   \n",
       "2                   http://en.wikipedia.org/wiki/McLaren        NaN   \n",
       "3                   http://en.wikipedia.org/wiki/McLaren        NaN   \n",
       "4                   http://en.wikipedia.org/wiki/McLaren        NaN   \n",
       "...                                                  ...        ...   \n",
       "23772    http://en.wikipedia.org/wiki/Cooper_Car_Company        NaN   \n",
       "23773    http://en.wikipedia.org/wiki/Cooper_Car_Company        NaN   \n",
       "23774              http://en.wikipedia.org/wiki/Maserati        NaN   \n",
       "23775  http://en.wikipedia.org/wiki/Scarab_(constructor)        NaN   \n",
       "23776    http://en.wikipedia.org/wiki/Cooper_Car_Company        NaN   \n",
       "\n",
       "        circuitRef                             name    location    country  \\\n",
       "0      albert_park   Albert Park Grand Prix Circuit   Melbourne  Australia   \n",
       "1      albert_park   Albert Park Grand Prix Circuit   Melbourne  Australia   \n",
       "2      albert_park   Albert Park Grand Prix Circuit   Melbourne  Australia   \n",
       "3      albert_park   Albert Park Grand Prix Circuit   Melbourne  Australia   \n",
       "4      albert_park   Albert Park Grand Prix Circuit   Melbourne  Australia   \n",
       "...            ...                              ...         ...        ...   \n",
       "23772    riverside  Riverside International Raceway  California        USA   \n",
       "23773    riverside  Riverside International Raceway  California        USA   \n",
       "23774    riverside  Riverside International Raceway  California        USA   \n",
       "23775    riverside  Riverside International Raceway  California        USA   \n",
       "23776    riverside  Riverside International Raceway  California        USA   \n",
       "\n",
       "            lat         lng    alt  \\\n",
       "0       -37.850  144968.000 10.000   \n",
       "1       -37.850  144968.000 10.000   \n",
       "2       -37.850  144968.000 10.000   \n",
       "3       -37.850  144968.000 10.000   \n",
       "4       -37.850  144968.000 10.000   \n",
       "...         ...         ...    ...   \n",
       "23772 33937.000 -117273.000    NaN   \n",
       "23773 33937.000 -117273.000    NaN   \n",
       "23774 33937.000 -117273.000    NaN   \n",
       "23775 33937.000 -117273.000    NaN   \n",
       "23776 33937.000 -117273.000    NaN   \n",
       "\n",
       "                                                     url  \n",
       "0      http://en.wikipedia.org/wiki/Melbourne_Grand_P...  \n",
       "1      http://en.wikipedia.org/wiki/Melbourne_Grand_P...  \n",
       "2      http://en.wikipedia.org/wiki/Melbourne_Grand_P...  \n",
       "3      http://en.wikipedia.org/wiki/Melbourne_Grand_P...  \n",
       "4      http://en.wikipedia.org/wiki/Melbourne_Grand_P...  \n",
       "...                                                  ...  \n",
       "23772  http://en.wikipedia.org/wiki/Riverside_Interna...  \n",
       "23773  http://en.wikipedia.org/wiki/Riverside_Interna...  \n",
       "23774  http://en.wikipedia.org/wiki/Riverside_Interna...  \n",
       "23775  http://en.wikipedia.org/wiki/Riverside_Interna...  \n",
       "23776  http://en.wikipedia.org/wiki/Riverside_Interna...  \n",
       "\n",
       "[23777 rows x 38 columns]"
      ]
     },
     "execution_count": 2,
     "metadata": {},
     "output_type": "execute_result"
    }
   ],
   "source": [
    "inner_join_df1 = pd.merge(dataset, dataset2, on='raceId' , how='inner')\n",
    "inner_join_df2 = pd.merge(inner_join_df1, dataset3, on='constructorId' , how='inner')\n",
    "inner_join_df = pd.merge(inner_join_df2, dataset4, on='circuitId' , how='inner')\n",
    "inner_join_df"
   ]
  },
  {
   "cell_type": "markdown",
   "metadata": {},
   "source": [
    "Una vez unidos los dos datasets, al solo necesitar los datos de Fernando Alonso, nos quedaremos con aquellas muestras con un driverId igual al de Fernando, es decir, 4."
   ]
  },
  {
   "cell_type": "code",
   "execution_count": 3,
   "metadata": {},
   "outputs": [],
   "source": [
    "datasetFernando = inner_join_df[inner_join_df.driverId == 4]\n",
    "datasetFernando\n",
    "dataFernando = datasetFernando.values"
   ]
  },
  {
   "cell_type": "markdown",
   "metadata": {},
   "source": [
    "Una vez tenemos todas las muestras de las carreras de Fernando Alonso, eliminaremos ciertos artibutos los cuales no proporcionan ningún tipo de información útil para nuestros futuros estudios, como son: number, position, positionText, statusId, round, date, time_y, url_x, etc.\n",
    "    "
   ]
  },
  {
   "cell_type": "code",
   "execution_count": 4,
   "metadata": {},
   "outputs": [
    {
     "data": {
      "text/html": [
       "<div>\n",
       "<style scoped>\n",
       "    .dataframe tbody tr th:only-of-type {\n",
       "        vertical-align: middle;\n",
       "    }\n",
       "\n",
       "    .dataframe tbody tr th {\n",
       "        vertical-align: top;\n",
       "    }\n",
       "\n",
       "    .dataframe thead th {\n",
       "        text-align: right;\n",
       "    }\n",
       "</style>\n",
       "<table border=\"1\" class=\"dataframe\">\n",
       "  <thead>\n",
       "    <tr style=\"text-align: right;\">\n",
       "      <th></th>\n",
       "      <th>grid</th>\n",
       "      <th>positionOrder</th>\n",
       "      <th>points</th>\n",
       "      <th>laps</th>\n",
       "      <th>fastestLap</th>\n",
       "      <th>fastestLapTime</th>\n",
       "      <th>fastestLapSpeed</th>\n",
       "      <th>year</th>\n",
       "      <th>circuitId</th>\n",
       "      <th>name_y</th>\n",
       "      <th>name</th>\n",
       "    </tr>\n",
       "  </thead>\n",
       "  <tbody>\n",
       "    <tr>\n",
       "      <th>2</th>\n",
       "      <td>2</td>\n",
       "      <td>2</td>\n",
       "      <td>8.000</td>\n",
       "      <td>58</td>\n",
       "      <td>20.000</td>\n",
       "      <td>01:26.3</td>\n",
       "      <td>221.178</td>\n",
       "      <td>2007</td>\n",
       "      <td>1</td>\n",
       "      <td>McLaren</td>\n",
       "      <td>Albert Park Grand Prix Circuit</td>\n",
       "    </tr>\n",
       "    <tr>\n",
       "      <th>41</th>\n",
       "      <td>11</td>\n",
       "      <td>21</td>\n",
       "      <td>0.000</td>\n",
       "      <td>16</td>\n",
       "      <td>14.000</td>\n",
       "      <td>01:32.6</td>\n",
       "      <td>206.268</td>\n",
       "      <td>2016</td>\n",
       "      <td>1</td>\n",
       "      <td>McLaren</td>\n",
       "      <td>Albert Park Grand Prix Circuit</td>\n",
       "    </tr>\n",
       "    <tr>\n",
       "      <th>43</th>\n",
       "      <td>12</td>\n",
       "      <td>14</td>\n",
       "      <td>0.000</td>\n",
       "      <td>50</td>\n",
       "      <td>48.000</td>\n",
       "      <td>01:30.1</td>\n",
       "      <td>211.938</td>\n",
       "      <td>2017</td>\n",
       "      <td>1</td>\n",
       "      <td>McLaren</td>\n",
       "      <td>Albert Park Grand Prix Circuit</td>\n",
       "    </tr>\n",
       "    <tr>\n",
       "      <th>96</th>\n",
       "      <td>11</td>\n",
       "      <td>4</td>\n",
       "      <td>5.000</td>\n",
       "      <td>58</td>\n",
       "      <td>58.000</td>\n",
       "      <td>01:28.6</td>\n",
       "      <td>215.464</td>\n",
       "      <td>2008</td>\n",
       "      <td>1</td>\n",
       "      <td>Renault</td>\n",
       "      <td>Albert Park Grand Prix Circuit</td>\n",
       "    </tr>\n",
       "    <tr>\n",
       "      <th>100</th>\n",
       "      <td>3</td>\n",
       "      <td>1</td>\n",
       "      <td>10.000</td>\n",
       "      <td>57</td>\n",
       "      <td>49.000</td>\n",
       "      <td>01:26.2</td>\n",
       "      <td>221.499</td>\n",
       "      <td>2006</td>\n",
       "      <td>1</td>\n",
       "      <td>Renault</td>\n",
       "      <td>Albert Park Grand Prix Circuit</td>\n",
       "    </tr>\n",
       "    <tr>\n",
       "      <th>...</th>\n",
       "      <td>...</td>\n",
       "      <td>...</td>\n",
       "      <td>...</td>\n",
       "      <td>...</td>\n",
       "      <td>...</td>\n",
       "      <td>...</td>\n",
       "      <td>...</td>\n",
       "      <td>...</td>\n",
       "      <td>...</td>\n",
       "      <td>...</td>\n",
       "      <td>...</td>\n",
       "    </tr>\n",
       "    <tr>\n",
       "      <th>22732</th>\n",
       "      <td>14</td>\n",
       "      <td>6</td>\n",
       "      <td>8.000</td>\n",
       "      <td>52</td>\n",
       "      <td>52.000</td>\n",
       "      <td>01:40.3</td>\n",
       "      <td>209.799</td>\n",
       "      <td>2016</td>\n",
       "      <td>71</td>\n",
       "      <td>McLaren</td>\n",
       "      <td>Sochi Autodrom</td>\n",
       "    </tr>\n",
       "    <tr>\n",
       "      <th>22735</th>\n",
       "      <td>15</td>\n",
       "      <td>20</td>\n",
       "      <td>0.000</td>\n",
       "      <td>0</td>\n",
       "      <td>NaN</td>\n",
       "      <td>NaN</td>\n",
       "      <td>NaN</td>\n",
       "      <td>2017</td>\n",
       "      <td>71</td>\n",
       "      <td>McLaren</td>\n",
       "      <td>Sochi Autodrom</td>\n",
       "    </tr>\n",
       "    <tr>\n",
       "      <th>22756</th>\n",
       "      <td>7</td>\n",
       "      <td>6</td>\n",
       "      <td>8.000</td>\n",
       "      <td>53</td>\n",
       "      <td>53.000</td>\n",
       "      <td>01:42.2</td>\n",
       "      <td>206.038</td>\n",
       "      <td>2014</td>\n",
       "      <td>71</td>\n",
       "      <td>Ferrari</td>\n",
       "      <td>Sochi Autodrom</td>\n",
       "    </tr>\n",
       "    <tr>\n",
       "      <th>22812</th>\n",
       "      <td>13</td>\n",
       "      <td>19</td>\n",
       "      <td>0.000</td>\n",
       "      <td>42</td>\n",
       "      <td>27.000</td>\n",
       "      <td>01:49.1</td>\n",
       "      <td>198.08</td>\n",
       "      <td>2016</td>\n",
       "      <td>73</td>\n",
       "      <td>McLaren</td>\n",
       "      <td>Baku City Circuit</td>\n",
       "    </tr>\n",
       "    <tr>\n",
       "      <th>22813</th>\n",
       "      <td>19</td>\n",
       "      <td>9</td>\n",
       "      <td>2.000</td>\n",
       "      <td>51</td>\n",
       "      <td>49.000</td>\n",
       "      <td>01:45.2</td>\n",
       "      <td>205.488</td>\n",
       "      <td>2017</td>\n",
       "      <td>73</td>\n",
       "      <td>McLaren</td>\n",
       "      <td>Baku City Circuit</td>\n",
       "    </tr>\n",
       "  </tbody>\n",
       "</table>\n",
       "<p>293 rows × 11 columns</p>\n",
       "</div>"
      ],
      "text/plain": [
       "       grid  positionOrder  points  laps  fastestLap fastestLapTime  \\\n",
       "2         2              2   8.000    58      20.000        01:26.3   \n",
       "41       11             21   0.000    16      14.000        01:32.6   \n",
       "43       12             14   0.000    50      48.000        01:30.1   \n",
       "96       11              4   5.000    58      58.000        01:28.6   \n",
       "100       3              1  10.000    57      49.000        01:26.2   \n",
       "...     ...            ...     ...   ...         ...            ...   \n",
       "22732    14              6   8.000    52      52.000        01:40.3   \n",
       "22735    15             20   0.000     0         NaN            NaN   \n",
       "22756     7              6   8.000    53      53.000        01:42.2   \n",
       "22812    13             19   0.000    42      27.000        01:49.1   \n",
       "22813    19              9   2.000    51      49.000        01:45.2   \n",
       "\n",
       "      fastestLapSpeed  year  circuitId   name_y  \\\n",
       "2             221.178  2007          1  McLaren   \n",
       "41            206.268  2016          1  McLaren   \n",
       "43            211.938  2017          1  McLaren   \n",
       "96            215.464  2008          1  Renault   \n",
       "100           221.499  2006          1  Renault   \n",
       "...               ...   ...        ...      ...   \n",
       "22732         209.799  2016         71  McLaren   \n",
       "22735             NaN  2017         71  McLaren   \n",
       "22756         206.038  2014         71  Ferrari   \n",
       "22812          198.08  2016         73  McLaren   \n",
       "22813         205.488  2017         73  McLaren   \n",
       "\n",
       "                                 name  \n",
       "2      Albert Park Grand Prix Circuit  \n",
       "41     Albert Park Grand Prix Circuit  \n",
       "43     Albert Park Grand Prix Circuit  \n",
       "96     Albert Park Grand Prix Circuit  \n",
       "100    Albert Park Grand Prix Circuit  \n",
       "...                               ...  \n",
       "22732                  Sochi Autodrom  \n",
       "22735                  Sochi Autodrom  \n",
       "22756                  Sochi Autodrom  \n",
       "22812               Baku City Circuit  \n",
       "22813               Baku City Circuit  \n",
       "\n",
       "[293 rows x 11 columns]"
      ]
     },
     "execution_count": 4,
     "metadata": {},
     "output_type": "execute_result"
    }
   ],
   "source": [
    "del(datasetFernando['number'])\n",
    "del(datasetFernando['position'])\n",
    "del(datasetFernando['positionText'])\n",
    "del(datasetFernando['statusId'])\n",
    "del(datasetFernando['round'])\n",
    "del(datasetFernando['date'])\n",
    "del(datasetFernando['time_y'])\n",
    "del(datasetFernando['url_x'])\n",
    "del(datasetFernando['url_y'])\n",
    "del(datasetFernando['name_x'])\n",
    "del(datasetFernando['rank'])\n",
    "del(datasetFernando['time_x'])\n",
    "del(datasetFernando['milliseconds'])\n",
    "del(datasetFernando['nationality'])\n",
    "del(datasetFernando['constructorRef'])\n",
    "del(datasetFernando['resultId'])\n",
    "del(datasetFernando['raceId'])\n",
    "del(datasetFernando['driverId'])\n",
    "del(datasetFernando['constructorId'])\n",
    "del(datasetFernando['circuitRef'])\n",
    "del(datasetFernando['location'])\n",
    "del(datasetFernando['country'])\n",
    "del(datasetFernando['lat'])\n",
    "del(datasetFernando['lng'])\n",
    "del(datasetFernando['alt'])\n",
    "del(datasetFernando['url'])\n",
    "datasetFernando = datasetFernando.drop(datasetFernando.columns[[10]], axis = 'columns')\n",
    "\n",
    "datasetFernando"
   ]
  },
  {
   "cell_type": "markdown",
   "metadata": {},
   "source": [
    "Ahora ya tenemos nuestro dataset definitivo para realizar esta práctica, el cual es el siguiente:"
   ]
  },
  {
   "cell_type": "code",
   "execution_count": 5,
   "metadata": {},
   "outputs": [
    {
     "data": {
      "text/html": [
       "<div>\n",
       "<style scoped>\n",
       "    .dataframe tbody tr th:only-of-type {\n",
       "        vertical-align: middle;\n",
       "    }\n",
       "\n",
       "    .dataframe tbody tr th {\n",
       "        vertical-align: top;\n",
       "    }\n",
       "\n",
       "    .dataframe thead th {\n",
       "        text-align: right;\n",
       "    }\n",
       "</style>\n",
       "<table border=\"1\" class=\"dataframe\">\n",
       "  <thead>\n",
       "    <tr style=\"text-align: right;\">\n",
       "      <th></th>\n",
       "      <th>grid</th>\n",
       "      <th>positionOrder</th>\n",
       "      <th>points</th>\n",
       "      <th>laps</th>\n",
       "      <th>fastestLap</th>\n",
       "      <th>fastestLapTime</th>\n",
       "      <th>fastestLapSpeed</th>\n",
       "      <th>year</th>\n",
       "      <th>circuitId</th>\n",
       "      <th>name_y</th>\n",
       "      <th>name</th>\n",
       "    </tr>\n",
       "  </thead>\n",
       "  <tbody>\n",
       "    <tr>\n",
       "      <th>2</th>\n",
       "      <td>2</td>\n",
       "      <td>2</td>\n",
       "      <td>8.000</td>\n",
       "      <td>58</td>\n",
       "      <td>20.000</td>\n",
       "      <td>01:26.3</td>\n",
       "      <td>221.178</td>\n",
       "      <td>2007</td>\n",
       "      <td>1</td>\n",
       "      <td>McLaren</td>\n",
       "      <td>Albert Park Grand Prix Circuit</td>\n",
       "    </tr>\n",
       "    <tr>\n",
       "      <th>41</th>\n",
       "      <td>11</td>\n",
       "      <td>21</td>\n",
       "      <td>0.000</td>\n",
       "      <td>16</td>\n",
       "      <td>14.000</td>\n",
       "      <td>01:32.6</td>\n",
       "      <td>206.268</td>\n",
       "      <td>2016</td>\n",
       "      <td>1</td>\n",
       "      <td>McLaren</td>\n",
       "      <td>Albert Park Grand Prix Circuit</td>\n",
       "    </tr>\n",
       "    <tr>\n",
       "      <th>43</th>\n",
       "      <td>12</td>\n",
       "      <td>14</td>\n",
       "      <td>0.000</td>\n",
       "      <td>50</td>\n",
       "      <td>48.000</td>\n",
       "      <td>01:30.1</td>\n",
       "      <td>211.938</td>\n",
       "      <td>2017</td>\n",
       "      <td>1</td>\n",
       "      <td>McLaren</td>\n",
       "      <td>Albert Park Grand Prix Circuit</td>\n",
       "    </tr>\n",
       "    <tr>\n",
       "      <th>96</th>\n",
       "      <td>11</td>\n",
       "      <td>4</td>\n",
       "      <td>5.000</td>\n",
       "      <td>58</td>\n",
       "      <td>58.000</td>\n",
       "      <td>01:28.6</td>\n",
       "      <td>215.464</td>\n",
       "      <td>2008</td>\n",
       "      <td>1</td>\n",
       "      <td>Renault</td>\n",
       "      <td>Albert Park Grand Prix Circuit</td>\n",
       "    </tr>\n",
       "    <tr>\n",
       "      <th>100</th>\n",
       "      <td>3</td>\n",
       "      <td>1</td>\n",
       "      <td>10.000</td>\n",
       "      <td>57</td>\n",
       "      <td>49.000</td>\n",
       "      <td>01:26.2</td>\n",
       "      <td>221.499</td>\n",
       "      <td>2006</td>\n",
       "      <td>1</td>\n",
       "      <td>Renault</td>\n",
       "      <td>Albert Park Grand Prix Circuit</td>\n",
       "    </tr>\n",
       "    <tr>\n",
       "      <th>...</th>\n",
       "      <td>...</td>\n",
       "      <td>...</td>\n",
       "      <td>...</td>\n",
       "      <td>...</td>\n",
       "      <td>...</td>\n",
       "      <td>...</td>\n",
       "      <td>...</td>\n",
       "      <td>...</td>\n",
       "      <td>...</td>\n",
       "      <td>...</td>\n",
       "      <td>...</td>\n",
       "    </tr>\n",
       "    <tr>\n",
       "      <th>22732</th>\n",
       "      <td>14</td>\n",
       "      <td>6</td>\n",
       "      <td>8.000</td>\n",
       "      <td>52</td>\n",
       "      <td>52.000</td>\n",
       "      <td>01:40.3</td>\n",
       "      <td>209.799</td>\n",
       "      <td>2016</td>\n",
       "      <td>71</td>\n",
       "      <td>McLaren</td>\n",
       "      <td>Sochi Autodrom</td>\n",
       "    </tr>\n",
       "    <tr>\n",
       "      <th>22735</th>\n",
       "      <td>15</td>\n",
       "      <td>20</td>\n",
       "      <td>0.000</td>\n",
       "      <td>0</td>\n",
       "      <td>NaN</td>\n",
       "      <td>NaN</td>\n",
       "      <td>NaN</td>\n",
       "      <td>2017</td>\n",
       "      <td>71</td>\n",
       "      <td>McLaren</td>\n",
       "      <td>Sochi Autodrom</td>\n",
       "    </tr>\n",
       "    <tr>\n",
       "      <th>22756</th>\n",
       "      <td>7</td>\n",
       "      <td>6</td>\n",
       "      <td>8.000</td>\n",
       "      <td>53</td>\n",
       "      <td>53.000</td>\n",
       "      <td>01:42.2</td>\n",
       "      <td>206.038</td>\n",
       "      <td>2014</td>\n",
       "      <td>71</td>\n",
       "      <td>Ferrari</td>\n",
       "      <td>Sochi Autodrom</td>\n",
       "    </tr>\n",
       "    <tr>\n",
       "      <th>22812</th>\n",
       "      <td>13</td>\n",
       "      <td>19</td>\n",
       "      <td>0.000</td>\n",
       "      <td>42</td>\n",
       "      <td>27.000</td>\n",
       "      <td>01:49.1</td>\n",
       "      <td>198.08</td>\n",
       "      <td>2016</td>\n",
       "      <td>73</td>\n",
       "      <td>McLaren</td>\n",
       "      <td>Baku City Circuit</td>\n",
       "    </tr>\n",
       "    <tr>\n",
       "      <th>22813</th>\n",
       "      <td>19</td>\n",
       "      <td>9</td>\n",
       "      <td>2.000</td>\n",
       "      <td>51</td>\n",
       "      <td>49.000</td>\n",
       "      <td>01:45.2</td>\n",
       "      <td>205.488</td>\n",
       "      <td>2017</td>\n",
       "      <td>73</td>\n",
       "      <td>McLaren</td>\n",
       "      <td>Baku City Circuit</td>\n",
       "    </tr>\n",
       "  </tbody>\n",
       "</table>\n",
       "<p>293 rows × 11 columns</p>\n",
       "</div>"
      ],
      "text/plain": [
       "       grid  positionOrder  points  laps  fastestLap fastestLapTime  \\\n",
       "2         2              2   8.000    58      20.000        01:26.3   \n",
       "41       11             21   0.000    16      14.000        01:32.6   \n",
       "43       12             14   0.000    50      48.000        01:30.1   \n",
       "96       11              4   5.000    58      58.000        01:28.6   \n",
       "100       3              1  10.000    57      49.000        01:26.2   \n",
       "...     ...            ...     ...   ...         ...            ...   \n",
       "22732    14              6   8.000    52      52.000        01:40.3   \n",
       "22735    15             20   0.000     0         NaN            NaN   \n",
       "22756     7              6   8.000    53      53.000        01:42.2   \n",
       "22812    13             19   0.000    42      27.000        01:49.1   \n",
       "22813    19              9   2.000    51      49.000        01:45.2   \n",
       "\n",
       "      fastestLapSpeed  year  circuitId   name_y  \\\n",
       "2             221.178  2007          1  McLaren   \n",
       "41            206.268  2016          1  McLaren   \n",
       "43            211.938  2017          1  McLaren   \n",
       "96            215.464  2008          1  Renault   \n",
       "100           221.499  2006          1  Renault   \n",
       "...               ...   ...        ...      ...   \n",
       "22732         209.799  2016         71  McLaren   \n",
       "22735             NaN  2017         71  McLaren   \n",
       "22756         206.038  2014         71  Ferrari   \n",
       "22812          198.08  2016         73  McLaren   \n",
       "22813         205.488  2017         73  McLaren   \n",
       "\n",
       "                                 name  \n",
       "2      Albert Park Grand Prix Circuit  \n",
       "41     Albert Park Grand Prix Circuit  \n",
       "43     Albert Park Grand Prix Circuit  \n",
       "96     Albert Park Grand Prix Circuit  \n",
       "100    Albert Park Grand Prix Circuit  \n",
       "...                               ...  \n",
       "22732                  Sochi Autodrom  \n",
       "22735                  Sochi Autodrom  \n",
       "22756                  Sochi Autodrom  \n",
       "22812               Baku City Circuit  \n",
       "22813               Baku City Circuit  \n",
       "\n",
       "[293 rows x 11 columns]"
      ]
     },
     "execution_count": 5,
     "metadata": {},
     "output_type": "execute_result"
    }
   ],
   "source": [
    "datasetFernando"
   ]
  },
  {
   "cell_type": "markdown",
   "metadata": {},
   "source": [
    "Finalmente nuestro dataset contiene 293 muestras y 11 columnas. Los diferentes atributos son:\n",
    "- grid: posición de parrilla/salida\n",
    "- positionOrder: posición final o puesto final en la carrera\n",
    "- points: puntos obtenidos\n",
    "- laps: vueltas realizadas en la carrera\n",
    "- fastestLap: vuelta en la cual se realizó la vuelta más rápida\n",
    "- fastestLapTime: tiempo de vuelta rápida\n",
    "- fastestLapSpeed: velocidad máxima alcanzada en la vuelta rápida\n",
    "- year: año en el que ocurrió la carrera\n",
    "- circuitId: Id del circuito\n",
    "- name_y: escuderia\n",
    "- name: nombre del circuito\n",
    "\n",
    "A continuación, visualizaremos de que tipo son nuestros atributos.\n"
   ]
  },
  {
   "cell_type": "code",
   "execution_count": 6,
   "metadata": {},
   "outputs": [
    {
     "name": "stdout",
     "output_type": "stream",
     "text": [
      "Tipos de atributos\n"
     ]
    },
    {
     "data": {
      "text/plain": [
       "grid                 int64\n",
       "positionOrder        int64\n",
       "points             float64\n",
       "laps                 int64\n",
       "fastestLap         float64\n",
       "fastestLapTime      object\n",
       "fastestLapSpeed     object\n",
       "year                 int64\n",
       "circuitId            int64\n",
       "name_y              object\n",
       "name                object\n",
       "dtype: object"
      ]
     },
     "execution_count": 6,
     "metadata": {},
     "output_type": "execute_result"
    }
   ],
   "source": [
    "print(\"Tipos de atributos\")\n",
    "datasetFernando.dtypes"
   ]
  },
  {
   "cell_type": "markdown",
   "metadata": {},
   "source": [
    "Como podemos ver, todos los atributos son de tipo numérico menos 4, estos 4 son fastestLapTime, fastestLapSpeed, name y name_y. Los dos primeros los vamos a pasar a tipo númerico ya que son atributos los cuales luego utilizaremos a la hora de predecir y por lo tanto se necesitan en tipo numérico. En cambio, name y name_y los dejaremos como string ya que solo seran útiles para visualizar ciertas gráficas en un futuro pero no para la predicción."
   ]
  },
  {
   "cell_type": "code",
   "execution_count": 7,
   "metadata": {},
   "outputs": [
    {
     "data": {
      "text/html": [
       "<div>\n",
       "<style scoped>\n",
       "    .dataframe tbody tr th:only-of-type {\n",
       "        vertical-align: middle;\n",
       "    }\n",
       "\n",
       "    .dataframe tbody tr th {\n",
       "        vertical-align: top;\n",
       "    }\n",
       "\n",
       "    .dataframe thead th {\n",
       "        text-align: right;\n",
       "    }\n",
       "</style>\n",
       "<table border=\"1\" class=\"dataframe\">\n",
       "  <thead>\n",
       "    <tr style=\"text-align: right;\">\n",
       "      <th></th>\n",
       "      <th>grid</th>\n",
       "      <th>positionOrder</th>\n",
       "      <th>points</th>\n",
       "      <th>laps</th>\n",
       "      <th>fastestLap</th>\n",
       "      <th>fastestLapTime</th>\n",
       "      <th>fastestLapSpeed</th>\n",
       "      <th>year</th>\n",
       "      <th>circuitId</th>\n",
       "      <th>name_y</th>\n",
       "      <th>name</th>\n",
       "    </tr>\n",
       "  </thead>\n",
       "  <tbody>\n",
       "    <tr>\n",
       "      <th>2</th>\n",
       "      <td>2</td>\n",
       "      <td>2</td>\n",
       "      <td>8.000</td>\n",
       "      <td>58</td>\n",
       "      <td>20.000</td>\n",
       "      <td>01:26.3</td>\n",
       "      <td>221.178</td>\n",
       "      <td>2007</td>\n",
       "      <td>1</td>\n",
       "      <td>McLaren</td>\n",
       "      <td>Albert Park Grand Prix Circuit</td>\n",
       "    </tr>\n",
       "    <tr>\n",
       "      <th>41</th>\n",
       "      <td>11</td>\n",
       "      <td>21</td>\n",
       "      <td>0.000</td>\n",
       "      <td>16</td>\n",
       "      <td>14.000</td>\n",
       "      <td>01:32.6</td>\n",
       "      <td>206.268</td>\n",
       "      <td>2016</td>\n",
       "      <td>1</td>\n",
       "      <td>McLaren</td>\n",
       "      <td>Albert Park Grand Prix Circuit</td>\n",
       "    </tr>\n",
       "    <tr>\n",
       "      <th>43</th>\n",
       "      <td>12</td>\n",
       "      <td>14</td>\n",
       "      <td>0.000</td>\n",
       "      <td>50</td>\n",
       "      <td>48.000</td>\n",
       "      <td>01:30.1</td>\n",
       "      <td>211.938</td>\n",
       "      <td>2017</td>\n",
       "      <td>1</td>\n",
       "      <td>McLaren</td>\n",
       "      <td>Albert Park Grand Prix Circuit</td>\n",
       "    </tr>\n",
       "    <tr>\n",
       "      <th>96</th>\n",
       "      <td>11</td>\n",
       "      <td>4</td>\n",
       "      <td>5.000</td>\n",
       "      <td>58</td>\n",
       "      <td>58.000</td>\n",
       "      <td>01:28.6</td>\n",
       "      <td>215.464</td>\n",
       "      <td>2008</td>\n",
       "      <td>1</td>\n",
       "      <td>Renault</td>\n",
       "      <td>Albert Park Grand Prix Circuit</td>\n",
       "    </tr>\n",
       "    <tr>\n",
       "      <th>100</th>\n",
       "      <td>3</td>\n",
       "      <td>1</td>\n",
       "      <td>10.000</td>\n",
       "      <td>57</td>\n",
       "      <td>49.000</td>\n",
       "      <td>01:26.2</td>\n",
       "      <td>221.499</td>\n",
       "      <td>2006</td>\n",
       "      <td>1</td>\n",
       "      <td>Renault</td>\n",
       "      <td>Albert Park Grand Prix Circuit</td>\n",
       "    </tr>\n",
       "    <tr>\n",
       "      <th>...</th>\n",
       "      <td>...</td>\n",
       "      <td>...</td>\n",
       "      <td>...</td>\n",
       "      <td>...</td>\n",
       "      <td>...</td>\n",
       "      <td>...</td>\n",
       "      <td>...</td>\n",
       "      <td>...</td>\n",
       "      <td>...</td>\n",
       "      <td>...</td>\n",
       "      <td>...</td>\n",
       "    </tr>\n",
       "    <tr>\n",
       "      <th>22732</th>\n",
       "      <td>14</td>\n",
       "      <td>6</td>\n",
       "      <td>8.000</td>\n",
       "      <td>52</td>\n",
       "      <td>52.000</td>\n",
       "      <td>01:40.3</td>\n",
       "      <td>209.799</td>\n",
       "      <td>2016</td>\n",
       "      <td>71</td>\n",
       "      <td>McLaren</td>\n",
       "      <td>Sochi Autodrom</td>\n",
       "    </tr>\n",
       "    <tr>\n",
       "      <th>22735</th>\n",
       "      <td>15</td>\n",
       "      <td>20</td>\n",
       "      <td>0.000</td>\n",
       "      <td>0</td>\n",
       "      <td>NaN</td>\n",
       "      <td>NaN</td>\n",
       "      <td>NaN</td>\n",
       "      <td>2017</td>\n",
       "      <td>71</td>\n",
       "      <td>McLaren</td>\n",
       "      <td>Sochi Autodrom</td>\n",
       "    </tr>\n",
       "    <tr>\n",
       "      <th>22756</th>\n",
       "      <td>7</td>\n",
       "      <td>6</td>\n",
       "      <td>8.000</td>\n",
       "      <td>53</td>\n",
       "      <td>53.000</td>\n",
       "      <td>01:42.2</td>\n",
       "      <td>206.038</td>\n",
       "      <td>2014</td>\n",
       "      <td>71</td>\n",
       "      <td>Ferrari</td>\n",
       "      <td>Sochi Autodrom</td>\n",
       "    </tr>\n",
       "    <tr>\n",
       "      <th>22812</th>\n",
       "      <td>13</td>\n",
       "      <td>19</td>\n",
       "      <td>0.000</td>\n",
       "      <td>42</td>\n",
       "      <td>27.000</td>\n",
       "      <td>01:49.1</td>\n",
       "      <td>198.080</td>\n",
       "      <td>2016</td>\n",
       "      <td>73</td>\n",
       "      <td>McLaren</td>\n",
       "      <td>Baku City Circuit</td>\n",
       "    </tr>\n",
       "    <tr>\n",
       "      <th>22813</th>\n",
       "      <td>19</td>\n",
       "      <td>9</td>\n",
       "      <td>2.000</td>\n",
       "      <td>51</td>\n",
       "      <td>49.000</td>\n",
       "      <td>01:45.2</td>\n",
       "      <td>205.488</td>\n",
       "      <td>2017</td>\n",
       "      <td>73</td>\n",
       "      <td>McLaren</td>\n",
       "      <td>Baku City Circuit</td>\n",
       "    </tr>\n",
       "  </tbody>\n",
       "</table>\n",
       "<p>293 rows × 11 columns</p>\n",
       "</div>"
      ],
      "text/plain": [
       "       grid  positionOrder  points  laps  fastestLap fastestLapTime  \\\n",
       "2         2              2   8.000    58      20.000        01:26.3   \n",
       "41       11             21   0.000    16      14.000        01:32.6   \n",
       "43       12             14   0.000    50      48.000        01:30.1   \n",
       "96       11              4   5.000    58      58.000        01:28.6   \n",
       "100       3              1  10.000    57      49.000        01:26.2   \n",
       "...     ...            ...     ...   ...         ...            ...   \n",
       "22732    14              6   8.000    52      52.000        01:40.3   \n",
       "22735    15             20   0.000     0         NaN            NaN   \n",
       "22756     7              6   8.000    53      53.000        01:42.2   \n",
       "22812    13             19   0.000    42      27.000        01:49.1   \n",
       "22813    19              9   2.000    51      49.000        01:45.2   \n",
       "\n",
       "       fastestLapSpeed  year  circuitId   name_y  \\\n",
       "2              221.178  2007          1  McLaren   \n",
       "41             206.268  2016          1  McLaren   \n",
       "43             211.938  2017          1  McLaren   \n",
       "96             215.464  2008          1  Renault   \n",
       "100            221.499  2006          1  Renault   \n",
       "...                ...   ...        ...      ...   \n",
       "22732          209.799  2016         71  McLaren   \n",
       "22735              NaN  2017         71  McLaren   \n",
       "22756          206.038  2014         71  Ferrari   \n",
       "22812          198.080  2016         73  McLaren   \n",
       "22813          205.488  2017         73  McLaren   \n",
       "\n",
       "                                 name  \n",
       "2      Albert Park Grand Prix Circuit  \n",
       "41     Albert Park Grand Prix Circuit  \n",
       "43     Albert Park Grand Prix Circuit  \n",
       "96     Albert Park Grand Prix Circuit  \n",
       "100    Albert Park Grand Prix Circuit  \n",
       "...                               ...  \n",
       "22732                  Sochi Autodrom  \n",
       "22735                  Sochi Autodrom  \n",
       "22756                  Sochi Autodrom  \n",
       "22812               Baku City Circuit  \n",
       "22813               Baku City Circuit  \n",
       "\n",
       "[293 rows x 11 columns]"
      ]
     },
     "execution_count": 7,
     "metadata": {},
     "output_type": "execute_result"
    }
   ],
   "source": [
    "datasetFernando[\"fastestLapSpeed\"] = pd.to_numeric(datasetFernando[\"fastestLapSpeed\"])\n",
    "datasetFernando"
   ]
  },
  {
   "cell_type": "markdown",
   "metadata": {},
   "source": [
    "Para pasar fastestLapTime a númerico no bastara solo con la función to_numeric(). Primeramente tendremos que eliminar todos los valores nulos o datos sin información de la columna fastestLapTime ya que al tratarse de una columna formada por strings no podemos sustituir estos huecos por la mediana o otras métricas similares. Es verdad que este punto generalmente se haria en el apartado de Preprocessing pero es necesario hacerlo ya para este atributo ya que sino no podremos continuar como corresponde."
   ]
  },
  {
   "cell_type": "code",
   "execution_count": 8,
   "metadata": {},
   "outputs": [
    {
     "data": {
      "text/html": [
       "<div>\n",
       "<style scoped>\n",
       "    .dataframe tbody tr th:only-of-type {\n",
       "        vertical-align: middle;\n",
       "    }\n",
       "\n",
       "    .dataframe tbody tr th {\n",
       "        vertical-align: top;\n",
       "    }\n",
       "\n",
       "    .dataframe thead th {\n",
       "        text-align: right;\n",
       "    }\n",
       "</style>\n",
       "<table border=\"1\" class=\"dataframe\">\n",
       "  <thead>\n",
       "    <tr style=\"text-align: right;\">\n",
       "      <th></th>\n",
       "      <th>grid</th>\n",
       "      <th>positionOrder</th>\n",
       "      <th>points</th>\n",
       "      <th>laps</th>\n",
       "      <th>fastestLap</th>\n",
       "      <th>fastestLapTime</th>\n",
       "      <th>fastestLapSpeed</th>\n",
       "      <th>year</th>\n",
       "      <th>circuitId</th>\n",
       "      <th>name_y</th>\n",
       "      <th>name</th>\n",
       "    </tr>\n",
       "  </thead>\n",
       "  <tbody>\n",
       "    <tr>\n",
       "      <th>2</th>\n",
       "      <td>2</td>\n",
       "      <td>2</td>\n",
       "      <td>8.000</td>\n",
       "      <td>58</td>\n",
       "      <td>20.000</td>\n",
       "      <td>01:26.3</td>\n",
       "      <td>221.178</td>\n",
       "      <td>2007</td>\n",
       "      <td>1</td>\n",
       "      <td>McLaren</td>\n",
       "      <td>Albert Park Grand Prix Circuit</td>\n",
       "    </tr>\n",
       "    <tr>\n",
       "      <th>41</th>\n",
       "      <td>11</td>\n",
       "      <td>21</td>\n",
       "      <td>0.000</td>\n",
       "      <td>16</td>\n",
       "      <td>14.000</td>\n",
       "      <td>01:32.6</td>\n",
       "      <td>206.268</td>\n",
       "      <td>2016</td>\n",
       "      <td>1</td>\n",
       "      <td>McLaren</td>\n",
       "      <td>Albert Park Grand Prix Circuit</td>\n",
       "    </tr>\n",
       "    <tr>\n",
       "      <th>43</th>\n",
       "      <td>12</td>\n",
       "      <td>14</td>\n",
       "      <td>0.000</td>\n",
       "      <td>50</td>\n",
       "      <td>48.000</td>\n",
       "      <td>01:30.1</td>\n",
       "      <td>211.938</td>\n",
       "      <td>2017</td>\n",
       "      <td>1</td>\n",
       "      <td>McLaren</td>\n",
       "      <td>Albert Park Grand Prix Circuit</td>\n",
       "    </tr>\n",
       "    <tr>\n",
       "      <th>96</th>\n",
       "      <td>11</td>\n",
       "      <td>4</td>\n",
       "      <td>5.000</td>\n",
       "      <td>58</td>\n",
       "      <td>58.000</td>\n",
       "      <td>01:28.6</td>\n",
       "      <td>215.464</td>\n",
       "      <td>2008</td>\n",
       "      <td>1</td>\n",
       "      <td>Renault</td>\n",
       "      <td>Albert Park Grand Prix Circuit</td>\n",
       "    </tr>\n",
       "    <tr>\n",
       "      <th>100</th>\n",
       "      <td>3</td>\n",
       "      <td>1</td>\n",
       "      <td>10.000</td>\n",
       "      <td>57</td>\n",
       "      <td>49.000</td>\n",
       "      <td>01:26.2</td>\n",
       "      <td>221.499</td>\n",
       "      <td>2006</td>\n",
       "      <td>1</td>\n",
       "      <td>Renault</td>\n",
       "      <td>Albert Park Grand Prix Circuit</td>\n",
       "    </tr>\n",
       "    <tr>\n",
       "      <th>...</th>\n",
       "      <td>...</td>\n",
       "      <td>...</td>\n",
       "      <td>...</td>\n",
       "      <td>...</td>\n",
       "      <td>...</td>\n",
       "      <td>...</td>\n",
       "      <td>...</td>\n",
       "      <td>...</td>\n",
       "      <td>...</td>\n",
       "      <td>...</td>\n",
       "      <td>...</td>\n",
       "    </tr>\n",
       "    <tr>\n",
       "      <th>22731</th>\n",
       "      <td>19</td>\n",
       "      <td>11</td>\n",
       "      <td>0.000</td>\n",
       "      <td>53</td>\n",
       "      <td>29.000</td>\n",
       "      <td>01:42.6</td>\n",
       "      <td>205.115</td>\n",
       "      <td>2015</td>\n",
       "      <td>71</td>\n",
       "      <td>McLaren</td>\n",
       "      <td>Sochi Autodrom</td>\n",
       "    </tr>\n",
       "    <tr>\n",
       "      <th>22732</th>\n",
       "      <td>14</td>\n",
       "      <td>6</td>\n",
       "      <td>8.000</td>\n",
       "      <td>52</td>\n",
       "      <td>52.000</td>\n",
       "      <td>01:40.3</td>\n",
       "      <td>209.799</td>\n",
       "      <td>2016</td>\n",
       "      <td>71</td>\n",
       "      <td>McLaren</td>\n",
       "      <td>Sochi Autodrom</td>\n",
       "    </tr>\n",
       "    <tr>\n",
       "      <th>22756</th>\n",
       "      <td>7</td>\n",
       "      <td>6</td>\n",
       "      <td>8.000</td>\n",
       "      <td>53</td>\n",
       "      <td>53.000</td>\n",
       "      <td>01:42.2</td>\n",
       "      <td>206.038</td>\n",
       "      <td>2014</td>\n",
       "      <td>71</td>\n",
       "      <td>Ferrari</td>\n",
       "      <td>Sochi Autodrom</td>\n",
       "    </tr>\n",
       "    <tr>\n",
       "      <th>22812</th>\n",
       "      <td>13</td>\n",
       "      <td>19</td>\n",
       "      <td>0.000</td>\n",
       "      <td>42</td>\n",
       "      <td>27.000</td>\n",
       "      <td>01:49.1</td>\n",
       "      <td>198.080</td>\n",
       "      <td>2016</td>\n",
       "      <td>73</td>\n",
       "      <td>McLaren</td>\n",
       "      <td>Baku City Circuit</td>\n",
       "    </tr>\n",
       "    <tr>\n",
       "      <th>22813</th>\n",
       "      <td>19</td>\n",
       "      <td>9</td>\n",
       "      <td>2.000</td>\n",
       "      <td>51</td>\n",
       "      <td>49.000</td>\n",
       "      <td>01:45.2</td>\n",
       "      <td>205.488</td>\n",
       "      <td>2017</td>\n",
       "      <td>73</td>\n",
       "      <td>McLaren</td>\n",
       "      <td>Baku City Circuit</td>\n",
       "    </tr>\n",
       "  </tbody>\n",
       "</table>\n",
       "<p>248 rows × 11 columns</p>\n",
       "</div>"
      ],
      "text/plain": [
       "       grid  positionOrder  points  laps  fastestLap fastestLapTime  \\\n",
       "2         2              2   8.000    58      20.000        01:26.3   \n",
       "41       11             21   0.000    16      14.000        01:32.6   \n",
       "43       12             14   0.000    50      48.000        01:30.1   \n",
       "96       11              4   5.000    58      58.000        01:28.6   \n",
       "100       3              1  10.000    57      49.000        01:26.2   \n",
       "...     ...            ...     ...   ...         ...            ...   \n",
       "22731    19             11   0.000    53      29.000        01:42.6   \n",
       "22732    14              6   8.000    52      52.000        01:40.3   \n",
       "22756     7              6   8.000    53      53.000        01:42.2   \n",
       "22812    13             19   0.000    42      27.000        01:49.1   \n",
       "22813    19              9   2.000    51      49.000        01:45.2   \n",
       "\n",
       "       fastestLapSpeed  year  circuitId   name_y  \\\n",
       "2              221.178  2007          1  McLaren   \n",
       "41             206.268  2016          1  McLaren   \n",
       "43             211.938  2017          1  McLaren   \n",
       "96             215.464  2008          1  Renault   \n",
       "100            221.499  2006          1  Renault   \n",
       "...                ...   ...        ...      ...   \n",
       "22731          205.115  2015         71  McLaren   \n",
       "22732          209.799  2016         71  McLaren   \n",
       "22756          206.038  2014         71  Ferrari   \n",
       "22812          198.080  2016         73  McLaren   \n",
       "22813          205.488  2017         73  McLaren   \n",
       "\n",
       "                                 name  \n",
       "2      Albert Park Grand Prix Circuit  \n",
       "41     Albert Park Grand Prix Circuit  \n",
       "43     Albert Park Grand Prix Circuit  \n",
       "96     Albert Park Grand Prix Circuit  \n",
       "100    Albert Park Grand Prix Circuit  \n",
       "...                               ...  \n",
       "22731                  Sochi Autodrom  \n",
       "22732                  Sochi Autodrom  \n",
       "22756                  Sochi Autodrom  \n",
       "22812               Baku City Circuit  \n",
       "22813               Baku City Circuit  \n",
       "\n",
       "[248 rows x 11 columns]"
      ]
     },
     "execution_count": 8,
     "metadata": {},
     "output_type": "execute_result"
    }
   ],
   "source": [
    "datasetFernando = datasetFernando.dropna(subset=[\"fastestLapTime\"])\n",
    "datasetFernando"
   ]
  },
  {
   "cell_type": "markdown",
   "metadata": {},
   "source": [
    "Una vez eliminados los valores nulos, pasaremos los minutos a segundos y asi tendremos la fastestLapTime en segundos y por lo tanto podremos transformala en un atributo de tipo numérico."
   ]
  },
  {
   "cell_type": "code",
   "execution_count": 9,
   "metadata": {},
   "outputs": [],
   "source": [
    "for i in range(248):\n",
    "    s = datasetFernando['fastestLapTime'].iloc[i]\n",
    "    sp = s.split(sep=':', maxsplit=3)\n",
    "    fastestLapTime = float(sp[0])*60 + float(sp[1])\n",
    "    datasetFernando['fastestLapTime'].iloc[i] = fastestLapTime"
   ]
  },
  {
   "cell_type": "code",
   "execution_count": 10,
   "metadata": {},
   "outputs": [
    {
     "data": {
      "text/html": [
       "<div>\n",
       "<style scoped>\n",
       "    .dataframe tbody tr th:only-of-type {\n",
       "        vertical-align: middle;\n",
       "    }\n",
       "\n",
       "    .dataframe tbody tr th {\n",
       "        vertical-align: top;\n",
       "    }\n",
       "\n",
       "    .dataframe thead th {\n",
       "        text-align: right;\n",
       "    }\n",
       "</style>\n",
       "<table border=\"1\" class=\"dataframe\">\n",
       "  <thead>\n",
       "    <tr style=\"text-align: right;\">\n",
       "      <th></th>\n",
       "      <th>grid</th>\n",
       "      <th>positionOrder</th>\n",
       "      <th>points</th>\n",
       "      <th>laps</th>\n",
       "      <th>fastestLap</th>\n",
       "      <th>fastestLapTime</th>\n",
       "      <th>fastestLapSpeed</th>\n",
       "      <th>year</th>\n",
       "      <th>circuitId</th>\n",
       "      <th>name_y</th>\n",
       "      <th>name</th>\n",
       "    </tr>\n",
       "  </thead>\n",
       "  <tbody>\n",
       "    <tr>\n",
       "      <th>2</th>\n",
       "      <td>2</td>\n",
       "      <td>2</td>\n",
       "      <td>8.000</td>\n",
       "      <td>58</td>\n",
       "      <td>20.000</td>\n",
       "      <td>86.300</td>\n",
       "      <td>221.178</td>\n",
       "      <td>2007</td>\n",
       "      <td>1</td>\n",
       "      <td>McLaren</td>\n",
       "      <td>Albert Park Grand Prix Circuit</td>\n",
       "    </tr>\n",
       "    <tr>\n",
       "      <th>41</th>\n",
       "      <td>11</td>\n",
       "      <td>21</td>\n",
       "      <td>0.000</td>\n",
       "      <td>16</td>\n",
       "      <td>14.000</td>\n",
       "      <td>92.600</td>\n",
       "      <td>206.268</td>\n",
       "      <td>2016</td>\n",
       "      <td>1</td>\n",
       "      <td>McLaren</td>\n",
       "      <td>Albert Park Grand Prix Circuit</td>\n",
       "    </tr>\n",
       "    <tr>\n",
       "      <th>43</th>\n",
       "      <td>12</td>\n",
       "      <td>14</td>\n",
       "      <td>0.000</td>\n",
       "      <td>50</td>\n",
       "      <td>48.000</td>\n",
       "      <td>90.100</td>\n",
       "      <td>211.938</td>\n",
       "      <td>2017</td>\n",
       "      <td>1</td>\n",
       "      <td>McLaren</td>\n",
       "      <td>Albert Park Grand Prix Circuit</td>\n",
       "    </tr>\n",
       "    <tr>\n",
       "      <th>96</th>\n",
       "      <td>11</td>\n",
       "      <td>4</td>\n",
       "      <td>5.000</td>\n",
       "      <td>58</td>\n",
       "      <td>58.000</td>\n",
       "      <td>88.600</td>\n",
       "      <td>215.464</td>\n",
       "      <td>2008</td>\n",
       "      <td>1</td>\n",
       "      <td>Renault</td>\n",
       "      <td>Albert Park Grand Prix Circuit</td>\n",
       "    </tr>\n",
       "    <tr>\n",
       "      <th>100</th>\n",
       "      <td>3</td>\n",
       "      <td>1</td>\n",
       "      <td>10.000</td>\n",
       "      <td>57</td>\n",
       "      <td>49.000</td>\n",
       "      <td>86.200</td>\n",
       "      <td>221.499</td>\n",
       "      <td>2006</td>\n",
       "      <td>1</td>\n",
       "      <td>Renault</td>\n",
       "      <td>Albert Park Grand Prix Circuit</td>\n",
       "    </tr>\n",
       "    <tr>\n",
       "      <th>...</th>\n",
       "      <td>...</td>\n",
       "      <td>...</td>\n",
       "      <td>...</td>\n",
       "      <td>...</td>\n",
       "      <td>...</td>\n",
       "      <td>...</td>\n",
       "      <td>...</td>\n",
       "      <td>...</td>\n",
       "      <td>...</td>\n",
       "      <td>...</td>\n",
       "      <td>...</td>\n",
       "    </tr>\n",
       "    <tr>\n",
       "      <th>22731</th>\n",
       "      <td>19</td>\n",
       "      <td>11</td>\n",
       "      <td>0.000</td>\n",
       "      <td>53</td>\n",
       "      <td>29.000</td>\n",
       "      <td>102.600</td>\n",
       "      <td>205.115</td>\n",
       "      <td>2015</td>\n",
       "      <td>71</td>\n",
       "      <td>McLaren</td>\n",
       "      <td>Sochi Autodrom</td>\n",
       "    </tr>\n",
       "    <tr>\n",
       "      <th>22732</th>\n",
       "      <td>14</td>\n",
       "      <td>6</td>\n",
       "      <td>8.000</td>\n",
       "      <td>52</td>\n",
       "      <td>52.000</td>\n",
       "      <td>100.300</td>\n",
       "      <td>209.799</td>\n",
       "      <td>2016</td>\n",
       "      <td>71</td>\n",
       "      <td>McLaren</td>\n",
       "      <td>Sochi Autodrom</td>\n",
       "    </tr>\n",
       "    <tr>\n",
       "      <th>22756</th>\n",
       "      <td>7</td>\n",
       "      <td>6</td>\n",
       "      <td>8.000</td>\n",
       "      <td>53</td>\n",
       "      <td>53.000</td>\n",
       "      <td>102.200</td>\n",
       "      <td>206.038</td>\n",
       "      <td>2014</td>\n",
       "      <td>71</td>\n",
       "      <td>Ferrari</td>\n",
       "      <td>Sochi Autodrom</td>\n",
       "    </tr>\n",
       "    <tr>\n",
       "      <th>22812</th>\n",
       "      <td>13</td>\n",
       "      <td>19</td>\n",
       "      <td>0.000</td>\n",
       "      <td>42</td>\n",
       "      <td>27.000</td>\n",
       "      <td>109.100</td>\n",
       "      <td>198.080</td>\n",
       "      <td>2016</td>\n",
       "      <td>73</td>\n",
       "      <td>McLaren</td>\n",
       "      <td>Baku City Circuit</td>\n",
       "    </tr>\n",
       "    <tr>\n",
       "      <th>22813</th>\n",
       "      <td>19</td>\n",
       "      <td>9</td>\n",
       "      <td>2.000</td>\n",
       "      <td>51</td>\n",
       "      <td>49.000</td>\n",
       "      <td>105.200</td>\n",
       "      <td>205.488</td>\n",
       "      <td>2017</td>\n",
       "      <td>73</td>\n",
       "      <td>McLaren</td>\n",
       "      <td>Baku City Circuit</td>\n",
       "    </tr>\n",
       "  </tbody>\n",
       "</table>\n",
       "<p>248 rows × 11 columns</p>\n",
       "</div>"
      ],
      "text/plain": [
       "       grid  positionOrder  points  laps  fastestLap  fastestLapTime  \\\n",
       "2         2              2   8.000    58      20.000          86.300   \n",
       "41       11             21   0.000    16      14.000          92.600   \n",
       "43       12             14   0.000    50      48.000          90.100   \n",
       "96       11              4   5.000    58      58.000          88.600   \n",
       "100       3              1  10.000    57      49.000          86.200   \n",
       "...     ...            ...     ...   ...         ...             ...   \n",
       "22731    19             11   0.000    53      29.000         102.600   \n",
       "22732    14              6   8.000    52      52.000         100.300   \n",
       "22756     7              6   8.000    53      53.000         102.200   \n",
       "22812    13             19   0.000    42      27.000         109.100   \n",
       "22813    19              9   2.000    51      49.000         105.200   \n",
       "\n",
       "       fastestLapSpeed  year  circuitId   name_y  \\\n",
       "2              221.178  2007          1  McLaren   \n",
       "41             206.268  2016          1  McLaren   \n",
       "43             211.938  2017          1  McLaren   \n",
       "96             215.464  2008          1  Renault   \n",
       "100            221.499  2006          1  Renault   \n",
       "...                ...   ...        ...      ...   \n",
       "22731          205.115  2015         71  McLaren   \n",
       "22732          209.799  2016         71  McLaren   \n",
       "22756          206.038  2014         71  Ferrari   \n",
       "22812          198.080  2016         73  McLaren   \n",
       "22813          205.488  2017         73  McLaren   \n",
       "\n",
       "                                 name  \n",
       "2      Albert Park Grand Prix Circuit  \n",
       "41     Albert Park Grand Prix Circuit  \n",
       "43     Albert Park Grand Prix Circuit  \n",
       "96     Albert Park Grand Prix Circuit  \n",
       "100    Albert Park Grand Prix Circuit  \n",
       "...                               ...  \n",
       "22731                  Sochi Autodrom  \n",
       "22732                  Sochi Autodrom  \n",
       "22756                  Sochi Autodrom  \n",
       "22812               Baku City Circuit  \n",
       "22813               Baku City Circuit  \n",
       "\n",
       "[248 rows x 11 columns]"
      ]
     },
     "execution_count": 10,
     "metadata": {},
     "output_type": "execute_result"
    }
   ],
   "source": [
    "datasetFernando[\"fastestLapTime\"] = pd.to_numeric(datasetFernando[\"fastestLapTime\"])\n",
    "datasetFernando"
   ]
  },
  {
   "cell_type": "markdown",
   "metadata": {},
   "source": [
    "Finalmente, estos serian los tipos datos de nuestros atributos."
   ]
  },
  {
   "cell_type": "code",
   "execution_count": 11,
   "metadata": {},
   "outputs": [
    {
     "data": {
      "text/plain": [
       "grid                 int64\n",
       "positionOrder        int64\n",
       "points             float64\n",
       "laps                 int64\n",
       "fastestLap         float64\n",
       "fastestLapTime     float64\n",
       "fastestLapSpeed    float64\n",
       "year                 int64\n",
       "circuitId            int64\n",
       "name_y              object\n",
       "name                object\n",
       "dtype: object"
      ]
     },
     "execution_count": 11,
     "metadata": {},
     "output_type": "execute_result"
    }
   ],
   "source": [
    "datasetFernando.dtypes"
   ]
  },
  {
   "cell_type": "markdown",
   "metadata": {},
   "source": [
    "A continuación, visualiaremos la correlació que existe entre los diversos atributos de nuestro dataset. "
   ]
  },
  {
   "cell_type": "code",
   "execution_count": 12,
   "metadata": {},
   "outputs": [
    {
     "data": {
      "image/png": "[encoded data removed]",
      "text/plain": [
       "<Figure size 432x288 with 2 Axes>"
      ]
     },
     "metadata": {
      "needs_background": "light"
     },
     "output_type": "display_data"
    }
   ],
   "source": [
    "correlacio = datasetFernando.corr()\n",
    "plt.figure()\n",
    "ax = sns.heatmap(correlacio, annot=True, annot_kws={\"size\": 6.5})"
   ]
  },
  {
   "cell_type": "markdown",
   "metadata": {},
   "source": [
    "Como nuestro atributo a predecir es la posición final de la carrera, nos fijaremos en el atributo positionOrder que justamente muestra esto. Como podemos observar, hay un atributo con una correlación positiva basante elevada el cual es grid. Tiene bastante sentido esta alta correlación ya que el grid, como antes se ha explicado, es la posición de salida. A parte de este, year y fastLapTime también tienen una correlación positiva notable y tendremos que tenerlos en cuenta para posibles predicciones. \n",
    "A su vez, laps y fastestLap tienen correlaciones negativas muy elevadas con positionOrder y aunque sean negativas debemos tenerlas en cuenta ya que pueden ayudar a la hora de predecir. \n",
    "También es verdad que el atributo points tiene una alta correlación negativa pero como este atributo justamente viene determinado por la positionOrder (posición final) no podemos utilizarla en predicciones. Basicamente, tu sabes los puntos que harás dependiendo de tu posición final, por lo que no podemos utilizar el atributo points para predecir."
   ]
  },
  {
   "cell_type": "markdown",
   "metadata": {},
   "source": [
    "A continuación, visualizaremos algunas estadísticas a lo largo de la carrera de Fernando Alonso. "
   ]
  },
  {
   "cell_type": "code",
   "execution_count": 13,
   "metadata": {},
   "outputs": [
    {
     "data": {
      "image/png": "[encoded data removed]",
      "text/plain": [
       "<Figure size 432x288 with 1 Axes>"
      ]
     },
     "metadata": {
      "needs_background": "light"
     },
     "output_type": "display_data"
    }
   ],
   "source": [
    "escuderia = datasetFernando['name_y']\n",
    "plt.figure()\n",
    "plt.title(\"Número de carreras con cada escuderia\")\n",
    "plt.xlabel(\"Escuderia\")\n",
    "plt.ylabel(\"Número de carreras\")\n",
    "hist = plt.hist(escuderia,10)"
   ]
  },
  {
   "cell_type": "markdown",
   "metadata": {},
   "source": [
    "Como podemos observar, Fernando Alonso desde el inicio de su carrera hasta 2017 ha pilotado para 3 escuderias: McLaren, Renault y Ferrari."
   ]
  },
  {
   "cell_type": "code",
   "execution_count": 15,
   "metadata": {},
   "outputs": [
    {
     "data": {
      "text/plain": [
       "<Figure size 432x288 with 0 Axes>"
      ]
     },
     "metadata": {},
     "output_type": "display_data"
    },
    {
     "data": {
      "image/png": "[encoded data removed]",
      "text/plain": [
       "<Figure size 558x360 with 1 Axes>"
      ]
     },
     "metadata": {
      "needs_background": "light"
     },
     "output_type": "display_data"
    }
   ],
   "source": [
    "plt.figure()\n",
    "sns.displot(datasetFernando, x='positionOrder', hue='name',binwidth=0.5,multiple=\"stack\", edgecolor='black', \n",
    "linewidth=0.5)\n",
    "plt.show()"
   ]
  },
  {
   "cell_type": "markdown",
   "metadata": {},
   "source": [
    "En esta gráfica podemos observar como la mayoria de resultados de Fernando Alonso en sus carreras han sido entre la primera y la quinta posisción, siendo la segunda posición la que más veces ha obtenido. En la siguiente gráfica veremos que circuitos son los que más veces ha visitado Fernando."
   ]
  },
  {
   "cell_type": "code",
   "execution_count": 16,
   "metadata": {},
   "outputs": [
    {
     "data": {
      "text/plain": [
       "<Figure size 432x288 with 0 Axes>"
      ]
     },
     "metadata": {},
     "output_type": "display_data"
    },
    {
     "data": {
      "image/png": "[encoded data removed]",
      "text/plain": [
       "<Figure size 438.125x360 with 1 Axes>"
      ]
     },
     "metadata": {
      "needs_background": "light"
     },
     "output_type": "display_data"
    }
   ],
   "source": [
    "plt.figure()\n",
    "dis = sns.displot(datasetFernando, x='name', hue='name_y',binwidth=50,multiple=\"stack\", edgecolor='black', \n",
    "linewidth=0.5)\n",
    "dis.set_xticklabels(rotation=90)\n",
    "plt.show()\n"
   ]
  },
  {
   "cell_type": "markdown",
   "metadata": {},
   "source": [
    "Podemos observar que en 4 distintos circuitos ha disputado 14 carreras desde el inicio de su carrera hasta 2017. Estos 4 circuitos son los de: Catalunya, Silverstone, Hungaroring y Monza. \n",
    "Y ha disputado 13 carreras en circuitos como los de: Sepang, Shangai, Albert Park, Monaco, Guilles y Carlos Pace.\n",
    "Ya que hemos visualizado también las distintas escuderias a las cuales ha pertenecido, en la siguiente gráfica comprobaremos los resultados obtenidos con cada una de ellas."
   ]
  },
  {
   "cell_type": "code",
   "execution_count": 17,
   "metadata": {
    "scrolled": false
   },
   "outputs": [
    {
     "data": {
      "text/plain": [
       "<Figure size 432x288 with 0 Axes>"
      ]
     },
     "metadata": {},
     "output_type": "display_data"
    },
    {
     "data": {
      "image/png": "[encoded data removed]",
      "text/plain": [
       "<Figure size 438.125x360 with 1 Axes>"
      ]
     },
     "metadata": {
      "needs_background": "light"
     },
     "output_type": "display_data"
    }
   ],
   "source": [
    "plt.figure()\n",
    "dis = sns.displot(datasetFernando, x='positionOrder', hue='name_y',binwidth=0.5,multiple=\"stack\", edgecolor='black', \n",
    "linewidth=0.5)\n",
    "plt.show()"
   ]
  },
  {
   "cell_type": "markdown",
   "metadata": {},
   "source": [
    "Si observamos la gráfica, podemos ver como los mejores resultados los ha obtenido cuando pilotaba para Renault o para Ferrari y con McLaren fue muy irregular y tanto podia quedar de los primeros como de los últimos"
   ]
  },
  {
   "cell_type": "markdown",
   "metadata": {},
   "source": [
    "A continuación miraremos los puntos los cuales ha obtenido Fernando Alonso en su carrera. Tenemos que tener en cuenta que en el año 2009 fue la última temporada donde solo puntuaban hasta el octavo y donde el ganador recibía 10 puntos. Desde entonces, acabar en el top 10 de una carrera de F1 supone puntos y una victoria te da nada menos que 25."
   ]
  },
  {
   "cell_type": "code",
   "execution_count": 18,
   "metadata": {},
   "outputs": [
    {
     "data": {
      "image/png": "[encoded data removed]",
      "text/plain": [
       "<Figure size 360x360 with 1 Axes>"
      ]
     },
     "metadata": {
      "needs_background": "light"
     },
     "output_type": "display_data"
    }
   ],
   "source": [
    "sns.displot(datasetFernando['points'], binwidth=1, multiple=\"stack\")\n",
    "plt.show()"
   ]
  },
  {
   "cell_type": "markdown",
   "metadata": {},
   "source": [
    "Como podemos observar muchas veces ha obtenido 0 puntos, esto debido a que quedo por debajo de la octava posición, antes de la modificación de reglamento antes explicada, o por debajo de la decima posisición, después de la modificación de reglamento explicada.\n",
    "También otras de sus puntuaciones más comunes son 10, 8, 6 y 18 puntos."
   ]
  },
  {
   "cell_type": "code",
   "execution_count": 19,
   "metadata": {},
   "outputs": [
    {
     "data": {
      "image/png": "[encoded data removed]",
      "text/plain": [
       "<Figure size 432x288 with 1 Axes>"
      ]
     },
     "metadata": {},
     "output_type": "display_data"
    }
   ],
   "source": [
    "sns.set_theme()\n",
    "sns.scatterplot(data=datasetFernando, x='year',y='fastestLapSpeed', hue='name_y' )\n",
    "plt.show()"
   ]
  },
  {
   "cell_type": "markdown",
   "metadata": {},
   "source": [
    "Podemos observar que las máximas velocidades las cuales ha alcanzado Fernando Alonso fueron entre 2004 y 2007. Esto puede ser un claro indicio de como a medida que han pasado los años los coches han ido sufriendo cambios para que la competición sea más igualada y se contamine menos y estos cambios han ralentizado los coches. Cabe decir que la velocidad de ellos tampoco ha decrementado de una manera increible pero hay un leve cambio. También tiene que ver bastante la escuderia a la cual pertenecia en ese momento y como podemos ver con Renault ha sido donde mayoritariamente ha conseguido mejores velocidades.\n",
    "\n",
    "\n",
    "\n",
    "     \n"
   ]
  },
  {
   "cell_type": "markdown",
   "metadata": {},
   "source": [
    "## 4. Preprocessing"
   ]
  },
  {
   "cell_type": "markdown",
   "metadata": {},
   "source": [
    "Empezaremos este primer apartado comprobando si existen muchos datos sin información en nuestro dataset."
   ]
  },
  {
   "cell_type": "code",
   "execution_count": 20,
   "metadata": {},
   "outputs": [
    {
     "data": {
      "text/plain": [
       "grid               0\n",
       "positionOrder      0\n",
       "points             0\n",
       "laps               0\n",
       "fastestLap         0\n",
       "fastestLapTime     0\n",
       "fastestLapSpeed    0\n",
       "year               0\n",
       "circuitId          0\n",
       "name_y             0\n",
       "name               0\n",
       "dtype: int64"
      ]
     },
     "execution_count": 20,
     "metadata": {},
     "output_type": "execute_result"
    }
   ],
   "source": [
    "datasetFernando.isnull().sum()"
   ]
  },
  {
   "cell_type": "markdown",
   "metadata": {},
   "source": [
    "Como podemos observar, no existen datos nulos. Esto es debido a que anteriormente ya hemos tenido que eliminar algunos valores nulos para poder pasar el atributo fastestLapTime a numérico y respecto a los demas atributos, podemos observar como tampoco tienen valores nulos por lo que no modificaremos nada."
   ]
  },
  {
   "cell_type": "markdown",
   "metadata": {},
   "source": [
    "A continuación comprobaremos si nuestra base de datos contiene valores extremos o anormales los cuales pueden afectar a la predicción."
   ]
  },
  {
   "cell_type": "code",
   "execution_count": 25,
   "metadata": {},
   "outputs": [
    {
     "data": {
      "image/png": "[encoded data removed]",
      "text/plain": [
       "<Figure size 360x360 with 1 Axes>"
      ]
     },
     "metadata": {},
     "output_type": "display_data"
    },
    {
     "data": {
      "image/png": "[encoded data removed]",
      "text/plain": [
       "<Figure size 432x288 with 1 Axes>"
      ]
     },
     "metadata": {},
     "output_type": "display_data"
    },
    {
     "data": {
      "image/png": "[encoded data removed]",
      "text/plain": [
       "<Figure size 360x360 with 1 Axes>"
      ]
     },
     "metadata": {},
     "output_type": "display_data"
    },
    {
     "data": {
      "image/png": "[encoded data removed]",
      "text/plain": [
       "<Figure size 432x288 with 1 Axes>"
      ]
     },
     "metadata": {},
     "output_type": "display_data"
    },
    {
     "data": {
      "image/png": "[encoded data removed]",
      "text/plain": [
       "<Figure size 360x360 with 1 Axes>"
      ]
     },
     "metadata": {},
     "output_type": "display_data"
    },
    {
     "data": {
      "image/png": "[encoded data removed]",
      "text/plain": [
       "<Figure size 432x288 with 1 Axes>"
      ]
     },
     "metadata": {},
     "output_type": "display_data"
    },
    {
     "data": {
      "image/png": "[encoded data removed]",
      "text/plain": [
       "<Figure size 360x360 with 1 Axes>"
      ]
     },
     "metadata": {},
     "output_type": "display_data"
    },
    {
     "data": {
      "image/png": "[encoded data removed]",
      "text/plain": [
       "<Figure size 432x288 with 1 Axes>"
      ]
     },
     "metadata": {},
     "output_type": "display_data"
    },
    {
     "data": {
      "image/png": "[encoded data removed]",
      "text/plain": [
       "<Figure size 360x360 with 1 Axes>"
      ]
     },
     "metadata": {},
     "output_type": "display_data"
    },
    {
     "data": {
      "image/png": "[encoded data removed]",
      "text/plain": [
       "<Figure size 432x288 with 1 Axes>"
      ]
     },
     "metadata": {},
     "output_type": "display_data"
    },
    {
     "data": {
      "image/png": "[encoded data removed]",
      "text/plain": [
       "<Figure size 360x360 with 1 Axes>"
      ]
     },
     "metadata": {},
     "output_type": "display_data"
    },
    {
     "data": {
      "image/png": "[encoded data removed]",
      "text/plain": [
       "<Figure size 432x288 with 1 Axes>"
      ]
     },
     "metadata": {},
     "output_type": "display_data"
    },
    {
     "data": {
      "image/png": "[encoded data removed]",
      "text/plain": [
       "<Figure size 360x360 with 1 Axes>"
      ]
     },
     "metadata": {},
     "output_type": "display_data"
    },
    {
     "data": {
      "image/png": "[encoded data removed]",
      "text/plain": [
       "<Figure size 432x288 with 1 Axes>"
      ]
     },
     "metadata": {},
     "output_type": "display_data"
    },
    {
     "data": {
      "image/png": "[encoded data removed]",
      "text/plain": [
       "<Figure size 360x360 with 1 Axes>"
      ]
     },
     "metadata": {},
     "output_type": "display_data"
    },
    {
     "data": {
      "image/png": "[encoded data removed]",
      "text/plain": [
       "<Figure size 432x288 with 1 Axes>"
      ]
     },
     "metadata": {},
     "output_type": "display_data"
    }
   ],
   "source": [
    "sns.displot(datasetFernando['grid'], binwidth=1, multiple=\"stack\")\n",
    "plt.show()\n",
    "sns.boxplot(datasetFernando['grid'])\n",
    "plt.show()\n",
    "\n",
    "sns.displot(datasetFernando['positionOrder'], binwidth=1, multiple=\"stack\")\n",
    "plt.show()\n",
    "sns.boxplot(datasetFernando['positionOrder'])\n",
    "plt.show()\n",
    "\n",
    "sns.displot(datasetFernando['points'], binwidth=1, multiple=\"stack\")\n",
    "plt.show()\n",
    "sns.boxplot(datasetFernando['points'])\n",
    "plt.show()\n",
    "\n",
    "sns.displot(datasetFernando['laps'], binwidth=1, multiple=\"stack\")\n",
    "plt.show()\n",
    "sns.boxplot(datasetFernando['laps'])\n",
    "plt.show()\n",
    "\n",
    "sns.displot(datasetFernando['fastestLap'], binwidth=5, multiple=\"stack\")\n",
    "plt.show()\n",
    "sns.boxplot(datasetFernando['fastestLap'])\n",
    "plt.show()\n",
    "\n",
    "sns.displot(datasetFernando['fastestLapTime'], binwidth=5, multiple=\"stack\")\n",
    "plt.show()\n",
    "sns.boxplot(datasetFernando['fastestLapTime'])\n",
    "plt.show()\n",
    "\n",
    "sns.displot(datasetFernando['fastestLapSpeed'], binwidth=20, multiple=\"stack\")\n",
    "plt.show()\n",
    "sns.boxplot(datasetFernando['fastestLapSpeed'])\n",
    "plt.show()\n",
    "\n",
    "\n",
    "sns.displot(datasetFernando['year'], binwidth=10, multiple=\"stack\")\n",
    "plt.show()\n",
    "sns.boxplot(datasetFernando['year'])\n",
    "plt.show()\n",
    "\n"
   ]
  },
  {
   "cell_type": "markdown",
   "metadata": {},
   "source": [
    "Como podemos observar, no hay ningún valor fuera de lo normal o extremo por lo que no eliminaremos ninguna muestra. Aunque en laps haya valores como 10 o similares que parezcan raros o anormales estos no son valores anormales en la formula 1 ya que seguramente Fernando en esa carrera tuvo un accidente o tuvo que retirarse en esa vuelta en concreto. También podemos observar como no hay ningún atributo donde se vea claramente una distribución normal. "
   ]
  },
  {
   "cell_type": "markdown",
   "metadata": {},
   "source": [
    "Para evitar posibles casos de inexactitud de datos y/o inefiencia de operaciones vamos a normalizar nuestros datos. Como únicamente se pueden normalizar datos númericos, los atributos los cuales anteriormente no fueron eliminados porque eran strings útiles para ciertas gráficas ahora pueden ser eliminados.\n",
    "En nuestro caso utilizaremos la Standarization, con este proceso conseguiremos optimizar el aprendizaje del modelo de tal manera que todos los atributos de entrada estarán dentro de la misma escala y por lo tanto no habrán atributos que tengan un peso más elevado que otros solo por la escala de sus datos.\n",
    "\n",
    "A su vez, como queremos predecir el resultado en algunas de sus carreras seleccionaremos las muestras de las carreras que más veces ha visitado Fernando, los cuales hemos visto anteriormente que eran:  Sepang, Catalunya, Silverstone, Hungaroring, Monza, Autodromo Carlos Pace, Shangai, Albert Park, Monaco y Guilles.\n",
    "\n"
   ]
  },
  {
   "cell_type": "code",
   "execution_count": 26,
   "metadata": {},
   "outputs": [
    {
     "data": {
      "text/html": [
       "<div>\n",
       "<style scoped>\n",
       "    .dataframe tbody tr th:only-of-type {\n",
       "        vertical-align: middle;\n",
       "    }\n",
       "\n",
       "    .dataframe tbody tr th {\n",
       "        vertical-align: top;\n",
       "    }\n",
       "\n",
       "    .dataframe thead th {\n",
       "        text-align: right;\n",
       "    }\n",
       "</style>\n",
       "<table border=\"1\" class=\"dataframe\">\n",
       "  <thead>\n",
       "    <tr style=\"text-align: right;\">\n",
       "      <th></th>\n",
       "      <th>grid</th>\n",
       "      <th>positionOrder</th>\n",
       "      <th>points</th>\n",
       "      <th>laps</th>\n",
       "      <th>fastestLap</th>\n",
       "      <th>fastestLapTime</th>\n",
       "      <th>fastestLapSpeed</th>\n",
       "      <th>year</th>\n",
       "      <th>circuitId</th>\n",
       "      <th>name_y</th>\n",
       "      <th>name</th>\n",
       "    </tr>\n",
       "  </thead>\n",
       "  <tbody>\n",
       "    <tr>\n",
       "      <th>2</th>\n",
       "      <td>2</td>\n",
       "      <td>2</td>\n",
       "      <td>8.000</td>\n",
       "      <td>58</td>\n",
       "      <td>20.000</td>\n",
       "      <td>86.300</td>\n",
       "      <td>221.178</td>\n",
       "      <td>2007</td>\n",
       "      <td>1</td>\n",
       "      <td>McLaren</td>\n",
       "      <td>Albert Park Grand Prix Circuit</td>\n",
       "    </tr>\n",
       "    <tr>\n",
       "      <th>41</th>\n",
       "      <td>11</td>\n",
       "      <td>21</td>\n",
       "      <td>0.000</td>\n",
       "      <td>16</td>\n",
       "      <td>14.000</td>\n",
       "      <td>92.600</td>\n",
       "      <td>206.268</td>\n",
       "      <td>2016</td>\n",
       "      <td>1</td>\n",
       "      <td>McLaren</td>\n",
       "      <td>Albert Park Grand Prix Circuit</td>\n",
       "    </tr>\n",
       "    <tr>\n",
       "      <th>43</th>\n",
       "      <td>12</td>\n",
       "      <td>14</td>\n",
       "      <td>0.000</td>\n",
       "      <td>50</td>\n",
       "      <td>48.000</td>\n",
       "      <td>90.100</td>\n",
       "      <td>211.938</td>\n",
       "      <td>2017</td>\n",
       "      <td>1</td>\n",
       "      <td>McLaren</td>\n",
       "      <td>Albert Park Grand Prix Circuit</td>\n",
       "    </tr>\n",
       "    <tr>\n",
       "      <th>96</th>\n",
       "      <td>11</td>\n",
       "      <td>4</td>\n",
       "      <td>5.000</td>\n",
       "      <td>58</td>\n",
       "      <td>58.000</td>\n",
       "      <td>88.600</td>\n",
       "      <td>215.464</td>\n",
       "      <td>2008</td>\n",
       "      <td>1</td>\n",
       "      <td>Renault</td>\n",
       "      <td>Albert Park Grand Prix Circuit</td>\n",
       "    </tr>\n",
       "    <tr>\n",
       "      <th>100</th>\n",
       "      <td>3</td>\n",
       "      <td>1</td>\n",
       "      <td>10.000</td>\n",
       "      <td>57</td>\n",
       "      <td>49.000</td>\n",
       "      <td>86.200</td>\n",
       "      <td>221.499</td>\n",
       "      <td>2006</td>\n",
       "      <td>1</td>\n",
       "      <td>Renault</td>\n",
       "      <td>Albert Park Grand Prix Circuit</td>\n",
       "    </tr>\n",
       "    <tr>\n",
       "      <th>...</th>\n",
       "      <td>...</td>\n",
       "      <td>...</td>\n",
       "      <td>...</td>\n",
       "      <td>...</td>\n",
       "      <td>...</td>\n",
       "      <td>...</td>\n",
       "      <td>...</td>\n",
       "      <td>...</td>\n",
       "      <td>...</td>\n",
       "      <td>...</td>\n",
       "      <td>...</td>\n",
       "    </tr>\n",
       "    <tr>\n",
       "      <th>11584</th>\n",
       "      <td>5</td>\n",
       "      <td>3</td>\n",
       "      <td>15.000</td>\n",
       "      <td>71</td>\n",
       "      <td>67.000</td>\n",
       "      <td>73.900</td>\n",
       "      <td>210.038</td>\n",
       "      <td>2010</td>\n",
       "      <td>18</td>\n",
       "      <td>Ferrari</td>\n",
       "      <td>Autodromo Jos̩ Carlos Pace</td>\n",
       "    </tr>\n",
       "    <tr>\n",
       "      <th>11586</th>\n",
       "      <td>5</td>\n",
       "      <td>4</td>\n",
       "      <td>12.000</td>\n",
       "      <td>71</td>\n",
       "      <td>65.000</td>\n",
       "      <td>76.200</td>\n",
       "      <td>203.625</td>\n",
       "      <td>2011</td>\n",
       "      <td>18</td>\n",
       "      <td>Ferrari</td>\n",
       "      <td>Autodromo Jos̩ Carlos Pace</td>\n",
       "    </tr>\n",
       "    <tr>\n",
       "      <th>11588</th>\n",
       "      <td>7</td>\n",
       "      <td>2</td>\n",
       "      <td>18.000</td>\n",
       "      <td>71</td>\n",
       "      <td>36.000</td>\n",
       "      <td>78.600</td>\n",
       "      <td>197.301</td>\n",
       "      <td>2012</td>\n",
       "      <td>18</td>\n",
       "      <td>Ferrari</td>\n",
       "      <td>Autodromo Jos̩ Carlos Pace</td>\n",
       "    </tr>\n",
       "    <tr>\n",
       "      <th>11590</th>\n",
       "      <td>3</td>\n",
       "      <td>3</td>\n",
       "      <td>15.000</td>\n",
       "      <td>71</td>\n",
       "      <td>50.000</td>\n",
       "      <td>75.500</td>\n",
       "      <td>205.473</td>\n",
       "      <td>2013</td>\n",
       "      <td>18</td>\n",
       "      <td>Ferrari</td>\n",
       "      <td>Autodromo Jos̩ Carlos Pace</td>\n",
       "    </tr>\n",
       "    <tr>\n",
       "      <th>11592</th>\n",
       "      <td>8</td>\n",
       "      <td>6</td>\n",
       "      <td>8.000</td>\n",
       "      <td>71</td>\n",
       "      <td>55.000</td>\n",
       "      <td>74.300</td>\n",
       "      <td>208.744</td>\n",
       "      <td>2014</td>\n",
       "      <td>18</td>\n",
       "      <td>Ferrari</td>\n",
       "      <td>Autodromo Jos̩ Carlos Pace</td>\n",
       "    </tr>\n",
       "  </tbody>\n",
       "</table>\n",
       "<p>134 rows × 11 columns</p>\n",
       "</div>"
      ],
      "text/plain": [
       "       grid  positionOrder  points  laps  fastestLap  fastestLapTime  \\\n",
       "2         2              2   8.000    58      20.000          86.300   \n",
       "41       11             21   0.000    16      14.000          92.600   \n",
       "43       12             14   0.000    50      48.000          90.100   \n",
       "96       11              4   5.000    58      58.000          88.600   \n",
       "100       3              1  10.000    57      49.000          86.200   \n",
       "...     ...            ...     ...   ...         ...             ...   \n",
       "11584     5              3  15.000    71      67.000          73.900   \n",
       "11586     5              4  12.000    71      65.000          76.200   \n",
       "11588     7              2  18.000    71      36.000          78.600   \n",
       "11590     3              3  15.000    71      50.000          75.500   \n",
       "11592     8              6   8.000    71      55.000          74.300   \n",
       "\n",
       "       fastestLapSpeed  year  circuitId   name_y  \\\n",
       "2              221.178  2007          1  McLaren   \n",
       "41             206.268  2016          1  McLaren   \n",
       "43             211.938  2017          1  McLaren   \n",
       "96             215.464  2008          1  Renault   \n",
       "100            221.499  2006          1  Renault   \n",
       "...                ...   ...        ...      ...   \n",
       "11584          210.038  2010         18  Ferrari   \n",
       "11586          203.625  2011         18  Ferrari   \n",
       "11588          197.301  2012         18  Ferrari   \n",
       "11590          205.473  2013         18  Ferrari   \n",
       "11592          208.744  2014         18  Ferrari   \n",
       "\n",
       "                                 name  \n",
       "2      Albert Park Grand Prix Circuit  \n",
       "41     Albert Park Grand Prix Circuit  \n",
       "43     Albert Park Grand Prix Circuit  \n",
       "96     Albert Park Grand Prix Circuit  \n",
       "100    Albert Park Grand Prix Circuit  \n",
       "...                               ...  \n",
       "11584      Autodromo Jos̩ Carlos Pace  \n",
       "11586      Autodromo Jos̩ Carlos Pace  \n",
       "11588      Autodromo Jos̩ Carlos Pace  \n",
       "11590      Autodromo Jos̩ Carlos Pace  \n",
       "11592      Autodromo Jos̩ Carlos Pace  \n",
       "\n",
       "[134 rows x 11 columns]"
      ]
     },
     "execution_count": 26,
     "metadata": {},
     "output_type": "execute_result"
    }
   ],
   "source": [
    "datasetFernando = datasetFernando[(datasetFernando['name'] == 'Sepang International Circuit') \n",
    "                                  | (datasetFernando['name'] == 'Circuit de Barcelona-Catalunya') | \n",
    "                                  (datasetFernando['name'] == 'Silverstone Circuit') | \n",
    "                                  (datasetFernando['name'] == 'Hungaroring') | \n",
    "                                  (datasetFernando['name'] == 'Autodromo Nazionale di Monza') | \n",
    "                                  (datasetFernando['name'] == 'Autodromo Jos̩ Carlos Pace') | \n",
    "                                  (datasetFernando['name'] == 'Albert Park Grand Prix Circuit') | \n",
    "                                  (datasetFernando['name'] == 'Circuit de Monaco') | \n",
    "                                  (datasetFernando['name'] == 'Circuit Gilles Villeneuve') | \n",
    "                                  (datasetFernando['name'] == 'Shanghai International Circuit')]\n",
    "datasetFernando"
   ]
  },
  {
   "cell_type": "code",
   "execution_count": 27,
   "metadata": {},
   "outputs": [
    {
     "data": {
      "text/html": [
       "<div>\n",
       "<style scoped>\n",
       "    .dataframe tbody tr th:only-of-type {\n",
       "        vertical-align: middle;\n",
       "    }\n",
       "\n",
       "    .dataframe tbody tr th {\n",
       "        vertical-align: top;\n",
       "    }\n",
       "\n",
       "    .dataframe thead th {\n",
       "        text-align: right;\n",
       "    }\n",
       "</style>\n",
       "<table border=\"1\" class=\"dataframe\">\n",
       "  <thead>\n",
       "    <tr style=\"text-align: right;\">\n",
       "      <th></th>\n",
       "      <th>grid</th>\n",
       "      <th>positionOrder</th>\n",
       "      <th>points</th>\n",
       "      <th>laps</th>\n",
       "      <th>fastestLap</th>\n",
       "      <th>fastestLapTime</th>\n",
       "      <th>fastestLapSpeed</th>\n",
       "      <th>year</th>\n",
       "      <th>circuitId</th>\n",
       "    </tr>\n",
       "  </thead>\n",
       "  <tbody>\n",
       "    <tr>\n",
       "      <th>0</th>\n",
       "      <td>-0.979</td>\n",
       "      <td>-0.860</td>\n",
       "      <td>0.126</td>\n",
       "      <td>-0.046</td>\n",
       "      <td>-1.356</td>\n",
       "      <td>-0.011</td>\n",
       "      <td>0.777</td>\n",
       "      <td>-0.843</td>\n",
       "      <td>-1.401</td>\n",
       "    </tr>\n",
       "    <tr>\n",
       "      <th>1</th>\n",
       "      <td>0.762</td>\n",
       "      <td>2.398</td>\n",
       "      <td>-1.073</td>\n",
       "      <td>-3.253</td>\n",
       "      <td>-1.706</td>\n",
       "      <td>0.688</td>\n",
       "      <td>0.137</td>\n",
       "      <td>1.377</td>\n",
       "      <td>-1.401</td>\n",
       "    </tr>\n",
       "    <tr>\n",
       "      <th>2</th>\n",
       "      <td>0.956</td>\n",
       "      <td>1.198</td>\n",
       "      <td>-1.073</td>\n",
       "      <td>-0.656</td>\n",
       "      <td>0.278</td>\n",
       "      <td>0.411</td>\n",
       "      <td>0.380</td>\n",
       "      <td>1.624</td>\n",
       "      <td>-1.401</td>\n",
       "    </tr>\n",
       "    <tr>\n",
       "      <th>3</th>\n",
       "      <td>0.762</td>\n",
       "      <td>-0.517</td>\n",
       "      <td>-0.323</td>\n",
       "      <td>-0.046</td>\n",
       "      <td>0.861</td>\n",
       "      <td>0.244</td>\n",
       "      <td>0.532</td>\n",
       "      <td>-0.597</td>\n",
       "      <td>-1.401</td>\n",
       "    </tr>\n",
       "    <tr>\n",
       "      <th>4</th>\n",
       "      <td>-0.785</td>\n",
       "      <td>-1.031</td>\n",
       "      <td>0.426</td>\n",
       "      <td>-0.122</td>\n",
       "      <td>0.336</td>\n",
       "      <td>-0.022</td>\n",
       "      <td>0.791</td>\n",
       "      <td>-1.090</td>\n",
       "      <td>-1.401</td>\n",
       "    </tr>\n",
       "    <tr>\n",
       "      <th>...</th>\n",
       "      <td>...</td>\n",
       "      <td>...</td>\n",
       "      <td>...</td>\n",
       "      <td>...</td>\n",
       "      <td>...</td>\n",
       "      <td>...</td>\n",
       "      <td>...</td>\n",
       "      <td>...</td>\n",
       "      <td>...</td>\n",
       "    </tr>\n",
       "    <tr>\n",
       "      <th>129</th>\n",
       "      <td>-0.398</td>\n",
       "      <td>-0.688</td>\n",
       "      <td>1.176</td>\n",
       "      <td>0.947</td>\n",
       "      <td>1.386</td>\n",
       "      <td>-1.387</td>\n",
       "      <td>0.299</td>\n",
       "      <td>-0.103</td>\n",
       "      <td>1.607</td>\n",
       "    </tr>\n",
       "    <tr>\n",
       "      <th>130</th>\n",
       "      <td>-0.398</td>\n",
       "      <td>-0.517</td>\n",
       "      <td>0.726</td>\n",
       "      <td>0.947</td>\n",
       "      <td>1.270</td>\n",
       "      <td>-1.132</td>\n",
       "      <td>0.023</td>\n",
       "      <td>0.144</td>\n",
       "      <td>1.607</td>\n",
       "    </tr>\n",
       "    <tr>\n",
       "      <th>131</th>\n",
       "      <td>-0.012</td>\n",
       "      <td>-0.860</td>\n",
       "      <td>1.625</td>\n",
       "      <td>0.947</td>\n",
       "      <td>-0.422</td>\n",
       "      <td>-0.866</td>\n",
       "      <td>-0.249</td>\n",
       "      <td>0.390</td>\n",
       "      <td>1.607</td>\n",
       "    </tr>\n",
       "    <tr>\n",
       "      <th>132</th>\n",
       "      <td>-0.785</td>\n",
       "      <td>-0.688</td>\n",
       "      <td>1.176</td>\n",
       "      <td>0.947</td>\n",
       "      <td>0.395</td>\n",
       "      <td>-1.210</td>\n",
       "      <td>0.103</td>\n",
       "      <td>0.637</td>\n",
       "      <td>1.607</td>\n",
       "    </tr>\n",
       "    <tr>\n",
       "      <th>133</th>\n",
       "      <td>0.182</td>\n",
       "      <td>-0.174</td>\n",
       "      <td>0.126</td>\n",
       "      <td>0.947</td>\n",
       "      <td>0.686</td>\n",
       "      <td>-1.343</td>\n",
       "      <td>0.243</td>\n",
       "      <td>0.884</td>\n",
       "      <td>1.607</td>\n",
       "    </tr>\n",
       "  </tbody>\n",
       "</table>\n",
       "<p>134 rows × 9 columns</p>\n",
       "</div>"
      ],
      "text/plain": [
       "      grid  positionOrder  points   laps  fastestLap  fastestLapTime  \\\n",
       "0   -0.979         -0.860   0.126 -0.046      -1.356          -0.011   \n",
       "1    0.762          2.398  -1.073 -3.253      -1.706           0.688   \n",
       "2    0.956          1.198  -1.073 -0.656       0.278           0.411   \n",
       "3    0.762         -0.517  -0.323 -0.046       0.861           0.244   \n",
       "4   -0.785         -1.031   0.426 -0.122       0.336          -0.022   \n",
       "..     ...            ...     ...    ...         ...             ...   \n",
       "129 -0.398         -0.688   1.176  0.947       1.386          -1.387   \n",
       "130 -0.398         -0.517   0.726  0.947       1.270          -1.132   \n",
       "131 -0.012         -0.860   1.625  0.947      -0.422          -0.866   \n",
       "132 -0.785         -0.688   1.176  0.947       0.395          -1.210   \n",
       "133  0.182         -0.174   0.126  0.947       0.686          -1.343   \n",
       "\n",
       "     fastestLapSpeed   year  circuitId  \n",
       "0              0.777 -0.843     -1.401  \n",
       "1              0.137  1.377     -1.401  \n",
       "2              0.380  1.624     -1.401  \n",
       "3              0.532 -0.597     -1.401  \n",
       "4              0.791 -1.090     -1.401  \n",
       "..               ...    ...        ...  \n",
       "129            0.299 -0.103      1.607  \n",
       "130            0.023  0.144      1.607  \n",
       "131           -0.249  0.390      1.607  \n",
       "132            0.103  0.637      1.607  \n",
       "133            0.243  0.884      1.607  \n",
       "\n",
       "[134 rows x 9 columns]"
      ]
     },
     "execution_count": 27,
     "metadata": {},
     "output_type": "execute_result"
    }
   ],
   "source": [
    "del(datasetFernando['name'])\n",
    "del(datasetFernando['name_y'])\n",
    "\n",
    "scaler = StandardScaler()\n",
    "standarFernando = scaler.fit_transform(datasetFernando)\n",
    "standFernando = pd.DataFrame(standarFernando, columns=datasetFernando.columns)\n",
    "\n",
    "standFernando\n"
   ]
  },
  {
   "cell_type": "markdown",
   "metadata": {},
   "source": [
    "## 5. Model Selection"
   ]
  },
  {
   "cell_type": "markdown",
   "metadata": {},
   "source": [
    "Para esta práctica se han considerado 2 modelos distintos:\n",
    "- Regresión lineal univariable:  Este es el modelo más simple de regresión lineal. Solo utilizaremos el atributo de correlación como atributo de entrada. \n",
    "- Regresión lineal multivariable: Este es un modelo de regresión lineal más complejo ya que no solo tiene un atributo como entrada sino varios de ellos. En este caso utilizaremos varias combinaciones posibles para encontrar el mejor resultado posible"
   ]
  },
  {
   "cell_type": "markdown",
   "metadata": {},
   "source": [
    "## 6. Cross-validation"
   ]
  },
  {
   "cell_type": "markdown",
   "metadata": {},
   "source": [
    "En esta práctica el método seleccionado para realizar Cross-validation ha sido cross-validation k-fold ya que es el método mas completo de todos y porque los demás pueden ocasionar algunos errores a la hora de dividir el dataset para el entrenamiento y validación y por su alto coste computacional. \n",
    "Pero antes de continuar debemos seleccionar el valor más adecuado de K para obtener los mejores resultados posibles."
   ]
  },
  {
   "cell_type": "code",
   "execution_count": 28,
   "metadata": {},
   "outputs": [
    {
     "name": "stdout",
     "output_type": "stream",
     "text": [
      "-> folds=2, accuracy=0.189 (0.186,0.193)\n",
      "-> folds=3, accuracy=0.228 (0.197,0.261)\n",
      "-> folds=4, accuracy=0.207 (0.135,0.315)\n",
      "-> folds=5, accuracy=0.179 (0.093,0.291)\n",
      "-> folds=6, accuracy=0.167 (-0.012,0.435)\n",
      "-> folds=7, accuracy=0.005 (-0.980,0.280)\n",
      "-> folds=8, accuracy=0.190 (-0.000,0.374)\n",
      "-> folds=9, accuracy=0.100 (-0.786,0.549)\n",
      "-> folds=10, accuracy=-0.127 (-2.437,0.355)\n",
      "-> folds=11, accuracy=0.118 (-0.720,0.531)\n",
      "-> folds=12, accuracy=-0.025 (-2.506,0.584)\n",
      "-> folds=13, accuracy=0.153 (-0.416,0.726)\n",
      "-> folds=14, accuracy=-0.025 (-2.299,0.728)\n"
     ]
    }
   ],
   "source": [
    "folds = range(2,15)\n",
    "\n",
    "def evaluatemodel(cv, standar):\n",
    "    \n",
    "    x = standar[['grid']]\n",
    "    y = standar[['positionOrder']]\n",
    "    lab = preprocessing.LabelEncoder()\n",
    "    y_transformed = lab.fit_transform(y)\n",
    "    \n",
    "    Reg = LinearRegression()\n",
    "    scores = cross_val_score(Reg, x, y_transformed, cv=cv, n_jobs=-1)\n",
    "    return mean(scores), scores.min(), scores.max()\n",
    "\n",
    "for k in folds:\n",
    "    cv = KFold(n_splits=k, shuffle=True, random_state=10)\n",
    "    k_mean, k_min, k_max = evaluatemodel(cv, standFernando)\n",
    "    print('-> folds=%d, accuracy=%.3f (%.3f,%.3f)' % (k, k_mean, k_min, k_max))"
   ]
  },
  {
   "cell_type": "markdown",
   "metadata": {},
   "source": [
    "Como podemos observar la mayor accuracy se obtiene con una K igual a 3, por lo tanto sera el valor que utilizaremos."
   ]
  },
  {
   "cell_type": "markdown",
   "metadata": {},
   "source": [
    "## 7. Metric Analysis"
   ]
  },
  {
   "cell_type": "markdown",
   "metadata": {},
   "source": [
    "Ahora ya visualizaremos los resultados de nuestros dos modelos seleccionados. Para visualizar los resultados y compararlos entre si, guardaremos los resultados en diccionarios y crearemos una tabla con ellos."
   ]
  },
  {
   "cell_type": "code",
   "execution_count": 31,
   "metadata": {},
   "outputs": [],
   "source": [
    "resultados_de_los_modelos = {'Modelo' : [], 'Score' : [], 'KFold Score' : [], 'MSE' : []}\n",
    "resultados_de_los_modelos = pd.DataFrame(data=resultados_de_los_modelos)\n",
    "columns = ['Modelo', 'Score','KFold Score','MSE']"
   ]
  },
  {
   "cell_type": "markdown",
   "metadata": {},
   "source": [
    "Como podemos observar, para comparar los resultados de los distintos modelos utilizamos las metricas Score, KFold Score y MSE.\n",
    "- Score: precisión del modelo o refleja la bondad del ajuste de un modelo a la variable que pretende predecir. Cuanto más cerca de 1, mejor resultado.\n",
    "- KFold Score: precisión al utilizar un KFold determinado.\n",
    "- MSE: Error quadrático medio, cuanto más pequeño mejor resultado ya que representa la diferencia entre el resultado obtenido y el esperado.\n",
    "\n"
   ]
  },
  {
   "cell_type": "markdown",
   "metadata": {},
   "source": [
    "Para más adelante poder visualizar la regresión multivariada, crearemos una función utilizando PCA."
   ]
  },
  {
   "cell_type": "code",
   "execution_count": 32,
   "metadata": {},
   "outputs": [],
   "source": [
    "from sklearn.decomposition import PCA\n",
    "def plot_predictions(model, X, Y, X2=np.array([])):\n",
    "    pca = PCA(n_components=1)\n",
    "    x_pca = pca.fit_transform(X)\n",
    "    \n",
    "    if X2.shape[0] > 0:\n",
    "        x_pca2 = pca.fit_transform(X2)\n",
    "        pred = model.predict(X2)\n",
    "        x_aux = np.sort(x_pca2, axis=None)\n",
    "    else:    \n",
    "        pred = model.predict(X)\n",
    "        x_aux = np.sort(x_pca, axis=None)\n",
    "        \n",
    "    pred = np.sort(pred, axis=None)\n",
    " \n",
    "    x_aux = np.sort(x_pca, axis=None)\n",
    "    plt.figure()\n",
    "    plt.ylabel('positionOrder')\n",
    "    plt.xlabel('Inputs')\n",
    "    plt.scatter(x_pca, Y, color='tab:blue')\n",
    "    plt.plot(x_aux, pred, color='chocolate')\n",
    " \n",
    "    plt.show()\n"
   ]
  },
  {
   "cell_type": "markdown",
   "metadata": {},
   "source": [
    "### Regresion lineal univariable"
   ]
  },
  {
   "cell_type": "markdown",
   "metadata": {},
   "source": [
    "Como ya se ha mencionado anteriormente, nosotros queremos predecir la posición final de la carrera, por lo que nuestro atributo a predecir sera positionOrder y nuestro predictor sera grid ya que es el atributo con mas correlación positiva a positionOrder. Al tratarse de una regresión lineal univariable, el predictor solo puede ser un atributo, cosa la cual cambiara en la multivariable."
   ]
  },
  {
   "cell_type": "code",
   "execution_count": 33,
   "metadata": {},
   "outputs": [
    {
     "name": "stdout",
     "output_type": "stream",
     "text": [
      "REGRESION LINEAL UNIVARIABLE\n"
     ]
    },
    {
     "data": {
      "image/png": "[encoded data removed]",
      "text/plain": [
       "<Figure size 432x288 with 1 Axes>"
      ]
     },
     "metadata": {},
     "output_type": "display_data"
    }
   ],
   "source": [
    "k = 3\n",
    "x = standFernando[['grid']]\n",
    "y = standFernando[['positionOrder']]\n",
    "\n",
    "lab = preprocessing.LabelEncoder()\n",
    "y_transformed = lab.fit_transform(y)\n",
    "\n",
    "x_train, x_test, y_train, y_test = sklearn.model_selection.train_test_split(x,y_transformed, test_size=0.20, random_state=30)\n",
    "print(\"REGRESION LINEAL UNIVARIABLE\")\n",
    "\n",
    "lin_reg = LinearRegression() \n",
    "lin_reg.fit(x_train, y_train) \n",
    "\n",
    "resultados_de_los_modelos = resultados_de_los_modelos.append({'Modelo' : 'Regresión lineal univariable',\n",
    "                                    'Score': lin_reg.score(x_test, y_test),\n",
    "                                    'KFold Score' : np.mean(cross_val_score(lin_reg, x, y, cv=k)),\n",
    "                                    'MSE' : mean_squared_error(lin_reg.predict(x_test), y_test)},ignore_index=True)\n",
    "\n",
    "plot_predictions(lin_reg, x_test, y_test)\n"
   ]
  },
  {
   "cell_type": "code",
   "execution_count": 34,
   "metadata": {},
   "outputs": [
    {
     "data": {
      "text/html": [
       "<div>\n",
       "<style scoped>\n",
       "    .dataframe tbody tr th:only-of-type {\n",
       "        vertical-align: middle;\n",
       "    }\n",
       "\n",
       "    .dataframe tbody tr th {\n",
       "        vertical-align: top;\n",
       "    }\n",
       "\n",
       "    .dataframe thead th {\n",
       "        text-align: right;\n",
       "    }\n",
       "</style>\n",
       "<table border=\"1\" class=\"dataframe\">\n",
       "  <thead>\n",
       "    <tr style=\"text-align: right;\">\n",
       "      <th></th>\n",
       "      <th>Modelo</th>\n",
       "      <th>Score</th>\n",
       "      <th>KFold Score</th>\n",
       "      <th>MSE</th>\n",
       "    </tr>\n",
       "  </thead>\n",
       "  <tbody>\n",
       "    <tr>\n",
       "      <th>0</th>\n",
       "      <td>Regresión lineal univariable</td>\n",
       "      <td>0.344</td>\n",
       "      <td>0.157</td>\n",
       "      <td>20.966</td>\n",
       "    </tr>\n",
       "  </tbody>\n",
       "</table>\n",
       "</div>"
      ],
      "text/plain": [
       "                         Modelo  Score  KFold Score    MSE\n",
       "0  Regresión lineal univariable  0.344        0.157 20.966"
      ]
     },
     "execution_count": 34,
     "metadata": {},
     "output_type": "execute_result"
    }
   ],
   "source": [
    "resultados_de_los_modelos"
   ]
  },
  {
   "cell_type": "markdown",
   "metadata": {},
   "source": [
    "Como podemos observar, la regresión lineal univariable da muy malos resultados. Los scores generales son bastante inferiores a lo deseado y el MSE es un valor muy elevado, cual cosa significa que el modelo no hace correctamente su función predictiva. Estos valores eran de esperar ya que simplemente con la posición inicial/parrilla es muy dificil predecir como quedara Fernando Alonso al final de la carrera. Veremos si esto cambia cuando entren en juego más atributos."
   ]
  },
  {
   "cell_type": "markdown",
   "metadata": {},
   "source": [
    "### Regresion lineal multivariable"
   ]
  },
  {
   "cell_type": "markdown",
   "metadata": {},
   "source": [
    "En este caso el predictor estara compuesto por más de un atributo. Primero probaremos con 3: grid, fastestLapTime y year. Year lo incorporaremos porque aunque no sea un dato continuo como fastestLapTime, este tiene influencia en factores como la experiencia, la edad o incluso de los avances tecnologicos respecto a los coches ya que cada año hay retoques en ellos y no es lo mismo un coche del 2000 que uno del 2007. Estos 3 atributos son los atributos con mayor correlación positiva respecto a positionOrder."
   ]
  },
  {
   "cell_type": "code",
   "execution_count": 35,
   "metadata": {},
   "outputs": [
    {
     "name": "stdout",
     "output_type": "stream",
     "text": [
      "REGRESION LINEAL MULTIVARIABLE \n",
      "\n"
     ]
    },
    {
     "data": {
      "image/png": "[encoded data removed]",
      "text/plain": [
       "<Figure size 432x288 with 1 Axes>"
      ]
     },
     "metadata": {},
     "output_type": "display_data"
    }
   ],
   "source": [
    "k = 3\n",
    "x = standFernando[['grid','fastestLapTime','year']]\n",
    "y = standFernando[['positionOrder']]\n",
    "\n",
    "x_train, x_test, y_train, y_test = sklearn.model_selection.train_test_split(x,y, test_size=0.20, random_state=30)\n",
    "print(\"REGRESION LINEAL MULTIVARIABLE\", \"\\n\")\n",
    "\n",
    "lin_reg = LinearRegression() \n",
    "lin_reg.fit(x_train, y_train) \n",
    "\n",
    "resultados_de_los_modelos = resultados_de_los_modelos.append({'Modelo' : 'Regresión lineal multivariable con 3 atributos',\n",
    "                                    'Score': lin_reg.score(x_test, y_test),\n",
    "                                    'KFold Score' : np.mean(cross_val_score(lin_reg, x, y, cv=k)),\n",
    "                                    'MSE' : mean_squared_error(lin_reg.predict(x_test), y_test)},ignore_index=True)\n",
    "\n",
    "plot_predictions(lin_reg, x_test, y_test)"
   ]
  },
  {
   "cell_type": "code",
   "execution_count": 36,
   "metadata": {},
   "outputs": [
    {
     "data": {
      "text/html": [
       "<div>\n",
       "<style scoped>\n",
       "    .dataframe tbody tr th:only-of-type {\n",
       "        vertical-align: middle;\n",
       "    }\n",
       "\n",
       "    .dataframe tbody tr th {\n",
       "        vertical-align: top;\n",
       "    }\n",
       "\n",
       "    .dataframe thead th {\n",
       "        text-align: right;\n",
       "    }\n",
       "</style>\n",
       "<table border=\"1\" class=\"dataframe\">\n",
       "  <thead>\n",
       "    <tr style=\"text-align: right;\">\n",
       "      <th></th>\n",
       "      <th>Modelo</th>\n",
       "      <th>Score</th>\n",
       "      <th>KFold Score</th>\n",
       "      <th>MSE</th>\n",
       "    </tr>\n",
       "  </thead>\n",
       "  <tbody>\n",
       "    <tr>\n",
       "      <th>0</th>\n",
       "      <td>Regresión lineal univariable</td>\n",
       "      <td>0.344</td>\n",
       "      <td>0.157</td>\n",
       "      <td>20.966</td>\n",
       "    </tr>\n",
       "    <tr>\n",
       "      <th>1</th>\n",
       "      <td>Regresión lineal multivariable con 3 atributos</td>\n",
       "      <td>0.369</td>\n",
       "      <td>0.140</td>\n",
       "      <td>0.593</td>\n",
       "    </tr>\n",
       "  </tbody>\n",
       "</table>\n",
       "</div>"
      ],
      "text/plain": [
       "                                           Modelo  Score  KFold Score    MSE\n",
       "0                    Regresión lineal univariable  0.344        0.157 20.966\n",
       "1  Regresión lineal multivariable con 3 atributos  0.369        0.140  0.593"
      ]
     },
     "execution_count": 36,
     "metadata": {},
     "output_type": "execute_result"
    }
   ],
   "source": [
    "resultados_de_los_modelos"
   ]
  },
  {
   "cell_type": "markdown",
   "metadata": {},
   "source": [
    "Podemos observar como en este modelo la precisión de KFold es peor que en el anterior pero en general el modelo es mejor porque la precisión del modelo ha mejorado y porque el MSE se ha reducido drásticamente . Esto quiere decir que en este modelo el resultado obtenido/predicho se aproxima más al resultado esperado y por lo tanto hay un menor error. \n",
    "Viendo estos resultados podemos suponer que cuanta más información útil tenga el modelo mejores resultados conseguira. Por lo tanto, vamos a ir probando que predictores más se le pueden añadir para mejorar estos resultados y encontrar el mejor modelo."
   ]
  },
  {
   "cell_type": "markdown",
   "metadata": {},
   "source": [
    "Ahora probaremos con 4 atributos como predictor, los 3 utilizados en el modelo anterior y uno extra, el atributo laps. Seleccionamos este atributo debido a su gran correlación negativa con el atributo a predecir. "
   ]
  },
  {
   "cell_type": "code",
   "execution_count": 37,
   "metadata": {},
   "outputs": [
    {
     "name": "stdout",
     "output_type": "stream",
     "text": [
      "REGRESION LINEAL MULTIVARIABLE \n",
      "\n"
     ]
    },
    {
     "data": {
      "image/png": "[encoded data removed]",
      "text/plain": [
       "<Figure size 432x288 with 1 Axes>"
      ]
     },
     "metadata": {},
     "output_type": "display_data"
    }
   ],
   "source": [
    "k = 3\n",
    "x = standFernando[['grid','fastestLapTime','year', 'laps']]\n",
    "y = standFernando[['positionOrder']]\n",
    "\n",
    "x_train, x_test, y_train, y_test = sklearn.model_selection.train_test_split(x,y, test_size=0.20, random_state=30)\n",
    "print(\"REGRESION LINEAL MULTIVARIABLE\", \"\\n\")\n",
    "\n",
    "lin_reg = LinearRegression() \n",
    "lin_reg.fit(x_train, y_train) \n",
    "\n",
    "resultados_de_los_modelos = resultados_de_los_modelos.append({'Modelo' : 'Regresión lineal multivariable con 4 atributos',\n",
    "                                    'Score': lin_reg.score(x_test, y_test),\n",
    "                                    'KFold Score' : np.mean(cross_val_score(lin_reg, x, y, cv=k)),\n",
    "                                    'MSE' : mean_squared_error(lin_reg.predict(x_test), y_test)},ignore_index=True)\n",
    "\n",
    "plot_predictions(lin_reg, x_test, y_test)"
   ]
  },
  {
   "cell_type": "code",
   "execution_count": 38,
   "metadata": {},
   "outputs": [
    {
     "data": {
      "text/html": [
       "<div>\n",
       "<style scoped>\n",
       "    .dataframe tbody tr th:only-of-type {\n",
       "        vertical-align: middle;\n",
       "    }\n",
       "\n",
       "    .dataframe tbody tr th {\n",
       "        vertical-align: top;\n",
       "    }\n",
       "\n",
       "    .dataframe thead th {\n",
       "        text-align: right;\n",
       "    }\n",
       "</style>\n",
       "<table border=\"1\" class=\"dataframe\">\n",
       "  <thead>\n",
       "    <tr style=\"text-align: right;\">\n",
       "      <th></th>\n",
       "      <th>Modelo</th>\n",
       "      <th>Score</th>\n",
       "      <th>KFold Score</th>\n",
       "      <th>MSE</th>\n",
       "    </tr>\n",
       "  </thead>\n",
       "  <tbody>\n",
       "    <tr>\n",
       "      <th>0</th>\n",
       "      <td>Regresión lineal univariable</td>\n",
       "      <td>0.344</td>\n",
       "      <td>0.157</td>\n",
       "      <td>20.966</td>\n",
       "    </tr>\n",
       "    <tr>\n",
       "      <th>1</th>\n",
       "      <td>Regresión lineal multivariable con 3 atributos</td>\n",
       "      <td>0.369</td>\n",
       "      <td>0.140</td>\n",
       "      <td>0.593</td>\n",
       "    </tr>\n",
       "    <tr>\n",
       "      <th>2</th>\n",
       "      <td>Regresión lineal multivariable con 4 atributos</td>\n",
       "      <td>0.747</td>\n",
       "      <td>0.574</td>\n",
       "      <td>0.238</td>\n",
       "    </tr>\n",
       "  </tbody>\n",
       "</table>\n",
       "</div>"
      ],
      "text/plain": [
       "                                           Modelo  Score  KFold Score    MSE\n",
       "0                    Regresión lineal univariable  0.344        0.157 20.966\n",
       "1  Regresión lineal multivariable con 3 atributos  0.369        0.140  0.593\n",
       "2  Regresión lineal multivariable con 4 atributos  0.747        0.574  0.238"
      ]
     },
     "execution_count": 38,
     "metadata": {},
     "output_type": "execute_result"
    }
   ],
   "source": [
    "resultados_de_los_modelos"
   ]
  },
  {
   "cell_type": "markdown",
   "metadata": {},
   "source": [
    "Podemos observar como el modelo ha mejorado notablemente comparado a cuando se utilizaban solo 3 atributos como predictor. Tanto la precisión global del modelo como la precisión del KFold aumentan de una manera notable y el MSE disminuye aun más indicando que cada vez el valor predicho/obtenido se aproxima más al esperado. \n",
    "Como hemos dicho anteriormente, este atributo laps tiene una alta correlación negativa con el atributo a predecir. Justamente gracias a esta alta correlación el atributo laps proporciona una gran cantidad de información útil para el modelo y permite que haga un trabajo mucho más exacto y certero.\n",
    "Aun asi, aunque estos resultados no son malos del todo, para un modelo de predicción lo ideal seria superar el 0.8 de precisión e incluso llegar a un 0.9 por lo que probaremos a añadir más atributos para ver si podemos lograr alguno de estos resultados. "
   ]
  },
  {
   "cell_type": "markdown",
   "metadata": {},
   "source": [
    "A continuación probaremos a añadir al predictor el siguiente atributo con una mayor correlación, da igual que sea positiva o negativa. Este atributo es fastestLap. "
   ]
  },
  {
   "cell_type": "code",
   "execution_count": 39,
   "metadata": {},
   "outputs": [
    {
     "name": "stdout",
     "output_type": "stream",
     "text": [
      "REGRESION LINEAL MULTIVARIABLE \n",
      "\n"
     ]
    },
    {
     "data": {
      "image/png": "[encoded data removed]",
      "text/plain": [
       "<Figure size 432x288 with 1 Axes>"
      ]
     },
     "metadata": {},
     "output_type": "display_data"
    }
   ],
   "source": [
    "k = 3\n",
    "x = standFernando[['grid','fastestLapTime','year', 'laps', 'fastestLap']]\n",
    "y = standFernando[['positionOrder']]\n",
    "\n",
    "x_train, x_test, y_train, y_test = sklearn.model_selection.train_test_split(x,y, test_size=0.20, random_state=30)\n",
    "print(\"REGRESION LINEAL MULTIVARIABLE\", \"\\n\")\n",
    "\n",
    "lin_reg = LinearRegression() \n",
    "lin_reg.fit(x_train, y_train) \n",
    "\n",
    "resultados_de_los_modelos = resultados_de_los_modelos.append({'Modelo' : 'Regresión lineal multivariable con 5 atributos',\n",
    "                                    'Score': lin_reg.score(x_test, y_test),\n",
    "                                    'KFold Score' : np.mean(cross_val_score(lin_reg, x, y, cv=k)),\n",
    "                                    'MSE' : mean_squared_error(lin_reg.predict(x_test), y_test)},ignore_index=True)\n",
    "\n",
    "plot_predictions(lin_reg, x_test, y_test)"
   ]
  },
  {
   "cell_type": "code",
   "execution_count": 40,
   "metadata": {},
   "outputs": [
    {
     "data": {
      "text/html": [
       "<div>\n",
       "<style scoped>\n",
       "    .dataframe tbody tr th:only-of-type {\n",
       "        vertical-align: middle;\n",
       "    }\n",
       "\n",
       "    .dataframe tbody tr th {\n",
       "        vertical-align: top;\n",
       "    }\n",
       "\n",
       "    .dataframe thead th {\n",
       "        text-align: right;\n",
       "    }\n",
       "</style>\n",
       "<table border=\"1\" class=\"dataframe\">\n",
       "  <thead>\n",
       "    <tr style=\"text-align: right;\">\n",
       "      <th></th>\n",
       "      <th>Modelo</th>\n",
       "      <th>Score</th>\n",
       "      <th>KFold Score</th>\n",
       "      <th>MSE</th>\n",
       "    </tr>\n",
       "  </thead>\n",
       "  <tbody>\n",
       "    <tr>\n",
       "      <th>0</th>\n",
       "      <td>Regresión lineal univariable</td>\n",
       "      <td>0.344</td>\n",
       "      <td>0.157</td>\n",
       "      <td>20.966</td>\n",
       "    </tr>\n",
       "    <tr>\n",
       "      <th>1</th>\n",
       "      <td>Regresión lineal multivariable con 3 atributos</td>\n",
       "      <td>0.369</td>\n",
       "      <td>0.140</td>\n",
       "      <td>0.593</td>\n",
       "    </tr>\n",
       "    <tr>\n",
       "      <th>2</th>\n",
       "      <td>Regresión lineal multivariable con 4 atributos</td>\n",
       "      <td>0.747</td>\n",
       "      <td>0.574</td>\n",
       "      <td>0.238</td>\n",
       "    </tr>\n",
       "    <tr>\n",
       "      <th>3</th>\n",
       "      <td>Regresión lineal multivariable con 5 atributos</td>\n",
       "      <td>0.738</td>\n",
       "      <td>0.570</td>\n",
       "      <td>0.246</td>\n",
       "    </tr>\n",
       "  </tbody>\n",
       "</table>\n",
       "</div>"
      ],
      "text/plain": [
       "                                           Modelo  Score  KFold Score    MSE\n",
       "0                    Regresión lineal univariable  0.344        0.157 20.966\n",
       "1  Regresión lineal multivariable con 3 atributos  0.369        0.140  0.593\n",
       "2  Regresión lineal multivariable con 4 atributos  0.747        0.574  0.238\n",
       "3  Regresión lineal multivariable con 5 atributos  0.738        0.570  0.246"
      ]
     },
     "execution_count": 40,
     "metadata": {},
     "output_type": "execute_result"
    }
   ],
   "source": [
    "resultados_de_los_modelos"
   ]
  },
  {
   "cell_type": "markdown",
   "metadata": {},
   "source": [
    "Como podemos observar con 5 atributos los resultados empeoran un poco en todas las métricas. Esto es debido a que este nuevo atributo, añadido al predictor, más que información útil lo que hace es dificultar aun más la predicción. Igualmente seguiremos probando y añadiendo más atributos a ver si con más de ellos los resultados mejoran respecto el mejor modelo hasta ahora visto el cual es el multivariable con 4 atributos."
   ]
  },
  {
   "cell_type": "markdown",
   "metadata": {},
   "source": [
    "A continuación probaremos a añadir al predictor el atributo fastestLapSpeed."
   ]
  },
  {
   "cell_type": "code",
   "execution_count": 41,
   "metadata": {},
   "outputs": [
    {
     "name": "stdout",
     "output_type": "stream",
     "text": [
      "REGRESION LINEAL MULTIVARIABLE \n",
      "\n"
     ]
    },
    {
     "data": {
      "image/png": "[encoded data removed]",
      "text/plain": [
       "<Figure size 432x288 with 1 Axes>"
      ]
     },
     "metadata": {},
     "output_type": "display_data"
    }
   ],
   "source": [
    "k = 3\n",
    "x = standFernando[['grid','fastestLapTime','year', 'laps', 'fastestLap', 'fastestLapSpeed']]\n",
    "y = standFernando[['positionOrder']]\n",
    "\n",
    "x_train, x_test, y_train, y_test = sklearn.model_selection.train_test_split(x,y, test_size=0.20, random_state=30)\n",
    "print(\"REGRESION LINEAL MULTIVARIABLE\", \"\\n\")\n",
    "\n",
    "lin_reg = LinearRegression() \n",
    "lin_reg.fit(x_train, y_train) \n",
    "\n",
    "resultados_de_los_modelos = resultados_de_los_modelos.append({'Modelo' : 'Regresión lineal multivariable con 6 atributos',\n",
    "                                    'Score': lin_reg.score(x_test, y_test),\n",
    "                                    'KFold Score' : np.mean(cross_val_score(lin_reg, x, y, cv=k)),\n",
    "                                    'MSE' : mean_squared_error(lin_reg.predict(x_test), y_test)},ignore_index=True)\n",
    "\n",
    "plot_predictions(lin_reg, x_test, y_test)"
   ]
  },
  {
   "cell_type": "code",
   "execution_count": 42,
   "metadata": {},
   "outputs": [
    {
     "data": {
      "text/html": [
       "<div>\n",
       "<style scoped>\n",
       "    .dataframe tbody tr th:only-of-type {\n",
       "        vertical-align: middle;\n",
       "    }\n",
       "\n",
       "    .dataframe tbody tr th {\n",
       "        vertical-align: top;\n",
       "    }\n",
       "\n",
       "    .dataframe thead th {\n",
       "        text-align: right;\n",
       "    }\n",
       "</style>\n",
       "<table border=\"1\" class=\"dataframe\">\n",
       "  <thead>\n",
       "    <tr style=\"text-align: right;\">\n",
       "      <th></th>\n",
       "      <th>Modelo</th>\n",
       "      <th>Score</th>\n",
       "      <th>KFold Score</th>\n",
       "      <th>MSE</th>\n",
       "    </tr>\n",
       "  </thead>\n",
       "  <tbody>\n",
       "    <tr>\n",
       "      <th>0</th>\n",
       "      <td>Regresión lineal univariable</td>\n",
       "      <td>0.344</td>\n",
       "      <td>0.157</td>\n",
       "      <td>20.966</td>\n",
       "    </tr>\n",
       "    <tr>\n",
       "      <th>1</th>\n",
       "      <td>Regresión lineal multivariable con 3 atributos</td>\n",
       "      <td>0.369</td>\n",
       "      <td>0.140</td>\n",
       "      <td>0.593</td>\n",
       "    </tr>\n",
       "    <tr>\n",
       "      <th>2</th>\n",
       "      <td>Regresión lineal multivariable con 4 atributos</td>\n",
       "      <td>0.747</td>\n",
       "      <td>0.574</td>\n",
       "      <td>0.238</td>\n",
       "    </tr>\n",
       "    <tr>\n",
       "      <th>3</th>\n",
       "      <td>Regresión lineal multivariable con 5 atributos</td>\n",
       "      <td>0.738</td>\n",
       "      <td>0.570</td>\n",
       "      <td>0.246</td>\n",
       "    </tr>\n",
       "    <tr>\n",
       "      <th>4</th>\n",
       "      <td>Regresión lineal multivariable con 6 atributos</td>\n",
       "      <td>0.713</td>\n",
       "      <td>0.654</td>\n",
       "      <td>0.270</td>\n",
       "    </tr>\n",
       "  </tbody>\n",
       "</table>\n",
       "</div>"
      ],
      "text/plain": [
       "                                           Modelo  Score  KFold Score    MSE\n",
       "0                    Regresión lineal univariable  0.344        0.157 20.966\n",
       "1  Regresión lineal multivariable con 3 atributos  0.369        0.140  0.593\n",
       "2  Regresión lineal multivariable con 4 atributos  0.747        0.574  0.238\n",
       "3  Regresión lineal multivariable con 5 atributos  0.738        0.570  0.246\n",
       "4  Regresión lineal multivariable con 6 atributos  0.713        0.654  0.270"
      ]
     },
     "execution_count": 42,
     "metadata": {},
     "output_type": "execute_result"
    }
   ],
   "source": [
    "resultados_de_los_modelos"
   ]
  },
  {
   "cell_type": "markdown",
   "metadata": {},
   "source": [
    "Podemos observar como los resultados siguen empeorando incluso añadiendo más atributos al predictor, por lo que este atributo también dificulta más la predicción."
   ]
  },
  {
   "cell_type": "markdown",
   "metadata": {},
   "source": [
    "Por último, añadiremos el último atributo que queda, el cual es circuitId, al predictor. Este atributo, igual que year, no es un dato continuo pero podria aportar información útil al modelo ya que no es igual de fácil adelantar en un circuito estrecho como Monaco que en un circuito amplio como el de Catalunya."
   ]
  },
  {
   "cell_type": "code",
   "execution_count": 43,
   "metadata": {},
   "outputs": [
    {
     "name": "stdout",
     "output_type": "stream",
     "text": [
      "REGRESION LINEAL MULTIVARIABLE \n",
      "\n"
     ]
    },
    {
     "data": {
      "image/png": "[encoded data removed]",
      "text/plain": [
       "<Figure size 432x288 with 1 Axes>"
      ]
     },
     "metadata": {},
     "output_type": "display_data"
    }
   ],
   "source": [
    "k = 3\n",
    "x = standFernando[['grid','fastestLapTime','year', 'laps', 'fastestLap','fastestLapSpeed','circuitId']]\n",
    "y = standFernando[['positionOrder']]\n",
    "\n",
    "x_train, x_test, y_train, y_test = sklearn.model_selection.train_test_split(x,y, test_size=0.20, random_state=30)\n",
    "print(\"REGRESION LINEAL MULTIVARIABLE\", \"\\n\")\n",
    "\n",
    "lin_reg = LinearRegression() \n",
    "lin_reg.fit(x_train, y_train) \n",
    "\n",
    "resultados_de_los_modelos = resultados_de_los_modelos.append({'Modelo' : 'Regresión lineal multivariable con 7 atributos',\n",
    "                                    'Score': lin_reg.score(x_test, y_test),\n",
    "                                    'KFold Score' : np.mean(cross_val_score(lin_reg, x, y, cv=k)),\n",
    "                                    'MSE' : mean_squared_error(lin_reg.predict(x_test), y_test)},ignore_index=True)\n",
    "\n",
    "plot_predictions(lin_reg, x_test, y_test)"
   ]
  },
  {
   "cell_type": "code",
   "execution_count": 44,
   "metadata": {},
   "outputs": [
    {
     "data": {
      "text/html": [
       "<div>\n",
       "<style scoped>\n",
       "    .dataframe tbody tr th:only-of-type {\n",
       "        vertical-align: middle;\n",
       "    }\n",
       "\n",
       "    .dataframe tbody tr th {\n",
       "        vertical-align: top;\n",
       "    }\n",
       "\n",
       "    .dataframe thead th {\n",
       "        text-align: right;\n",
       "    }\n",
       "</style>\n",
       "<table border=\"1\" class=\"dataframe\">\n",
       "  <thead>\n",
       "    <tr style=\"text-align: right;\">\n",
       "      <th></th>\n",
       "      <th>Modelo</th>\n",
       "      <th>Score</th>\n",
       "      <th>KFold Score</th>\n",
       "      <th>MSE</th>\n",
       "    </tr>\n",
       "  </thead>\n",
       "  <tbody>\n",
       "    <tr>\n",
       "      <th>0</th>\n",
       "      <td>Regresión lineal univariable</td>\n",
       "      <td>0.344</td>\n",
       "      <td>0.157</td>\n",
       "      <td>20.966</td>\n",
       "    </tr>\n",
       "    <tr>\n",
       "      <th>1</th>\n",
       "      <td>Regresión lineal multivariable con 3 atributos</td>\n",
       "      <td>0.369</td>\n",
       "      <td>0.140</td>\n",
       "      <td>0.593</td>\n",
       "    </tr>\n",
       "    <tr>\n",
       "      <th>2</th>\n",
       "      <td>Regresión lineal multivariable con 4 atributos</td>\n",
       "      <td>0.747</td>\n",
       "      <td>0.574</td>\n",
       "      <td>0.238</td>\n",
       "    </tr>\n",
       "    <tr>\n",
       "      <th>3</th>\n",
       "      <td>Regresión lineal multivariable con 5 atributos</td>\n",
       "      <td>0.738</td>\n",
       "      <td>0.570</td>\n",
       "      <td>0.246</td>\n",
       "    </tr>\n",
       "    <tr>\n",
       "      <th>4</th>\n",
       "      <td>Regresión lineal multivariable con 6 atributos</td>\n",
       "      <td>0.713</td>\n",
       "      <td>0.654</td>\n",
       "      <td>0.270</td>\n",
       "    </tr>\n",
       "    <tr>\n",
       "      <th>5</th>\n",
       "      <td>Regresión lineal multivariable con 7 atributos</td>\n",
       "      <td>0.737</td>\n",
       "      <td>0.625</td>\n",
       "      <td>0.247</td>\n",
       "    </tr>\n",
       "  </tbody>\n",
       "</table>\n",
       "</div>"
      ],
      "text/plain": [
       "                                           Modelo  Score  KFold Score    MSE\n",
       "0                    Regresión lineal univariable  0.344        0.157 20.966\n",
       "1  Regresión lineal multivariable con 3 atributos  0.369        0.140  0.593\n",
       "2  Regresión lineal multivariable con 4 atributos  0.747        0.574  0.238\n",
       "3  Regresión lineal multivariable con 5 atributos  0.738        0.570  0.246\n",
       "4  Regresión lineal multivariable con 6 atributos  0.713        0.654  0.270\n",
       "5  Regresión lineal multivariable con 7 atributos  0.737        0.625  0.247"
      ]
     },
     "execution_count": 44,
     "metadata": {},
     "output_type": "execute_result"
    }
   ],
   "source": [
    "resultados_de_los_modelos"
   ]
  },
  {
   "cell_type": "markdown",
   "metadata": {},
   "source": [
    "Podemos observar como con todos los atributos posibles el resultado vuelve a acercarse al valor que teniamos con 5 atributos pero aun así siguen siendo peores que con 4 atributos. "
   ]
  },
  {
   "cell_type": "markdown",
   "metadata": {},
   "source": [
    "Por lo tanto podemos sacar la conclusión de que no por más atributos que se añadan al predictor mejores resultados obtendremos. \n",
    "Como hemos comprobado, da mejores resultados utilizar 4 atributos con alta correlación, tanto positiva como negativa, que utilizar todos ellos. Se ha visto que utilizar todos ellos puede provocar más incovenientes que beneficios y también que los atributos con menor correlación normalmente no consiguen que nuestro modelo mejore. \n",
    "\n",
    "Finalmente el mejor modelo ha sido el de Regresión lineal multivariable con 4 atributos"
   ]
  },
  {
   "cell_type": "markdown",
   "metadata": {},
   "source": [
    "## 8. Conclusiones finales"
   ]
  },
  {
   "cell_type": "markdown",
   "metadata": {},
   "source": [
    "Finalmente, los resultados obtenidos de la predicción no han superado ese 0.8 o 0.9 que estabamos buscando pero no se han quedado muy lejos del objetivo (0,747). \n",
    "Predecir un resultado de una carrera de formula 1 no es una tarea fácil ya que hay aspectos los cuales no se pueden calcular ni predecir como por ejemplo: posibles accidentes, posibles toques entre pilotos que dañen el coche, averias en el coche, desgaste de neumáticos, pilotaje del piloto, etc. Por lo tanto, obtener resultados de precisión muy altos es muy dificil al no poder tener en cuenta estos aspectos incalculables. Aun asi, con información como la que se ha utilizado en este trabajo, se puede intentar predecir el resultado de una carrera de una manera más o menos efectiva aunque no infalible."
   ]
  }
 ],
 "metadata": {
  "kernelspec": {
   "display_name": "Python 3",
   "language": "python",
   "name": "python3"
  },
  "language_info": {
   "codemirror_mode": {
    "name": "ipython",
    "version": 3
   },
   "file_extension": ".py",
   "mimetype": "text/x-python",
   "name": "python",
   "nbconvert_exporter": "python",
   "pygments_lexer": "ipython3",
   "version": "3.8.10"
  }
 },
 "nbformat": 4,
 "nbformat_minor": 4
}
