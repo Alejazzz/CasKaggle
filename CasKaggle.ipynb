{
 "cells": [
  {
   "cell_type": "markdown",
   "metadata": {},
   "source": [
    "# FORMULA 1 RACE DATA\n"
   ]
  },
  {
   "cell_type": "markdown",
   "metadata": {},
   "source": [
    "## 1. INTRODUCCIÓN"
   ]
  },
  {
   "cell_type": "markdown",
   "metadata": {},
   "source": [
    "El caso Kaggle del cual dispongo se denomina FORMULA 1 RACE DATA. En el se encuentra información de la FORMULA 1  desde la temporada 1950 hasta la temporada 2017. Este Kaggle esta formado por varios datasets, en los cuales se puede encontrar datos de cada piloto, escuderia, resultados, etc. Aunque el caso Kaggle contenga exactamente 13 datasets, no todos seran utlitzados debido a la gran cantidad de datos que resultaria."
   ]
  },
  {
   "cell_type": "markdown",
   "metadata": {},
   "source": [
    "## 2. OBJETIVOS"
   ]
  },
  {
   "cell_type": "markdown",
   "metadata": {},
   "source": [
    "Nada más ver el dataset que se me proporciono en lo primero que pensé es en intentar predecir algo relacionado con el piloto español más famoso de todos los tiempos en nuestro país, Fernando Alonso. Por lo que el trabajo girara entorno a él y en investigar y visualizar sus estadísticas a lo largo de todos estos años en la FORMULA 1. El objetivo principal de esta práctica es predecir los puntos que hara Alonso en su siguiente carrera en ciertos circuitos y para ello se necesitara varia información relacionada con sus resultados globales en los diferentes Gran Premios en los que ha participado. Además de esto, mientras se vaya avanzando, iré monstrando ciertos datos sobre la carrera de Fernando que me parezcan curiosos y que pueda obtener a partir de la información proporcionada por los diferentes datasets."
   ]
  },
  {
   "cell_type": "markdown",
   "metadata": {},
   "source": [
    "## 3. EDA (exploratory data analysis)"
   ]
  },
  {
   "cell_type": "markdown",
   "metadata": {},
   "source": [
    "Primeramente añadiremos todas las librerias necesarias para realizar la práctica y cargaremos los datasets con más importancia para nuestra investigación los cuales son: results.csv, races.csv, constructors.csv y circuits.csv. En ellos podemos encontrar información relacionada con los resultados de todos los pilotos en todas las carreras. Cabe decir que el último de ellos ha sido modificado manualmente, para poder ser utilizado, a causa de errores en palabras originados por sus acentos. Más adelante se explicaran los diferentes atributos del dataset ya que este sufrira modificaciones respecto al original."
   ]
  },
  {
   "cell_type": "code",
   "execution_count": 83,
   "metadata": {},
   "outputs": [],
   "source": [
    "from sklearn.datasets import make_regression\n",
    "import numpy as np\n",
    "import pandas as pd\n",
    "%matplotlib inline\n",
    "from matplotlib import pyplot as plt\n",
    "import scipy.stats\n",
    "import seaborn as sns\n",
    "from sklearn.impute import SimpleImputer\n",
    "from sklearn import preprocessing\n",
    "from sklearn.preprocessing import StandardScaler\n",
    "import sklearn\n",
    "from sklearn.preprocessing import PolynomialFeatures\n",
    "from sklearn.linear_model import LogisticRegression\n",
    "from sklearn.model_selection import cross_val_score\n",
    "from sklearn.linear_model import LinearRegression\n",
    "from sklearn.model_selection import KFold\n",
    "from sklearn.neighbors import KNeighborsClassifier\n",
    "from sklearn.metrics import accuracy_score\n",
    "from sklearn.metrics import confusion_matrix\n",
    "from statistics import mean\n",
    "from sklearn import svm \n",
    "from sklearn.model_selection import StratifiedKFold\n",
    "from sklearn.metrics import f1_score\n",
    "from sklearn.metrics import mean_squared_error\n",
    "from sklearn.metrics import r2_score\n",
    "import warnings \n",
    "warnings.filterwarnings('ignore')\n",
    "\n",
    "pd.set_option('display.float_format', lambda x: '%.3f' % x)\n",
    "\n",
    "def load_dataset(path):\n",
    "    dataset = pd.read_csv(path, header=0, delimiter=',')\n",
    "    return dataset\n",
    "\n",
    "dataset = load_dataset('datasets/results.csv')\n",
    "data = dataset.values\n",
    "\n",
    "dataset2 = load_dataset('datasets/races.csv')\n",
    "data2 = dataset2.values\n",
    "\n",
    "dataset3 = load_dataset('datasets/constructors.csv')\n",
    "data3 = dataset3.values\n",
    "\n",
    "dataset4 = load_dataset('datasets/circuits.csv')\n",
    "data4 = dataset4.values\n",
    "\n"
   ]
  },
  {
   "cell_type": "markdown",
   "metadata": {},
   "source": [
    "Como en este caso, a diferencia de prácticas anteriores, tenemos varios datasets, realizaremos un join para asi unir todos ellos y tener todos los datos en un solo dataset. En este caso se han unido los datasets más relevantes anteriormente mencionados a través de distintos Ids.También se queria realizar un join con drivers.csv pero este causaba un error por lo que identificaremos a Fernando Alonso por su driverId el cual es 4."
   ]
  },
  {
   "cell_type": "code",
   "execution_count": 84,
   "metadata": {},
   "outputs": [
    {
     "data": {
      "text/html": [
       "<div>\n",
       "<style scoped>\n",
       "    .dataframe tbody tr th:only-of-type {\n",
       "        vertical-align: middle;\n",
       "    }\n",
       "\n",
       "    .dataframe tbody tr th {\n",
       "        vertical-align: top;\n",
       "    }\n",
       "\n",
       "    .dataframe thead th {\n",
       "        text-align: right;\n",
       "    }\n",
       "</style>\n",
       "<table border=\"1\" class=\"dataframe\">\n",
       "  <thead>\n",
       "    <tr style=\"text-align: right;\">\n",
       "      <th></th>\n",
       "      <th>resultId</th>\n",
       "      <th>raceId</th>\n",
       "      <th>driverId</th>\n",
       "      <th>constructorId</th>\n",
       "      <th>number</th>\n",
       "      <th>grid</th>\n",
       "      <th>position</th>\n",
       "      <th>positionText</th>\n",
       "      <th>positionOrder</th>\n",
       "      <th>points</th>\n",
       "      <th>...</th>\n",
       "      <th>url_y</th>\n",
       "      <th>Unnamed: 5</th>\n",
       "      <th>circuitRef</th>\n",
       "      <th>name</th>\n",
       "      <th>location</th>\n",
       "      <th>country</th>\n",
       "      <th>lat</th>\n",
       "      <th>lng</th>\n",
       "      <th>alt</th>\n",
       "      <th>url</th>\n",
       "    </tr>\n",
       "  </thead>\n",
       "  <tbody>\n",
       "    <tr>\n",
       "      <th>0</th>\n",
       "      <td>1</td>\n",
       "      <td>18</td>\n",
       "      <td>1</td>\n",
       "      <td>1</td>\n",
       "      <td>22.000</td>\n",
       "      <td>1</td>\n",
       "      <td>1.000</td>\n",
       "      <td>1</td>\n",
       "      <td>1</td>\n",
       "      <td>10.000</td>\n",
       "      <td>...</td>\n",
       "      <td>http://en.wikipedia.org/wiki/McLaren</td>\n",
       "      <td>NaN</td>\n",
       "      <td>albert_park</td>\n",
       "      <td>Albert Park Grand Prix Circuit</td>\n",
       "      <td>Melbourne</td>\n",
       "      <td>Australia</td>\n",
       "      <td>-37.850</td>\n",
       "      <td>144968.000</td>\n",
       "      <td>10.000</td>\n",
       "      <td>http://en.wikipedia.org/wiki/Melbourne_Grand_P...</td>\n",
       "    </tr>\n",
       "    <tr>\n",
       "      <th>1</th>\n",
       "      <td>5</td>\n",
       "      <td>18</td>\n",
       "      <td>5</td>\n",
       "      <td>1</td>\n",
       "      <td>23.000</td>\n",
       "      <td>3</td>\n",
       "      <td>5.000</td>\n",
       "      <td>5</td>\n",
       "      <td>5</td>\n",
       "      <td>4.000</td>\n",
       "      <td>...</td>\n",
       "      <td>http://en.wikipedia.org/wiki/McLaren</td>\n",
       "      <td>NaN</td>\n",
       "      <td>albert_park</td>\n",
       "      <td>Albert Park Grand Prix Circuit</td>\n",
       "      <td>Melbourne</td>\n",
       "      <td>Australia</td>\n",
       "      <td>-37.850</td>\n",
       "      <td>144968.000</td>\n",
       "      <td>10.000</td>\n",
       "      <td>http://en.wikipedia.org/wiki/Melbourne_Grand_P...</td>\n",
       "    </tr>\n",
       "    <tr>\n",
       "      <th>2</th>\n",
       "      <td>370</td>\n",
       "      <td>36</td>\n",
       "      <td>4</td>\n",
       "      <td>1</td>\n",
       "      <td>1.000</td>\n",
       "      <td>2</td>\n",
       "      <td>2.000</td>\n",
       "      <td>2</td>\n",
       "      <td>2</td>\n",
       "      <td>8.000</td>\n",
       "      <td>...</td>\n",
       "      <td>http://en.wikipedia.org/wiki/McLaren</td>\n",
       "      <td>NaN</td>\n",
       "      <td>albert_park</td>\n",
       "      <td>Albert Park Grand Prix Circuit</td>\n",
       "      <td>Melbourne</td>\n",
       "      <td>Australia</td>\n",
       "      <td>-37.850</td>\n",
       "      <td>144968.000</td>\n",
       "      <td>10.000</td>\n",
       "      <td>http://en.wikipedia.org/wiki/Melbourne_Grand_P...</td>\n",
       "    </tr>\n",
       "    <tr>\n",
       "      <th>3</th>\n",
       "      <td>371</td>\n",
       "      <td>36</td>\n",
       "      <td>1</td>\n",
       "      <td>1</td>\n",
       "      <td>2.000</td>\n",
       "      <td>4</td>\n",
       "      <td>3.000</td>\n",
       "      <td>3</td>\n",
       "      <td>3</td>\n",
       "      <td>6.000</td>\n",
       "      <td>...</td>\n",
       "      <td>http://en.wikipedia.org/wiki/McLaren</td>\n",
       "      <td>NaN</td>\n",
       "      <td>albert_park</td>\n",
       "      <td>Albert Park Grand Prix Circuit</td>\n",
       "      <td>Melbourne</td>\n",
       "      <td>Australia</td>\n",
       "      <td>-37.850</td>\n",
       "      <td>144968.000</td>\n",
       "      <td>10.000</td>\n",
       "      <td>http://en.wikipedia.org/wiki/Melbourne_Grand_P...</td>\n",
       "    </tr>\n",
       "    <tr>\n",
       "      <th>4</th>\n",
       "      <td>788</td>\n",
       "      <td>55</td>\n",
       "      <td>8</td>\n",
       "      <td>1</td>\n",
       "      <td>3.000</td>\n",
       "      <td>4</td>\n",
       "      <td>2.000</td>\n",
       "      <td>2</td>\n",
       "      <td>2</td>\n",
       "      <td>8.000</td>\n",
       "      <td>...</td>\n",
       "      <td>http://en.wikipedia.org/wiki/McLaren</td>\n",
       "      <td>NaN</td>\n",
       "      <td>albert_park</td>\n",
       "      <td>Albert Park Grand Prix Circuit</td>\n",
       "      <td>Melbourne</td>\n",
       "      <td>Australia</td>\n",
       "      <td>-37.850</td>\n",
       "      <td>144968.000</td>\n",
       "      <td>10.000</td>\n",
       "      <td>http://en.wikipedia.org/wiki/Melbourne_Grand_P...</td>\n",
       "    </tr>\n",
       "    <tr>\n",
       "      <th>...</th>\n",
       "      <td>...</td>\n",
       "      <td>...</td>\n",
       "      <td>...</td>\n",
       "      <td>...</td>\n",
       "      <td>...</td>\n",
       "      <td>...</td>\n",
       "      <td>...</td>\n",
       "      <td>...</td>\n",
       "      <td>...</td>\n",
       "      <td>...</td>\n",
       "      <td>...</td>\n",
       "      <td>...</td>\n",
       "      <td>...</td>\n",
       "      <td>...</td>\n",
       "      <td>...</td>\n",
       "      <td>...</td>\n",
       "      <td>...</td>\n",
       "      <td>...</td>\n",
       "      <td>...</td>\n",
       "      <td>...</td>\n",
       "      <td>...</td>\n",
       "    </tr>\n",
       "    <tr>\n",
       "      <th>23772</th>\n",
       "      <td>18286</td>\n",
       "      <td>755</td>\n",
       "      <td>541</td>\n",
       "      <td>170</td>\n",
       "      <td>4.000</td>\n",
       "      <td>21</td>\n",
       "      <td>NaN</td>\n",
       "      <td>R</td>\n",
       "      <td>21</td>\n",
       "      <td>0.000</td>\n",
       "      <td>...</td>\n",
       "      <td>http://en.wikipedia.org/wiki/Cooper_Car_Company</td>\n",
       "      <td>NaN</td>\n",
       "      <td>riverside</td>\n",
       "      <td>Riverside International Raceway</td>\n",
       "      <td>California</td>\n",
       "      <td>USA</td>\n",
       "      <td>33937.000</td>\n",
       "      <td>-117273.000</td>\n",
       "      <td>NaN</td>\n",
       "      <td>http://en.wikipedia.org/wiki/Riverside_Interna...</td>\n",
       "    </tr>\n",
       "    <tr>\n",
       "      <th>23773</th>\n",
       "      <td>18287</td>\n",
       "      <td>755</td>\n",
       "      <td>479</td>\n",
       "      <td>170</td>\n",
       "      <td>6.000</td>\n",
       "      <td>9</td>\n",
       "      <td>NaN</td>\n",
       "      <td>R</td>\n",
       "      <td>22</td>\n",
       "      <td>0.000</td>\n",
       "      <td>...</td>\n",
       "      <td>http://en.wikipedia.org/wiki/Cooper_Car_Company</td>\n",
       "      <td>NaN</td>\n",
       "      <td>riverside</td>\n",
       "      <td>Riverside International Raceway</td>\n",
       "      <td>California</td>\n",
       "      <td>USA</td>\n",
       "      <td>33937.000</td>\n",
       "      <td>-117273.000</td>\n",
       "      <td>NaN</td>\n",
       "      <td>http://en.wikipedia.org/wiki/Riverside_Interna...</td>\n",
       "    </tr>\n",
       "    <tr>\n",
       "      <th>23774</th>\n",
       "      <td>18278</td>\n",
       "      <td>755</td>\n",
       "      <td>548</td>\n",
       "      <td>105</td>\n",
       "      <td>20.000</td>\n",
       "      <td>22</td>\n",
       "      <td>13.000</td>\n",
       "      <td>13</td>\n",
       "      <td>13</td>\n",
       "      <td>0.000</td>\n",
       "      <td>...</td>\n",
       "      <td>http://en.wikipedia.org/wiki/Maserati</td>\n",
       "      <td>NaN</td>\n",
       "      <td>riverside</td>\n",
       "      <td>Riverside International Raceway</td>\n",
       "      <td>California</td>\n",
       "      <td>USA</td>\n",
       "      <td>33937.000</td>\n",
       "      <td>-117273.000</td>\n",
       "      <td>NaN</td>\n",
       "      <td>http://en.wikipedia.org/wiki/Riverside_Interna...</td>\n",
       "    </tr>\n",
       "    <tr>\n",
       "      <th>23775</th>\n",
       "      <td>18275</td>\n",
       "      <td>755</td>\n",
       "      <td>507</td>\n",
       "      <td>106</td>\n",
       "      <td>23.000</td>\n",
       "      <td>18</td>\n",
       "      <td>10.000</td>\n",
       "      <td>10</td>\n",
       "      <td>10</td>\n",
       "      <td>0.000</td>\n",
       "      <td>...</td>\n",
       "      <td>http://en.wikipedia.org/wiki/Scarab_(constructor)</td>\n",
       "      <td>NaN</td>\n",
       "      <td>riverside</td>\n",
       "      <td>Riverside International Raceway</td>\n",
       "      <td>California</td>\n",
       "      <td>USA</td>\n",
       "      <td>33937.000</td>\n",
       "      <td>-117273.000</td>\n",
       "      <td>NaN</td>\n",
       "      <td>http://en.wikipedia.org/wiki/Riverside_Interna...</td>\n",
       "    </tr>\n",
       "    <tr>\n",
       "      <th>23776</th>\n",
       "      <td>18276</td>\n",
       "      <td>755</td>\n",
       "      <td>353</td>\n",
       "      <td>171</td>\n",
       "      <td>25.000</td>\n",
       "      <td>20</td>\n",
       "      <td>11.000</td>\n",
       "      <td>11</td>\n",
       "      <td>11</td>\n",
       "      <td>0.000</td>\n",
       "      <td>...</td>\n",
       "      <td>http://en.wikipedia.org/wiki/Cooper_Car_Company</td>\n",
       "      <td>NaN</td>\n",
       "      <td>riverside</td>\n",
       "      <td>Riverside International Raceway</td>\n",
       "      <td>California</td>\n",
       "      <td>USA</td>\n",
       "      <td>33937.000</td>\n",
       "      <td>-117273.000</td>\n",
       "      <td>NaN</td>\n",
       "      <td>http://en.wikipedia.org/wiki/Riverside_Interna...</td>\n",
       "    </tr>\n",
       "  </tbody>\n",
       "</table>\n",
       "<p>23777 rows × 38 columns</p>\n",
       "</div>"
      ],
      "text/plain": [
       "       resultId  raceId  driverId  constructorId  number  grid  position  \\\n",
       "0             1      18         1              1  22.000     1     1.000   \n",
       "1             5      18         5              1  23.000     3     5.000   \n",
       "2           370      36         4              1   1.000     2     2.000   \n",
       "3           371      36         1              1   2.000     4     3.000   \n",
       "4           788      55         8              1   3.000     4     2.000   \n",
       "...         ...     ...       ...            ...     ...   ...       ...   \n",
       "23772     18286     755       541            170   4.000    21       NaN   \n",
       "23773     18287     755       479            170   6.000     9       NaN   \n",
       "23774     18278     755       548            105  20.000    22    13.000   \n",
       "23775     18275     755       507            106  23.000    18    10.000   \n",
       "23776     18276     755       353            171  25.000    20    11.000   \n",
       "\n",
       "      positionText  positionOrder  points  ...  \\\n",
       "0                1              1  10.000  ...   \n",
       "1                5              5   4.000  ...   \n",
       "2                2              2   8.000  ...   \n",
       "3                3              3   6.000  ...   \n",
       "4                2              2   8.000  ...   \n",
       "...            ...            ...     ...  ...   \n",
       "23772            R             21   0.000  ...   \n",
       "23773            R             22   0.000  ...   \n",
       "23774           13             13   0.000  ...   \n",
       "23775           10             10   0.000  ...   \n",
       "23776           11             11   0.000  ...   \n",
       "\n",
       "                                                   url_y Unnamed: 5  \\\n",
       "0                   http://en.wikipedia.org/wiki/McLaren        NaN   \n",
       "1                   http://en.wikipedia.org/wiki/McLaren        NaN   \n",
       "2                   http://en.wikipedia.org/wiki/McLaren        NaN   \n",
       "3                   http://en.wikipedia.org/wiki/McLaren        NaN   \n",
       "4                   http://en.wikipedia.org/wiki/McLaren        NaN   \n",
       "...                                                  ...        ...   \n",
       "23772    http://en.wikipedia.org/wiki/Cooper_Car_Company        NaN   \n",
       "23773    http://en.wikipedia.org/wiki/Cooper_Car_Company        NaN   \n",
       "23774              http://en.wikipedia.org/wiki/Maserati        NaN   \n",
       "23775  http://en.wikipedia.org/wiki/Scarab_(constructor)        NaN   \n",
       "23776    http://en.wikipedia.org/wiki/Cooper_Car_Company        NaN   \n",
       "\n",
       "        circuitRef                             name    location    country  \\\n",
       "0      albert_park   Albert Park Grand Prix Circuit   Melbourne  Australia   \n",
       "1      albert_park   Albert Park Grand Prix Circuit   Melbourne  Australia   \n",
       "2      albert_park   Albert Park Grand Prix Circuit   Melbourne  Australia   \n",
       "3      albert_park   Albert Park Grand Prix Circuit   Melbourne  Australia   \n",
       "4      albert_park   Albert Park Grand Prix Circuit   Melbourne  Australia   \n",
       "...            ...                              ...         ...        ...   \n",
       "23772    riverside  Riverside International Raceway  California        USA   \n",
       "23773    riverside  Riverside International Raceway  California        USA   \n",
       "23774    riverside  Riverside International Raceway  California        USA   \n",
       "23775    riverside  Riverside International Raceway  California        USA   \n",
       "23776    riverside  Riverside International Raceway  California        USA   \n",
       "\n",
       "            lat         lng    alt  \\\n",
       "0       -37.850  144968.000 10.000   \n",
       "1       -37.850  144968.000 10.000   \n",
       "2       -37.850  144968.000 10.000   \n",
       "3       -37.850  144968.000 10.000   \n",
       "4       -37.850  144968.000 10.000   \n",
       "...         ...         ...    ...   \n",
       "23772 33937.000 -117273.000    NaN   \n",
       "23773 33937.000 -117273.000    NaN   \n",
       "23774 33937.000 -117273.000    NaN   \n",
       "23775 33937.000 -117273.000    NaN   \n",
       "23776 33937.000 -117273.000    NaN   \n",
       "\n",
       "                                                     url  \n",
       "0      http://en.wikipedia.org/wiki/Melbourne_Grand_P...  \n",
       "1      http://en.wikipedia.org/wiki/Melbourne_Grand_P...  \n",
       "2      http://en.wikipedia.org/wiki/Melbourne_Grand_P...  \n",
       "3      http://en.wikipedia.org/wiki/Melbourne_Grand_P...  \n",
       "4      http://en.wikipedia.org/wiki/Melbourne_Grand_P...  \n",
       "...                                                  ...  \n",
       "23772  http://en.wikipedia.org/wiki/Riverside_Interna...  \n",
       "23773  http://en.wikipedia.org/wiki/Riverside_Interna...  \n",
       "23774  http://en.wikipedia.org/wiki/Riverside_Interna...  \n",
       "23775  http://en.wikipedia.org/wiki/Riverside_Interna...  \n",
       "23776  http://en.wikipedia.org/wiki/Riverside_Interna...  \n",
       "\n",
       "[23777 rows x 38 columns]"
      ]
     },
     "execution_count": 84,
     "metadata": {},
     "output_type": "execute_result"
    }
   ],
   "source": [
    "inner_join_df1 = pd.merge(dataset, dataset2, on='raceId' , how='inner')\n",
    "inner_join_df2 = pd.merge(inner_join_df1, dataset3, on='constructorId' , how='inner')\n",
    "inner_join_df = pd.merge(inner_join_df2, dataset4, on='circuitId' , how='inner')\n",
    "inner_join_df"
   ]
  },
  {
   "cell_type": "markdown",
   "metadata": {},
   "source": [
    "Una vez unidos los dos datasets, al solo necesitar los datos de Fernando Alonso, nos quedaremos con aquellas muestras con un driverId igual al de Fernando, es decir, 4."
   ]
  },
  {
   "cell_type": "code",
   "execution_count": 85,
   "metadata": {},
   "outputs": [],
   "source": [
    "datasetFernando = inner_join_df[inner_join_df.driverId == 4]\n",
    "datasetFernando\n",
    "dataFernando = datasetFernando.values"
   ]
  },
  {
   "cell_type": "markdown",
   "metadata": {},
   "source": [
    "Una vez tenemos todas las muestras de las carreras de Fernando Alonso, eliminaremos ciertos artibutos los cuales no proporcionan ningún tipo de información útil para nuestros futuros estudios, como son: number, position, positionText, statusId, round, date, time_y, url_x, etc.\n",
    "    "
   ]
  },
  {
   "cell_type": "code",
   "execution_count": 86,
   "metadata": {},
   "outputs": [],
   "source": [
    "del(datasetFernando['number'])\n",
    "del(datasetFernando['position'])\n",
    "del(datasetFernando['positionText'])\n",
    "del(datasetFernando['statusId'])\n",
    "del(datasetFernando['round'])\n",
    "del(datasetFernando['date'])\n",
    "del(datasetFernando['time_y'])\n",
    "del(datasetFernando['url_x'])\n",
    "del(datasetFernando['url_y'])\n",
    "del(datasetFernando['name_x'])\n",
    "del(datasetFernando['rank'])\n",
    "del(datasetFernando['time_x'])\n",
    "del(datasetFernando['milliseconds'])\n",
    "del(datasetFernando['nationality'])\n",
    "del(datasetFernando['constructorRef'])\n",
    "del(datasetFernando['resultId'])\n",
    "del(datasetFernando['raceId'])\n",
    "del(datasetFernando['driverId'])\n",
    "del(datasetFernando['constructorId'])\n",
    "del(datasetFernando['circuitRef'])\n",
    "del(datasetFernando['location'])\n",
    "del(datasetFernando['country'])\n",
    "del(datasetFernando['lat'])\n",
    "del(datasetFernando['lng'])\n",
    "del(datasetFernando['alt'])\n",
    "del(datasetFernando['url'])\n",
    "datasetFernando = datasetFernando.drop(datasetFernando.columns[[10]], axis = 'columns')\n"
   ]
  },
  {
   "cell_type": "markdown",
   "metadata": {},
   "source": [
    "Ahora ya tenemos nuestro dataset definitivo para realizar esta práctica, el cual es el siguiente:"
   ]
  },
  {
   "cell_type": "code",
   "execution_count": 87,
   "metadata": {},
   "outputs": [
    {
     "data": {
      "text/html": [
       "<div>\n",
       "<style scoped>\n",
       "    .dataframe tbody tr th:only-of-type {\n",
       "        vertical-align: middle;\n",
       "    }\n",
       "\n",
       "    .dataframe tbody tr th {\n",
       "        vertical-align: top;\n",
       "    }\n",
       "\n",
       "    .dataframe thead th {\n",
       "        text-align: right;\n",
       "    }\n",
       "</style>\n",
       "<table border=\"1\" class=\"dataframe\">\n",
       "  <thead>\n",
       "    <tr style=\"text-align: right;\">\n",
       "      <th></th>\n",
       "      <th>grid</th>\n",
       "      <th>positionOrder</th>\n",
       "      <th>points</th>\n",
       "      <th>laps</th>\n",
       "      <th>fastestLap</th>\n",
       "      <th>fastestLapTime</th>\n",
       "      <th>fastestLapSpeed</th>\n",
       "      <th>year</th>\n",
       "      <th>circuitId</th>\n",
       "      <th>name_y</th>\n",
       "      <th>name</th>\n",
       "    </tr>\n",
       "  </thead>\n",
       "  <tbody>\n",
       "    <tr>\n",
       "      <th>2</th>\n",
       "      <td>2</td>\n",
       "      <td>2</td>\n",
       "      <td>8.000</td>\n",
       "      <td>58</td>\n",
       "      <td>20.000</td>\n",
       "      <td>01:26.3</td>\n",
       "      <td>221.178</td>\n",
       "      <td>2007</td>\n",
       "      <td>1</td>\n",
       "      <td>McLaren</td>\n",
       "      <td>Albert Park Grand Prix Circuit</td>\n",
       "    </tr>\n",
       "    <tr>\n",
       "      <th>41</th>\n",
       "      <td>11</td>\n",
       "      <td>21</td>\n",
       "      <td>0.000</td>\n",
       "      <td>16</td>\n",
       "      <td>14.000</td>\n",
       "      <td>01:32.6</td>\n",
       "      <td>206.268</td>\n",
       "      <td>2016</td>\n",
       "      <td>1</td>\n",
       "      <td>McLaren</td>\n",
       "      <td>Albert Park Grand Prix Circuit</td>\n",
       "    </tr>\n",
       "    <tr>\n",
       "      <th>43</th>\n",
       "      <td>12</td>\n",
       "      <td>14</td>\n",
       "      <td>0.000</td>\n",
       "      <td>50</td>\n",
       "      <td>48.000</td>\n",
       "      <td>01:30.1</td>\n",
       "      <td>211.938</td>\n",
       "      <td>2017</td>\n",
       "      <td>1</td>\n",
       "      <td>McLaren</td>\n",
       "      <td>Albert Park Grand Prix Circuit</td>\n",
       "    </tr>\n",
       "    <tr>\n",
       "      <th>96</th>\n",
       "      <td>11</td>\n",
       "      <td>4</td>\n",
       "      <td>5.000</td>\n",
       "      <td>58</td>\n",
       "      <td>58.000</td>\n",
       "      <td>01:28.6</td>\n",
       "      <td>215.464</td>\n",
       "      <td>2008</td>\n",
       "      <td>1</td>\n",
       "      <td>Renault</td>\n",
       "      <td>Albert Park Grand Prix Circuit</td>\n",
       "    </tr>\n",
       "    <tr>\n",
       "      <th>100</th>\n",
       "      <td>3</td>\n",
       "      <td>1</td>\n",
       "      <td>10.000</td>\n",
       "      <td>57</td>\n",
       "      <td>49.000</td>\n",
       "      <td>01:26.2</td>\n",
       "      <td>221.499</td>\n",
       "      <td>2006</td>\n",
       "      <td>1</td>\n",
       "      <td>Renault</td>\n",
       "      <td>Albert Park Grand Prix Circuit</td>\n",
       "    </tr>\n",
       "    <tr>\n",
       "      <th>...</th>\n",
       "      <td>...</td>\n",
       "      <td>...</td>\n",
       "      <td>...</td>\n",
       "      <td>...</td>\n",
       "      <td>...</td>\n",
       "      <td>...</td>\n",
       "      <td>...</td>\n",
       "      <td>...</td>\n",
       "      <td>...</td>\n",
       "      <td>...</td>\n",
       "      <td>...</td>\n",
       "    </tr>\n",
       "    <tr>\n",
       "      <th>22732</th>\n",
       "      <td>14</td>\n",
       "      <td>6</td>\n",
       "      <td>8.000</td>\n",
       "      <td>52</td>\n",
       "      <td>52.000</td>\n",
       "      <td>01:40.3</td>\n",
       "      <td>209.799</td>\n",
       "      <td>2016</td>\n",
       "      <td>71</td>\n",
       "      <td>McLaren</td>\n",
       "      <td>Sochi Autodrom</td>\n",
       "    </tr>\n",
       "    <tr>\n",
       "      <th>22735</th>\n",
       "      <td>15</td>\n",
       "      <td>20</td>\n",
       "      <td>0.000</td>\n",
       "      <td>0</td>\n",
       "      <td>NaN</td>\n",
       "      <td>NaN</td>\n",
       "      <td>NaN</td>\n",
       "      <td>2017</td>\n",
       "      <td>71</td>\n",
       "      <td>McLaren</td>\n",
       "      <td>Sochi Autodrom</td>\n",
       "    </tr>\n",
       "    <tr>\n",
       "      <th>22756</th>\n",
       "      <td>7</td>\n",
       "      <td>6</td>\n",
       "      <td>8.000</td>\n",
       "      <td>53</td>\n",
       "      <td>53.000</td>\n",
       "      <td>01:42.2</td>\n",
       "      <td>206.038</td>\n",
       "      <td>2014</td>\n",
       "      <td>71</td>\n",
       "      <td>Ferrari</td>\n",
       "      <td>Sochi Autodrom</td>\n",
       "    </tr>\n",
       "    <tr>\n",
       "      <th>22812</th>\n",
       "      <td>13</td>\n",
       "      <td>19</td>\n",
       "      <td>0.000</td>\n",
       "      <td>42</td>\n",
       "      <td>27.000</td>\n",
       "      <td>01:49.1</td>\n",
       "      <td>198.08</td>\n",
       "      <td>2016</td>\n",
       "      <td>73</td>\n",
       "      <td>McLaren</td>\n",
       "      <td>Baku City Circuit</td>\n",
       "    </tr>\n",
       "    <tr>\n",
       "      <th>22813</th>\n",
       "      <td>19</td>\n",
       "      <td>9</td>\n",
       "      <td>2.000</td>\n",
       "      <td>51</td>\n",
       "      <td>49.000</td>\n",
       "      <td>01:45.2</td>\n",
       "      <td>205.488</td>\n",
       "      <td>2017</td>\n",
       "      <td>73</td>\n",
       "      <td>McLaren</td>\n",
       "      <td>Baku City Circuit</td>\n",
       "    </tr>\n",
       "  </tbody>\n",
       "</table>\n",
       "<p>293 rows × 11 columns</p>\n",
       "</div>"
      ],
      "text/plain": [
       "       grid  positionOrder  points  laps  fastestLap fastestLapTime  \\\n",
       "2         2              2   8.000    58      20.000        01:26.3   \n",
       "41       11             21   0.000    16      14.000        01:32.6   \n",
       "43       12             14   0.000    50      48.000        01:30.1   \n",
       "96       11              4   5.000    58      58.000        01:28.6   \n",
       "100       3              1  10.000    57      49.000        01:26.2   \n",
       "...     ...            ...     ...   ...         ...            ...   \n",
       "22732    14              6   8.000    52      52.000        01:40.3   \n",
       "22735    15             20   0.000     0         NaN            NaN   \n",
       "22756     7              6   8.000    53      53.000        01:42.2   \n",
       "22812    13             19   0.000    42      27.000        01:49.1   \n",
       "22813    19              9   2.000    51      49.000        01:45.2   \n",
       "\n",
       "      fastestLapSpeed  year  circuitId   name_y  \\\n",
       "2             221.178  2007          1  McLaren   \n",
       "41            206.268  2016          1  McLaren   \n",
       "43            211.938  2017          1  McLaren   \n",
       "96            215.464  2008          1  Renault   \n",
       "100           221.499  2006          1  Renault   \n",
       "...               ...   ...        ...      ...   \n",
       "22732         209.799  2016         71  McLaren   \n",
       "22735             NaN  2017         71  McLaren   \n",
       "22756         206.038  2014         71  Ferrari   \n",
       "22812          198.08  2016         73  McLaren   \n",
       "22813         205.488  2017         73  McLaren   \n",
       "\n",
       "                                 name  \n",
       "2      Albert Park Grand Prix Circuit  \n",
       "41     Albert Park Grand Prix Circuit  \n",
       "43     Albert Park Grand Prix Circuit  \n",
       "96     Albert Park Grand Prix Circuit  \n",
       "100    Albert Park Grand Prix Circuit  \n",
       "...                               ...  \n",
       "22732                  Sochi Autodrom  \n",
       "22735                  Sochi Autodrom  \n",
       "22756                  Sochi Autodrom  \n",
       "22812               Baku City Circuit  \n",
       "22813               Baku City Circuit  \n",
       "\n",
       "[293 rows x 11 columns]"
      ]
     },
     "execution_count": 87,
     "metadata": {},
     "output_type": "execute_result"
    }
   ],
   "source": [
    "datasetFernando"
   ]
  },
  {
   "cell_type": "markdown",
   "metadata": {},
   "source": [
    "Finalmente nuestro dataset contiene 293 muestras y 11 columnas. Los diferentes atributos son:\n",
    "- grid: posición de parrilla/salida\n",
    "- positionOrder: posición final o puesto en la carrera\n",
    "- points: puntos obtenidos\n",
    "- laps: vueltas\n",
    "- fastestLap: vuelta en la cual se realizó la vuelta más rápida\n",
    "- fastestLapTime: tiempo de vuelta rápida\n",
    "- fastestLapSpeed: velocidad máxima alcanzada en la vuelta rápida\n",
    "- year: año en el que ocurrió la carrera\n",
    "- circuitId: Id del circuito\n",
    "- name_y: escuderia\n",
    "- name: nombre del circuito\n",
    "\n",
    "A continuación, visualizaremos de que tipo son nuestros atributos.\n"
   ]
  },
  {
   "cell_type": "code",
   "execution_count": 88,
   "metadata": {},
   "outputs": [
    {
     "name": "stdout",
     "output_type": "stream",
     "text": [
      "Tipos de atributos\n"
     ]
    },
    {
     "data": {
      "text/plain": [
       "grid                 int64\n",
       "positionOrder        int64\n",
       "points             float64\n",
       "laps                 int64\n",
       "fastestLap         float64\n",
       "fastestLapTime      object\n",
       "fastestLapSpeed     object\n",
       "year                 int64\n",
       "circuitId            int64\n",
       "name_y              object\n",
       "name                object\n",
       "dtype: object"
      ]
     },
     "execution_count": 88,
     "metadata": {},
     "output_type": "execute_result"
    }
   ],
   "source": [
    "print(\"Tipos de atributos\")\n",
    "datasetFernando.dtypes"
   ]
  },
  {
   "cell_type": "markdown",
   "metadata": {},
   "source": [
    "Como podemos ver, todos los atributos son de tipo integer o float menos 4, estos 4 son fastestLapTime, fastestLapSpeed, name y name_y. Los dos primeros los vamos a pasar a tipo númerico ya que son atributos los cuales luego utilizaremos a la hora de predecir y por lo tanto se necesitan en tipo numérico. En cambio, name y name_y los dejaremos como string ya que solo seran útiles para visualizar ciertas gráficas en un futuro pero no para la predicción."
   ]
  },
  {
   "cell_type": "code",
   "execution_count": 89,
   "metadata": {},
   "outputs": [
    {
     "data": {
      "text/html": [
       "<div>\n",
       "<style scoped>\n",
       "    .dataframe tbody tr th:only-of-type {\n",
       "        vertical-align: middle;\n",
       "    }\n",
       "\n",
       "    .dataframe tbody tr th {\n",
       "        vertical-align: top;\n",
       "    }\n",
       "\n",
       "    .dataframe thead th {\n",
       "        text-align: right;\n",
       "    }\n",
       "</style>\n",
       "<table border=\"1\" class=\"dataframe\">\n",
       "  <thead>\n",
       "    <tr style=\"text-align: right;\">\n",
       "      <th></th>\n",
       "      <th>grid</th>\n",
       "      <th>positionOrder</th>\n",
       "      <th>points</th>\n",
       "      <th>laps</th>\n",
       "      <th>fastestLap</th>\n",
       "      <th>fastestLapTime</th>\n",
       "      <th>fastestLapSpeed</th>\n",
       "      <th>year</th>\n",
       "      <th>circuitId</th>\n",
       "      <th>name_y</th>\n",
       "      <th>name</th>\n",
       "    </tr>\n",
       "  </thead>\n",
       "  <tbody>\n",
       "    <tr>\n",
       "      <th>2</th>\n",
       "      <td>2</td>\n",
       "      <td>2</td>\n",
       "      <td>8.000</td>\n",
       "      <td>58</td>\n",
       "      <td>20.000</td>\n",
       "      <td>01:26.3</td>\n",
       "      <td>221.178</td>\n",
       "      <td>2007</td>\n",
       "      <td>1</td>\n",
       "      <td>McLaren</td>\n",
       "      <td>Albert Park Grand Prix Circuit</td>\n",
       "    </tr>\n",
       "    <tr>\n",
       "      <th>41</th>\n",
       "      <td>11</td>\n",
       "      <td>21</td>\n",
       "      <td>0.000</td>\n",
       "      <td>16</td>\n",
       "      <td>14.000</td>\n",
       "      <td>01:32.6</td>\n",
       "      <td>206.268</td>\n",
       "      <td>2016</td>\n",
       "      <td>1</td>\n",
       "      <td>McLaren</td>\n",
       "      <td>Albert Park Grand Prix Circuit</td>\n",
       "    </tr>\n",
       "    <tr>\n",
       "      <th>43</th>\n",
       "      <td>12</td>\n",
       "      <td>14</td>\n",
       "      <td>0.000</td>\n",
       "      <td>50</td>\n",
       "      <td>48.000</td>\n",
       "      <td>01:30.1</td>\n",
       "      <td>211.938</td>\n",
       "      <td>2017</td>\n",
       "      <td>1</td>\n",
       "      <td>McLaren</td>\n",
       "      <td>Albert Park Grand Prix Circuit</td>\n",
       "    </tr>\n",
       "    <tr>\n",
       "      <th>96</th>\n",
       "      <td>11</td>\n",
       "      <td>4</td>\n",
       "      <td>5.000</td>\n",
       "      <td>58</td>\n",
       "      <td>58.000</td>\n",
       "      <td>01:28.6</td>\n",
       "      <td>215.464</td>\n",
       "      <td>2008</td>\n",
       "      <td>1</td>\n",
       "      <td>Renault</td>\n",
       "      <td>Albert Park Grand Prix Circuit</td>\n",
       "    </tr>\n",
       "    <tr>\n",
       "      <th>100</th>\n",
       "      <td>3</td>\n",
       "      <td>1</td>\n",
       "      <td>10.000</td>\n",
       "      <td>57</td>\n",
       "      <td>49.000</td>\n",
       "      <td>01:26.2</td>\n",
       "      <td>221.499</td>\n",
       "      <td>2006</td>\n",
       "      <td>1</td>\n",
       "      <td>Renault</td>\n",
       "      <td>Albert Park Grand Prix Circuit</td>\n",
       "    </tr>\n",
       "    <tr>\n",
       "      <th>...</th>\n",
       "      <td>...</td>\n",
       "      <td>...</td>\n",
       "      <td>...</td>\n",
       "      <td>...</td>\n",
       "      <td>...</td>\n",
       "      <td>...</td>\n",
       "      <td>...</td>\n",
       "      <td>...</td>\n",
       "      <td>...</td>\n",
       "      <td>...</td>\n",
       "      <td>...</td>\n",
       "    </tr>\n",
       "    <tr>\n",
       "      <th>22732</th>\n",
       "      <td>14</td>\n",
       "      <td>6</td>\n",
       "      <td>8.000</td>\n",
       "      <td>52</td>\n",
       "      <td>52.000</td>\n",
       "      <td>01:40.3</td>\n",
       "      <td>209.799</td>\n",
       "      <td>2016</td>\n",
       "      <td>71</td>\n",
       "      <td>McLaren</td>\n",
       "      <td>Sochi Autodrom</td>\n",
       "    </tr>\n",
       "    <tr>\n",
       "      <th>22735</th>\n",
       "      <td>15</td>\n",
       "      <td>20</td>\n",
       "      <td>0.000</td>\n",
       "      <td>0</td>\n",
       "      <td>NaN</td>\n",
       "      <td>NaN</td>\n",
       "      <td>NaN</td>\n",
       "      <td>2017</td>\n",
       "      <td>71</td>\n",
       "      <td>McLaren</td>\n",
       "      <td>Sochi Autodrom</td>\n",
       "    </tr>\n",
       "    <tr>\n",
       "      <th>22756</th>\n",
       "      <td>7</td>\n",
       "      <td>6</td>\n",
       "      <td>8.000</td>\n",
       "      <td>53</td>\n",
       "      <td>53.000</td>\n",
       "      <td>01:42.2</td>\n",
       "      <td>206.038</td>\n",
       "      <td>2014</td>\n",
       "      <td>71</td>\n",
       "      <td>Ferrari</td>\n",
       "      <td>Sochi Autodrom</td>\n",
       "    </tr>\n",
       "    <tr>\n",
       "      <th>22812</th>\n",
       "      <td>13</td>\n",
       "      <td>19</td>\n",
       "      <td>0.000</td>\n",
       "      <td>42</td>\n",
       "      <td>27.000</td>\n",
       "      <td>01:49.1</td>\n",
       "      <td>198.080</td>\n",
       "      <td>2016</td>\n",
       "      <td>73</td>\n",
       "      <td>McLaren</td>\n",
       "      <td>Baku City Circuit</td>\n",
       "    </tr>\n",
       "    <tr>\n",
       "      <th>22813</th>\n",
       "      <td>19</td>\n",
       "      <td>9</td>\n",
       "      <td>2.000</td>\n",
       "      <td>51</td>\n",
       "      <td>49.000</td>\n",
       "      <td>01:45.2</td>\n",
       "      <td>205.488</td>\n",
       "      <td>2017</td>\n",
       "      <td>73</td>\n",
       "      <td>McLaren</td>\n",
       "      <td>Baku City Circuit</td>\n",
       "    </tr>\n",
       "  </tbody>\n",
       "</table>\n",
       "<p>293 rows × 11 columns</p>\n",
       "</div>"
      ],
      "text/plain": [
       "       grid  positionOrder  points  laps  fastestLap fastestLapTime  \\\n",
       "2         2              2   8.000    58      20.000        01:26.3   \n",
       "41       11             21   0.000    16      14.000        01:32.6   \n",
       "43       12             14   0.000    50      48.000        01:30.1   \n",
       "96       11              4   5.000    58      58.000        01:28.6   \n",
       "100       3              1  10.000    57      49.000        01:26.2   \n",
       "...     ...            ...     ...   ...         ...            ...   \n",
       "22732    14              6   8.000    52      52.000        01:40.3   \n",
       "22735    15             20   0.000     0         NaN            NaN   \n",
       "22756     7              6   8.000    53      53.000        01:42.2   \n",
       "22812    13             19   0.000    42      27.000        01:49.1   \n",
       "22813    19              9   2.000    51      49.000        01:45.2   \n",
       "\n",
       "       fastestLapSpeed  year  circuitId   name_y  \\\n",
       "2              221.178  2007          1  McLaren   \n",
       "41             206.268  2016          1  McLaren   \n",
       "43             211.938  2017          1  McLaren   \n",
       "96             215.464  2008          1  Renault   \n",
       "100            221.499  2006          1  Renault   \n",
       "...                ...   ...        ...      ...   \n",
       "22732          209.799  2016         71  McLaren   \n",
       "22735              NaN  2017         71  McLaren   \n",
       "22756          206.038  2014         71  Ferrari   \n",
       "22812          198.080  2016         73  McLaren   \n",
       "22813          205.488  2017         73  McLaren   \n",
       "\n",
       "                                 name  \n",
       "2      Albert Park Grand Prix Circuit  \n",
       "41     Albert Park Grand Prix Circuit  \n",
       "43     Albert Park Grand Prix Circuit  \n",
       "96     Albert Park Grand Prix Circuit  \n",
       "100    Albert Park Grand Prix Circuit  \n",
       "...                               ...  \n",
       "22732                  Sochi Autodrom  \n",
       "22735                  Sochi Autodrom  \n",
       "22756                  Sochi Autodrom  \n",
       "22812               Baku City Circuit  \n",
       "22813               Baku City Circuit  \n",
       "\n",
       "[293 rows x 11 columns]"
      ]
     },
     "execution_count": 89,
     "metadata": {},
     "output_type": "execute_result"
    }
   ],
   "source": [
    "datasetFernando[\"fastestLapSpeed\"] = pd.to_numeric(datasetFernando[\"fastestLapSpeed\"])\n",
    "datasetFernando"
   ]
  },
  {
   "cell_type": "code",
   "execution_count": 90,
   "metadata": {},
   "outputs": [
    {
     "data": {
      "text/plain": [
       "grid                 int64\n",
       "positionOrder        int64\n",
       "points             float64\n",
       "laps                 int64\n",
       "fastestLap         float64\n",
       "fastestLapTime      object\n",
       "fastestLapSpeed    float64\n",
       "year                 int64\n",
       "circuitId            int64\n",
       "name_y              object\n",
       "name                object\n",
       "dtype: object"
      ]
     },
     "execution_count": 90,
     "metadata": {},
     "output_type": "execute_result"
    }
   ],
   "source": [
    "datasetFernando.dtypes"
   ]
  },
  {
   "cell_type": "markdown",
   "metadata": {},
   "source": [
    "A continuación, visualiaremos la correlació que existe entre los diversos atributos de nuestro dataset. "
   ]
  },
  {
   "cell_type": "code",
   "execution_count": 91,
   "metadata": {},
   "outputs": [
    {
     "data": {
      "image/png": "[encoded data removed]",
      "text/plain": [
       "<Figure size 432x288 with 2 Axes>"
      ]
     },
     "metadata": {
      "needs_background": "light"
     },
     "output_type": "display_data"
    }
   ],
   "source": [
    "correlacio = datasetFernando.corr()\n",
    "plt.figure()\n",
    "ax = sns.heatmap(correlacio, annot=True, annot_kws={\"size\": 6.5})"
   ]
  },
  {
   "cell_type": "markdown",
   "metadata": {},
   "source": [
    "Como nuestro atributo a predecir es la posición final de la carrera, nos fijaremos en el atributo positionOrder que justamente muestra esto. Como podemos observar, la mayoria de atributos tienen un correlación muy baja con este menos uno el cual es el grid. Tiene bastante sentido esta alta correlación ya que el grid, como antes se ha explicado, es la posición de salida."
   ]
  },
  {
   "cell_type": "markdown",
   "metadata": {},
   "source": [
    "A continuación, visualizaremos algunas estadísticas a lo largo de la carrera de Fernando Alonso. "
   ]
  },
  {
   "cell_type": "code",
   "execution_count": 92,
   "metadata": {},
   "outputs": [
    {
     "data": {
      "image/png": "[encoded data removed]",
      "text/plain": [
       "<Figure size 432x288 with 1 Axes>"
      ]
     },
     "metadata": {
      "needs_background": "light"
     },
     "output_type": "display_data"
    }
   ],
   "source": [
    "escuderia = datasetFernando['name_y']\n",
    "plt.figure()\n",
    "plt.title(\"Número de carreras con cada escuderia\")\n",
    "plt.xlabel(\"Escuderia\")\n",
    "plt.ylabel(\"Número de carreras\")\n",
    "hist = plt.hist(escuderia,10)"
   ]
  },
  {
   "cell_type": "markdown",
   "metadata": {},
   "source": [
    "Como podemos observar, Fernando Alonso desde el inicio de su carrera hasta 2017 solo ha pilotado para 4 escuderias: McLaren, Renault, Ferrari y Minardi."
   ]
  },
  {
   "cell_type": "code",
   "execution_count": 93,
   "metadata": {},
   "outputs": [
    {
     "data": {
      "text/plain": [
       "<Figure size 432x288 with 0 Axes>"
      ]
     },
     "metadata": {},
     "output_type": "display_data"
    },
    {
     "data": {
      "image/png": "[encoded data removed]",
      "text/plain": [
       "<Figure size 579.475x360 with 1 Axes>"
      ]
     },
     "metadata": {
      "needs_background": "light"
     },
     "output_type": "display_data"
    }
   ],
   "source": [
    "plt.figure()\n",
    "sns.displot(datasetFernando, x='positionOrder', hue='name',binwidth=0.5,multiple=\"stack\", edgecolor='black', \n",
    "linewidth=0.5)\n",
    "plt.show()"
   ]
  },
  {
   "cell_type": "markdown",
   "metadata": {},
   "source": [
    "En esta gráfica podemos observar como la mayoria de resultados de Fernando Alonso en sus carreras han sido entre la primera y la quinta posisción, siendo la segunda posición la que más veces ha obtenido. En la siguiente gráfica veremos que circuitos son los que más veces ha visitado Fernando."
   ]
  },
  {
   "cell_type": "code",
   "execution_count": 94,
   "metadata": {},
   "outputs": [
    {
     "data": {
      "text/plain": [
       "<Figure size 432x288 with 0 Axes>"
      ]
     },
     "metadata": {},
     "output_type": "display_data"
    },
    {
     "data": {
      "image/png": "[encoded data removed]",
      "text/plain": [
       "<Figure size 446.35x360 with 1 Axes>"
      ]
     },
     "metadata": {
      "needs_background": "light"
     },
     "output_type": "display_data"
    }
   ],
   "source": [
    "plt.figure()\n",
    "dis = sns.displot(datasetFernando, x='name', hue='name_y',binwidth=50,multiple=\"stack\", edgecolor='black', \n",
    "linewidth=0.5)\n",
    "dis.set_xticklabels(rotation=90)\n",
    "plt.show()\n"
   ]
  },
  {
   "cell_type": "markdown",
   "metadata": {},
   "source": [
    "Podemos observar que en 6 distintos grandes premios ha disputado 16 carreras desde el inicio de su carrera hasta 2017. Estos son los circuitos de: Sepang, Catalunya, Silverstone, Hungaroring, Monza, Autodromo Carlos Pace.\n",
    "Ya que hemos visualizado también las distintas escuderias a las cuales ha pertenecido, en la siguiente gráfica comprobaremos los resultados obtenidos con cada una de ellas."
   ]
  },
  {
   "cell_type": "code",
   "execution_count": 95,
   "metadata": {
    "scrolled": false
   },
   "outputs": [
    {
     "data": {
      "text/plain": [
       "<Figure size 432x288 with 0 Axes>"
      ]
     },
     "metadata": {},
     "output_type": "display_data"
    },
    {
     "data": {
      "image/png": "[encoded data removed]",
      "text/plain": [
       "<Figure size 446.35x360 with 1 Axes>"
      ]
     },
     "metadata": {
      "needs_background": "light"
     },
     "output_type": "display_data"
    }
   ],
   "source": [
    "plt.figure()\n",
    "dis = sns.displot(datasetFernando, x='positionOrder', hue='name_y',binwidth=0.5,multiple=\"stack\", edgecolor='black', \n",
    "linewidth=0.5)\n",
    "plt.show()"
   ]
  },
  {
   "cell_type": "markdown",
   "metadata": {},
   "source": [
    "Si observamos la gráfica, podemos ver como los mejores resultados los ha obtenido cuando pilotaba para Renault o para Ferrari. Con McLaren fue muy irregular y tanto podia quedar de los primeros como de los últimos y con Minardi lo màximo que consiguio fue una decima posición. "
   ]
  },
  {
   "cell_type": "markdown",
   "metadata": {},
   "source": [
    "A continuación miraremos los puntos los cuales ha obtenido Fernando Alonso en su carrera. Tenemos que tener en cuenta que en el año 2009 fue la última temporada donde solo puntuaban hasta el octavo y donde el ganador recibía 10 puntos. Desde entonces, acabar en el top 10 de una carrera de F1 supone puntos y una victoria te da nada menos que 25."
   ]
  },
  {
   "cell_type": "code",
   "execution_count": 96,
   "metadata": {},
   "outputs": [
    {
     "data": {
      "image/png": "[encoded data removed]",
      "text/plain": [
       "<Figure size 360x360 with 1 Axes>"
      ]
     },
     "metadata": {
      "needs_background": "light"
     },
     "output_type": "display_data"
    }
   ],
   "source": [
    "sns.displot(datasetFernando['points'], binwidth=1, multiple=\"stack\")\n",
    "plt.show()"
   ]
  },
  {
   "cell_type": "markdown",
   "metadata": {},
   "source": [
    "Como podemos observar muchas veces ha obtenido 0 puntos, esto debido a que quedo por debajo de la octava posición, antes de la modificación de reglamento antes explicada, o por debajo de la decima posisición, después de la modificación de reglamento explicada.\n",
    "Anteriormente hemos visto que quedo muchas veces en el podio pero viendo esta gráfica podemos ver como fue la mayoria de veces antes del 2009 ya que puntuaciones de 10, 8 y 6 las cuales correspoden a hacer podio antes de 2009 son más abundantes que puntuaciones de 25, 18 y 15 las cuales corresponden a hacer podio despues de 2009. "
   ]
  },
  {
   "cell_type": "code",
   "execution_count": 97,
   "metadata": {},
   "outputs": [
    {
     "data": {
      "image/png": "[encoded data removed]",
      "text/plain": [
       "<Figure size 432x288 with 1 Axes>"
      ]
     },
     "metadata": {},
     "output_type": "display_data"
    }
   ],
   "source": [
    "sns.set_theme()\n",
    "sns.scatterplot(data=datasetFernando, x='year',y='fastestLapSpeed', hue='name_y' )\n",
    "plt.show()"
   ]
  },
  {
   "cell_type": "markdown",
   "metadata": {},
   "source": [
    "Podemos observar que las máximas velocidades las cuales ha alcanzado Fernando Alonso fueron entre 2004 y 2007. Esto puede ser un claro indicio de como a medida que han pasado los años los coches han ido sufriendo cambios para que la competición sea más igualada y se contamine menos y estos cambios han ralentizado los coches. Cabe decir que la velocidad de ellos tampoco ha decrementado de una manera increible pero hay un leve cambio. También tiene que ver bastante la escuderia a la cual pertenecia en ese momento y como podemos ver con Renault ha sido donde mayoritariamente ha conseguido mejores velocidades.\n",
    "\n",
    "\n",
    "\n",
    "     \n"
   ]
  },
  {
   "cell_type": "markdown",
   "metadata": {},
   "source": [
    "## 4. Preprocessing"
   ]
  },
  {
   "cell_type": "markdown",
   "metadata": {},
   "source": [
    "Empezaremos este primer apartado comprobando si existen muchos datos sin información en nuestro dataset."
   ]
  },
  {
   "cell_type": "code",
   "execution_count": 98,
   "metadata": {},
   "outputs": [
    {
     "data": {
      "text/plain": [
       "grid                0\n",
       "positionOrder       0\n",
       "points              0\n",
       "laps                0\n",
       "fastestLap         45\n",
       "fastestLapTime     45\n",
       "fastestLapSpeed    45\n",
       "year                0\n",
       "circuitId           0\n",
       "name_y              0\n",
       "name                0\n",
       "dtype: int64"
      ]
     },
     "execution_count": 98,
     "metadata": {},
     "output_type": "execute_result"
    }
   ],
   "source": [
    "datasetFernando.isnull().sum()"
   ]
  },
  {
   "cell_type": "markdown",
   "metadata": {},
   "source": [
    "Como podemos observar, existen 45 datos de los atributos fastestLap, fastestLapTime y fastestLapSpeed sin información. Para solucionar este problema en el atributo fastestLapSpeed sustituiremos los valores nulos por la media de todos los valores no nulos de ese mismo atributo. Tal que asi:"
   ]
  },
  {
   "cell_type": "code",
   "execution_count": 99,
   "metadata": {},
   "outputs": [
    {
     "data": {
      "text/plain": [
       "grid                0\n",
       "positionOrder       0\n",
       "points              0\n",
       "laps                0\n",
       "fastestLap         45\n",
       "fastestLapTime     45\n",
       "fastestLapSpeed     0\n",
       "year                0\n",
       "circuitId           0\n",
       "name_y              0\n",
       "name                0\n",
       "dtype: int64"
      ]
     },
     "execution_count": 99,
     "metadata": {},
     "output_type": "execute_result"
    }
   ],
   "source": [
    "datasetFernando['fastestLapSpeed'].fillna(value=datasetFernando['fastestLapSpeed'].median(),inplace=True)\n",
    "datasetFernando.isnull().sum()"
   ]
  },
  {
   "cell_type": "markdown",
   "metadata": {},
   "source": []
  },
  {
   "cell_type": "markdown",
   "metadata": {},
   "source": [
    "Para la fastestLap, también calcularemos la media pero como seguramente obtengamos un valor decimal y una vuelta no puede ser en valor decimal, la aproximaremos a un valor entero."
   ]
  },
  {
   "cell_type": "code",
   "execution_count": 100,
   "metadata": {},
   "outputs": [
    {
     "data": {
      "text/plain": [
       "44.5"
      ]
     },
     "execution_count": 100,
     "metadata": {},
     "output_type": "execute_result"
    }
   ],
   "source": [
    "value=datasetFernando['fastestLap'].median()\n",
    "value"
   ]
  },
  {
   "cell_type": "markdown",
   "metadata": {},
   "source": [
    "Como podemos observar, efectivamente la media da un valor decimal, 44.5. Por lo tanto lo redondearemos a 45 y sustituiremos por los NaNs."
   ]
  },
  {
   "cell_type": "code",
   "execution_count": 101,
   "metadata": {},
   "outputs": [
    {
     "data": {
      "text/plain": [
       "grid                0\n",
       "positionOrder       0\n",
       "points              0\n",
       "laps                0\n",
       "fastestLap          0\n",
       "fastestLapTime     45\n",
       "fastestLapSpeed     0\n",
       "year                0\n",
       "circuitId           0\n",
       "name_y              0\n",
       "name                0\n",
       "dtype: int64"
      ]
     },
     "execution_count": 101,
     "metadata": {},
     "output_type": "execute_result"
    }
   ],
   "source": [
    "value = 45\n",
    "datasetFernando['fastestLap'].fillna(value,inplace=True)\n",
    "datasetFernando.isnull().sum()"
   ]
  },
  {
   "cell_type": "code",
   "execution_count": 102,
   "metadata": {},
   "outputs": [
    {
     "data": {
      "text/html": [
       "<div>\n",
       "<style scoped>\n",
       "    .dataframe tbody tr th:only-of-type {\n",
       "        vertical-align: middle;\n",
       "    }\n",
       "\n",
       "    .dataframe tbody tr th {\n",
       "        vertical-align: top;\n",
       "    }\n",
       "\n",
       "    .dataframe thead th {\n",
       "        text-align: right;\n",
       "    }\n",
       "</style>\n",
       "<table border=\"1\" class=\"dataframe\">\n",
       "  <thead>\n",
       "    <tr style=\"text-align: right;\">\n",
       "      <th></th>\n",
       "      <th>grid</th>\n",
       "      <th>positionOrder</th>\n",
       "      <th>points</th>\n",
       "      <th>laps</th>\n",
       "      <th>fastestLap</th>\n",
       "      <th>fastestLapTime</th>\n",
       "      <th>fastestLapSpeed</th>\n",
       "      <th>year</th>\n",
       "      <th>circuitId</th>\n",
       "      <th>name_y</th>\n",
       "      <th>name</th>\n",
       "    </tr>\n",
       "  </thead>\n",
       "  <tbody>\n",
       "    <tr>\n",
       "      <th>2</th>\n",
       "      <td>2</td>\n",
       "      <td>2</td>\n",
       "      <td>8.000</td>\n",
       "      <td>58</td>\n",
       "      <td>20.000</td>\n",
       "      <td>01:26.3</td>\n",
       "      <td>221.178</td>\n",
       "      <td>2007</td>\n",
       "      <td>1</td>\n",
       "      <td>McLaren</td>\n",
       "      <td>Albert Park Grand Prix Circuit</td>\n",
       "    </tr>\n",
       "    <tr>\n",
       "      <th>41</th>\n",
       "      <td>11</td>\n",
       "      <td>21</td>\n",
       "      <td>0.000</td>\n",
       "      <td>16</td>\n",
       "      <td>14.000</td>\n",
       "      <td>01:32.6</td>\n",
       "      <td>206.268</td>\n",
       "      <td>2016</td>\n",
       "      <td>1</td>\n",
       "      <td>McLaren</td>\n",
       "      <td>Albert Park Grand Prix Circuit</td>\n",
       "    </tr>\n",
       "    <tr>\n",
       "      <th>43</th>\n",
       "      <td>12</td>\n",
       "      <td>14</td>\n",
       "      <td>0.000</td>\n",
       "      <td>50</td>\n",
       "      <td>48.000</td>\n",
       "      <td>01:30.1</td>\n",
       "      <td>211.938</td>\n",
       "      <td>2017</td>\n",
       "      <td>1</td>\n",
       "      <td>McLaren</td>\n",
       "      <td>Albert Park Grand Prix Circuit</td>\n",
       "    </tr>\n",
       "    <tr>\n",
       "      <th>96</th>\n",
       "      <td>11</td>\n",
       "      <td>4</td>\n",
       "      <td>5.000</td>\n",
       "      <td>58</td>\n",
       "      <td>58.000</td>\n",
       "      <td>01:28.6</td>\n",
       "      <td>215.464</td>\n",
       "      <td>2008</td>\n",
       "      <td>1</td>\n",
       "      <td>Renault</td>\n",
       "      <td>Albert Park Grand Prix Circuit</td>\n",
       "    </tr>\n",
       "    <tr>\n",
       "      <th>100</th>\n",
       "      <td>3</td>\n",
       "      <td>1</td>\n",
       "      <td>10.000</td>\n",
       "      <td>57</td>\n",
       "      <td>49.000</td>\n",
       "      <td>01:26.2</td>\n",
       "      <td>221.499</td>\n",
       "      <td>2006</td>\n",
       "      <td>1</td>\n",
       "      <td>Renault</td>\n",
       "      <td>Albert Park Grand Prix Circuit</td>\n",
       "    </tr>\n",
       "    <tr>\n",
       "      <th>...</th>\n",
       "      <td>...</td>\n",
       "      <td>...</td>\n",
       "      <td>...</td>\n",
       "      <td>...</td>\n",
       "      <td>...</td>\n",
       "      <td>...</td>\n",
       "      <td>...</td>\n",
       "      <td>...</td>\n",
       "      <td>...</td>\n",
       "      <td>...</td>\n",
       "      <td>...</td>\n",
       "    </tr>\n",
       "    <tr>\n",
       "      <th>22732</th>\n",
       "      <td>14</td>\n",
       "      <td>6</td>\n",
       "      <td>8.000</td>\n",
       "      <td>52</td>\n",
       "      <td>52.000</td>\n",
       "      <td>01:40.3</td>\n",
       "      <td>209.799</td>\n",
       "      <td>2016</td>\n",
       "      <td>71</td>\n",
       "      <td>McLaren</td>\n",
       "      <td>Sochi Autodrom</td>\n",
       "    </tr>\n",
       "    <tr>\n",
       "      <th>22735</th>\n",
       "      <td>15</td>\n",
       "      <td>20</td>\n",
       "      <td>0.000</td>\n",
       "      <td>0</td>\n",
       "      <td>45.000</td>\n",
       "      <td>NaN</td>\n",
       "      <td>205.173</td>\n",
       "      <td>2017</td>\n",
       "      <td>71</td>\n",
       "      <td>McLaren</td>\n",
       "      <td>Sochi Autodrom</td>\n",
       "    </tr>\n",
       "    <tr>\n",
       "      <th>22756</th>\n",
       "      <td>7</td>\n",
       "      <td>6</td>\n",
       "      <td>8.000</td>\n",
       "      <td>53</td>\n",
       "      <td>53.000</td>\n",
       "      <td>01:42.2</td>\n",
       "      <td>206.038</td>\n",
       "      <td>2014</td>\n",
       "      <td>71</td>\n",
       "      <td>Ferrari</td>\n",
       "      <td>Sochi Autodrom</td>\n",
       "    </tr>\n",
       "    <tr>\n",
       "      <th>22812</th>\n",
       "      <td>13</td>\n",
       "      <td>19</td>\n",
       "      <td>0.000</td>\n",
       "      <td>42</td>\n",
       "      <td>27.000</td>\n",
       "      <td>01:49.1</td>\n",
       "      <td>198.080</td>\n",
       "      <td>2016</td>\n",
       "      <td>73</td>\n",
       "      <td>McLaren</td>\n",
       "      <td>Baku City Circuit</td>\n",
       "    </tr>\n",
       "    <tr>\n",
       "      <th>22813</th>\n",
       "      <td>19</td>\n",
       "      <td>9</td>\n",
       "      <td>2.000</td>\n",
       "      <td>51</td>\n",
       "      <td>49.000</td>\n",
       "      <td>01:45.2</td>\n",
       "      <td>205.488</td>\n",
       "      <td>2017</td>\n",
       "      <td>73</td>\n",
       "      <td>McLaren</td>\n",
       "      <td>Baku City Circuit</td>\n",
       "    </tr>\n",
       "  </tbody>\n",
       "</table>\n",
       "<p>293 rows × 11 columns</p>\n",
       "</div>"
      ],
      "text/plain": [
       "       grid  positionOrder  points  laps  fastestLap fastestLapTime  \\\n",
       "2         2              2   8.000    58      20.000        01:26.3   \n",
       "41       11             21   0.000    16      14.000        01:32.6   \n",
       "43       12             14   0.000    50      48.000        01:30.1   \n",
       "96       11              4   5.000    58      58.000        01:28.6   \n",
       "100       3              1  10.000    57      49.000        01:26.2   \n",
       "...     ...            ...     ...   ...         ...            ...   \n",
       "22732    14              6   8.000    52      52.000        01:40.3   \n",
       "22735    15             20   0.000     0      45.000            NaN   \n",
       "22756     7              6   8.000    53      53.000        01:42.2   \n",
       "22812    13             19   0.000    42      27.000        01:49.1   \n",
       "22813    19              9   2.000    51      49.000        01:45.2   \n",
       "\n",
       "       fastestLapSpeed  year  circuitId   name_y  \\\n",
       "2              221.178  2007          1  McLaren   \n",
       "41             206.268  2016          1  McLaren   \n",
       "43             211.938  2017          1  McLaren   \n",
       "96             215.464  2008          1  Renault   \n",
       "100            221.499  2006          1  Renault   \n",
       "...                ...   ...        ...      ...   \n",
       "22732          209.799  2016         71  McLaren   \n",
       "22735          205.173  2017         71  McLaren   \n",
       "22756          206.038  2014         71  Ferrari   \n",
       "22812          198.080  2016         73  McLaren   \n",
       "22813          205.488  2017         73  McLaren   \n",
       "\n",
       "                                 name  \n",
       "2      Albert Park Grand Prix Circuit  \n",
       "41     Albert Park Grand Prix Circuit  \n",
       "43     Albert Park Grand Prix Circuit  \n",
       "96     Albert Park Grand Prix Circuit  \n",
       "100    Albert Park Grand Prix Circuit  \n",
       "...                               ...  \n",
       "22732                  Sochi Autodrom  \n",
       "22735                  Sochi Autodrom  \n",
       "22756                  Sochi Autodrom  \n",
       "22812               Baku City Circuit  \n",
       "22813               Baku City Circuit  \n",
       "\n",
       "[293 rows x 11 columns]"
      ]
     },
     "execution_count": 102,
     "metadata": {},
     "output_type": "execute_result"
    }
   ],
   "source": [
    "datasetFernando"
   ]
  },
  {
   "cell_type": "raw",
   "metadata": {},
   "source": [
    "FALTARIA EL DE LAS HORAS PERO NO LO PUEDO HACER AUN"
   ]
  },
  {
   "cell_type": "markdown",
   "metadata": {},
   "source": [
    "A continuación comprobaremos si nuestra base de datos contiene valores extremos o anormales los cuales pueden afectar a la predicción."
   ]
  },
  {
   "cell_type": "code",
   "execution_count": 103,
   "metadata": {},
   "outputs": [
    {
     "data": {
      "image/png": "[encoded data removed]",
      "text/plain": [
       "<Figure size 360x360 with 1 Axes>"
      ]
     },
     "metadata": {},
     "output_type": "display_data"
    },
    {
     "data": {
      "image/png": "[encoded data removed]",
      "text/plain": [
       "<Figure size 432x288 with 1 Axes>"
      ]
     },
     "metadata": {},
     "output_type": "display_data"
    },
    {
     "data": {
      "image/png": "[encoded data removed]",
      "text/plain": [
       "<Figure size 360x360 with 1 Axes>"
      ]
     },
     "metadata": {},
     "output_type": "display_data"
    },
    {
     "data": {
      "image/png": "[encoded data removed]",
      "text/plain": [
       "<Figure size 432x288 with 1 Axes>"
      ]
     },
     "metadata": {},
     "output_type": "display_data"
    },
    {
     "data": {
      "image/png": "[encoded data removed]",
      "text/plain": [
       "<Figure size 360x360 with 1 Axes>"
      ]
     },
     "metadata": {},
     "output_type": "display_data"
    },
    {
     "data": {
      "image/png": "[encoded data removed]",
      "text/plain": [
       "<Figure size 432x288 with 1 Axes>"
      ]
     },
     "metadata": {},
     "output_type": "display_data"
    },
    {
     "data": {
      "image/png": "[encoded data removed]",
      "text/plain": [
       "<Figure size 360x360 with 1 Axes>"
      ]
     },
     "metadata": {},
     "output_type": "display_data"
    },
    {
     "data": {
      "image/png": "[encoded data removed]",
      "text/plain": [
       "<Figure size 432x288 with 1 Axes>"
      ]
     },
     "metadata": {},
     "output_type": "display_data"
    },
    {
     "data": {
      "image/png": "[encoded data removed]",
      "text/plain": [
       "<Figure size 360x360 with 1 Axes>"
      ]
     },
     "metadata": {},
     "output_type": "display_data"
    },
    {
     "data": {
      "image/png": "[encoded data removed]",
      "text/plain": [
       "<Figure size 432x288 with 1 Axes>"
      ]
     },
     "metadata": {},
     "output_type": "display_data"
    },
    {
     "data": {
      "image/png": "[encoded data removed]",
      "text/plain": [
       "<Figure size 360x360 with 1 Axes>"
      ]
     },
     "metadata": {},
     "output_type": "display_data"
    },
    {
     "data": {
      "image/png": "[encoded data removed]",
      "text/plain": [
       "<Figure size 432x288 with 1 Axes>"
      ]
     },
     "metadata": {},
     "output_type": "display_data"
    },
    {
     "data": {
      "image/png": "[encoded data removed]",
      "text/plain": [
       "<Figure size 360x360 with 1 Axes>"
      ]
     },
     "metadata": {},
     "output_type": "display_data"
    },
    {
     "data": {
      "image/png": "[encoded data removed]",
      "text/plain": [
       "<Figure size 432x288 with 1 Axes>"
      ]
     },
     "metadata": {},
     "output_type": "display_data"
    }
   ],
   "source": [
    "sns.displot(datasetFernando['grid'], binwidth=1, multiple=\"stack\")\n",
    "plt.show()\n",
    "sns.boxplot(datasetFernando['grid'])\n",
    "plt.show()\n",
    "\n",
    "sns.displot(datasetFernando['positionOrder'], binwidth=1, multiple=\"stack\")\n",
    "plt.show()\n",
    "sns.boxplot(datasetFernando['positionOrder'])\n",
    "plt.show()\n",
    "\n",
    "sns.displot(datasetFernando['points'], binwidth=1, multiple=\"stack\")\n",
    "plt.show()\n",
    "sns.boxplot(datasetFernando['points'])\n",
    "plt.show()\n",
    "\n",
    "sns.displot(datasetFernando['laps'], binwidth=1, multiple=\"stack\")\n",
    "plt.show()\n",
    "sns.boxplot(datasetFernando['laps'])\n",
    "plt.show()\n",
    "\n",
    "sns.displot(datasetFernando['fastestLap'], binwidth=5, multiple=\"stack\")\n",
    "plt.show()\n",
    "sns.boxplot(datasetFernando['fastestLap'])\n",
    "plt.show()\n",
    "\n",
    "#sns.displot(datasetFernando['fastestLapTime'], binwidth=25, multiple=\"stack\")\n",
    "#plt.show()\n",
    "#sns.boxplot(datasetFernando['fastestLapTime'])\n",
    "#plt.show()\n",
    "\n",
    "sns.displot(datasetFernando['fastestLapSpeed'], binwidth=20, multiple=\"stack\")\n",
    "plt.show()\n",
    "sns.boxplot(datasetFernando['fastestLapSpeed'])\n",
    "plt.show()\n",
    "\n",
    "\n",
    "sns.displot(datasetFernando['year'], binwidth=5, multiple=\"stack\")\n",
    "plt.show()\n",
    "sns.boxplot(datasetFernando['year'])\n",
    "plt.show()\n",
    "\n"
   ]
  },
  {
   "cell_type": "markdown",
   "metadata": {},
   "source": [
    "Como podemos observar, no hay ningún valor fuera de lo normal o extremo por lo que no eliminaremos ninguna muestra. También podemos observar como no hay ningún atributo donde se vea claramente una distribución normal. "
   ]
  },
  {
   "cell_type": "markdown",
   "metadata": {},
   "source": [
    "Para evitar posibles casos de inexactitud de datos y/o inefiencia de operaciones vamos a normalizar nuestros datos. Como únicamente se pueden normalizar datos númericos, los atributos los cuales anteriormente no fueron eliminados porque eran strings útiles para ciertas gráficas ahora pueden ser eliminados.\n",
    "En nuestro caso utilizaremos la Standarization, con este proceso conseguiremos optimizar el aprendizaje del modelo de tal manera que todos los atributos de entrada estarán dentro de la misma escala y por lo tanto no habrán atributos que tengan un peso más elevado que otros solo por la escala de sus datos.\n",
    "\n",
    "A su vez, como queremos predecir el resultado en algunas de sus carreras seleccionaremos las muestras de las carreras que más veces ha visitado, los cuales hemos visto anteriormente que eran:  Sepang, Catalunya, Silverstone, Hungaroring, Monza, Autodromo Carlos Pace.\n",
    "\n"
   ]
  },
  {
   "cell_type": "code",
   "execution_count": 104,
   "metadata": {},
   "outputs": [
    {
     "data": {
      "text/html": [
       "<div>\n",
       "<style scoped>\n",
       "    .dataframe tbody tr th:only-of-type {\n",
       "        vertical-align: middle;\n",
       "    }\n",
       "\n",
       "    .dataframe tbody tr th {\n",
       "        vertical-align: top;\n",
       "    }\n",
       "\n",
       "    .dataframe thead th {\n",
       "        text-align: right;\n",
       "    }\n",
       "</style>\n",
       "<table border=\"1\" class=\"dataframe\">\n",
       "  <thead>\n",
       "    <tr style=\"text-align: right;\">\n",
       "      <th></th>\n",
       "      <th>grid</th>\n",
       "      <th>positionOrder</th>\n",
       "      <th>points</th>\n",
       "      <th>laps</th>\n",
       "      <th>fastestLap</th>\n",
       "      <th>fastestLapTime</th>\n",
       "      <th>fastestLapSpeed</th>\n",
       "      <th>year</th>\n",
       "      <th>circuitId</th>\n",
       "      <th>name_y</th>\n",
       "      <th>name</th>\n",
       "    </tr>\n",
       "  </thead>\n",
       "  <tbody>\n",
       "    <tr>\n",
       "      <th>480</th>\n",
       "      <td>2</td>\n",
       "      <td>1</td>\n",
       "      <td>10.000</td>\n",
       "      <td>56</td>\n",
       "      <td>42.000</td>\n",
       "      <td>01:36.9</td>\n",
       "      <td>206.014</td>\n",
       "      <td>2007</td>\n",
       "      <td>2</td>\n",
       "      <td>McLaren</td>\n",
       "      <td>Sepang International Circuit</td>\n",
       "    </tr>\n",
       "    <tr>\n",
       "      <th>511</th>\n",
       "      <td>18</td>\n",
       "      <td>18</td>\n",
       "      <td>0.000</td>\n",
       "      <td>21</td>\n",
       "      <td>17.000</td>\n",
       "      <td>01:48.5</td>\n",
       "      <td>183.983</td>\n",
       "      <td>2015</td>\n",
       "      <td>2</td>\n",
       "      <td>McLaren</td>\n",
       "      <td>Sepang International Circuit</td>\n",
       "    </tr>\n",
       "    <tr>\n",
       "      <th>512</th>\n",
       "      <td>22</td>\n",
       "      <td>7</td>\n",
       "      <td>6.000</td>\n",
       "      <td>56</td>\n",
       "      <td>44.000</td>\n",
       "      <td>01:38.3</td>\n",
       "      <td>203.017</td>\n",
       "      <td>2016</td>\n",
       "      <td>2</td>\n",
       "      <td>McLaren</td>\n",
       "      <td>Sepang International Circuit</td>\n",
       "    </tr>\n",
       "    <tr>\n",
       "      <th>515</th>\n",
       "      <td>10</td>\n",
       "      <td>11</td>\n",
       "      <td>0.000</td>\n",
       "      <td>55</td>\n",
       "      <td>11.000</td>\n",
       "      <td>01:36.5</td>\n",
       "      <td>206.783</td>\n",
       "      <td>2017</td>\n",
       "      <td>2</td>\n",
       "      <td>McLaren</td>\n",
       "      <td>Sepang International Circuit</td>\n",
       "    </tr>\n",
       "    <tr>\n",
       "      <th>562</th>\n",
       "      <td>7</td>\n",
       "      <td>8</td>\n",
       "      <td>1.000</td>\n",
       "      <td>56</td>\n",
       "      <td>40.000</td>\n",
       "      <td>01:36.3</td>\n",
       "      <td>207.240</td>\n",
       "      <td>2008</td>\n",
       "      <td>2</td>\n",
       "      <td>Renault</td>\n",
       "      <td>Sepang International Circuit</td>\n",
       "    </tr>\n",
       "    <tr>\n",
       "      <th>...</th>\n",
       "      <td>...</td>\n",
       "      <td>...</td>\n",
       "      <td>...</td>\n",
       "      <td>...</td>\n",
       "      <td>...</td>\n",
       "      <td>...</td>\n",
       "      <td>...</td>\n",
       "      <td>...</td>\n",
       "      <td>...</td>\n",
       "      <td>...</td>\n",
       "      <td>...</td>\n",
       "    </tr>\n",
       "    <tr>\n",
       "      <th>11586</th>\n",
       "      <td>5</td>\n",
       "      <td>4</td>\n",
       "      <td>12.000</td>\n",
       "      <td>71</td>\n",
       "      <td>65.000</td>\n",
       "      <td>01:16.2</td>\n",
       "      <td>203.625</td>\n",
       "      <td>2011</td>\n",
       "      <td>18</td>\n",
       "      <td>Ferrari</td>\n",
       "      <td>Autodromo Jos̩ Carlos Pace</td>\n",
       "    </tr>\n",
       "    <tr>\n",
       "      <th>11588</th>\n",
       "      <td>7</td>\n",
       "      <td>2</td>\n",
       "      <td>18.000</td>\n",
       "      <td>71</td>\n",
       "      <td>36.000</td>\n",
       "      <td>01:18.6</td>\n",
       "      <td>197.301</td>\n",
       "      <td>2012</td>\n",
       "      <td>18</td>\n",
       "      <td>Ferrari</td>\n",
       "      <td>Autodromo Jos̩ Carlos Pace</td>\n",
       "    </tr>\n",
       "    <tr>\n",
       "      <th>11590</th>\n",
       "      <td>3</td>\n",
       "      <td>3</td>\n",
       "      <td>15.000</td>\n",
       "      <td>71</td>\n",
       "      <td>50.000</td>\n",
       "      <td>01:15.5</td>\n",
       "      <td>205.473</td>\n",
       "      <td>2013</td>\n",
       "      <td>18</td>\n",
       "      <td>Ferrari</td>\n",
       "      <td>Autodromo Jos̩ Carlos Pace</td>\n",
       "    </tr>\n",
       "    <tr>\n",
       "      <th>11592</th>\n",
       "      <td>8</td>\n",
       "      <td>6</td>\n",
       "      <td>8.000</td>\n",
       "      <td>71</td>\n",
       "      <td>55.000</td>\n",
       "      <td>01:14.3</td>\n",
       "      <td>208.744</td>\n",
       "      <td>2014</td>\n",
       "      <td>18</td>\n",
       "      <td>Ferrari</td>\n",
       "      <td>Autodromo Jos̩ Carlos Pace</td>\n",
       "    </tr>\n",
       "    <tr>\n",
       "      <th>11771</th>\n",
       "      <td>19</td>\n",
       "      <td>19</td>\n",
       "      <td>0.000</td>\n",
       "      <td>25</td>\n",
       "      <td>45.000</td>\n",
       "      <td>NaN</td>\n",
       "      <td>205.173</td>\n",
       "      <td>2001</td>\n",
       "      <td>18</td>\n",
       "      <td>Minardi</td>\n",
       "      <td>Autodromo Jos̩ Carlos Pace</td>\n",
       "    </tr>\n",
       "  </tbody>\n",
       "</table>\n",
       "<p>96 rows × 11 columns</p>\n",
       "</div>"
      ],
      "text/plain": [
       "       grid  positionOrder  points  laps  fastestLap fastestLapTime  \\\n",
       "480       2              1  10.000    56      42.000        01:36.9   \n",
       "511      18             18   0.000    21      17.000        01:48.5   \n",
       "512      22              7   6.000    56      44.000        01:38.3   \n",
       "515      10             11   0.000    55      11.000        01:36.5   \n",
       "562       7              8   1.000    56      40.000        01:36.3   \n",
       "...     ...            ...     ...   ...         ...            ...   \n",
       "11586     5              4  12.000    71      65.000        01:16.2   \n",
       "11588     7              2  18.000    71      36.000        01:18.6   \n",
       "11590     3              3  15.000    71      50.000        01:15.5   \n",
       "11592     8              6   8.000    71      55.000        01:14.3   \n",
       "11771    19             19   0.000    25      45.000            NaN   \n",
       "\n",
       "       fastestLapSpeed  year  circuitId   name_y                          name  \n",
       "480            206.014  2007          2  McLaren  Sepang International Circuit  \n",
       "511            183.983  2015          2  McLaren  Sepang International Circuit  \n",
       "512            203.017  2016          2  McLaren  Sepang International Circuit  \n",
       "515            206.783  2017          2  McLaren  Sepang International Circuit  \n",
       "562            207.240  2008          2  Renault  Sepang International Circuit  \n",
       "...                ...   ...        ...      ...                           ...  \n",
       "11586          203.625  2011         18  Ferrari    Autodromo Jos̩ Carlos Pace  \n",
       "11588          197.301  2012         18  Ferrari    Autodromo Jos̩ Carlos Pace  \n",
       "11590          205.473  2013         18  Ferrari    Autodromo Jos̩ Carlos Pace  \n",
       "11592          208.744  2014         18  Ferrari    Autodromo Jos̩ Carlos Pace  \n",
       "11771          205.173  2001         18  Minardi    Autodromo Jos̩ Carlos Pace  \n",
       "\n",
       "[96 rows x 11 columns]"
      ]
     },
     "execution_count": 104,
     "metadata": {},
     "output_type": "execute_result"
    }
   ],
   "source": [
    "datasetFernando = datasetFernando[(datasetFernando['name'] == 'Sepang International Circuit') \n",
    "                                  | (datasetFernando['name'] == 'Circuit de Barcelona-Catalunya') | \n",
    "                                  (datasetFernando['name'] == 'Silverstone Circuit') | \n",
    "                                  (datasetFernando['name'] == 'Hungaroring') | \n",
    "                                  (datasetFernando['name'] == 'Autodromo Nazionale di Monza') | \n",
    "                                  (datasetFernando['name'] == 'Autodromo Jos̩ Carlos Pace')]\n",
    "datasetFernando"
   ]
  },
  {
   "cell_type": "code",
   "execution_count": 105,
   "metadata": {},
   "outputs": [
    {
     "data": {
      "text/html": [
       "<div>\n",
       "<style scoped>\n",
       "    .dataframe tbody tr th:only-of-type {\n",
       "        vertical-align: middle;\n",
       "    }\n",
       "\n",
       "    .dataframe tbody tr th {\n",
       "        vertical-align: top;\n",
       "    }\n",
       "\n",
       "    .dataframe thead th {\n",
       "        text-align: right;\n",
       "    }\n",
       "</style>\n",
       "<table border=\"1\" class=\"dataframe\">\n",
       "  <thead>\n",
       "    <tr style=\"text-align: right;\">\n",
       "      <th></th>\n",
       "      <th>grid</th>\n",
       "      <th>positionOrder</th>\n",
       "      <th>points</th>\n",
       "      <th>laps</th>\n",
       "      <th>fastestLap</th>\n",
       "      <th>fastestLapSpeed</th>\n",
       "      <th>year</th>\n",
       "      <th>circuitId</th>\n",
       "    </tr>\n",
       "  </thead>\n",
       "  <tbody>\n",
       "    <tr>\n",
       "      <th>0</th>\n",
       "      <td>-1.018</td>\n",
       "      <td>-1.068</td>\n",
       "      <td>0.491</td>\n",
       "      <td>-0.007</td>\n",
       "      <td>-0.048</td>\n",
       "      <td>-0.185</td>\n",
       "      <td>-0.517</td>\n",
       "      <td>-1.395</td>\n",
       "    </tr>\n",
       "    <tr>\n",
       "      <th>1</th>\n",
       "      <td>1.628</td>\n",
       "      <td>1.648</td>\n",
       "      <td>-0.973</td>\n",
       "      <td>-2.356</td>\n",
       "      <td>-1.681</td>\n",
       "      <td>-1.367</td>\n",
       "      <td>1.179</td>\n",
       "      <td>-1.395</td>\n",
       "    </tr>\n",
       "    <tr>\n",
       "      <th>2</th>\n",
       "      <td>2.290</td>\n",
       "      <td>-0.110</td>\n",
       "      <td>-0.095</td>\n",
       "      <td>-0.007</td>\n",
       "      <td>0.083</td>\n",
       "      <td>-0.346</td>\n",
       "      <td>1.391</td>\n",
       "      <td>-1.395</td>\n",
       "    </tr>\n",
       "    <tr>\n",
       "      <th>3</th>\n",
       "      <td>0.305</td>\n",
       "      <td>0.529</td>\n",
       "      <td>-0.973</td>\n",
       "      <td>-0.074</td>\n",
       "      <td>-2.073</td>\n",
       "      <td>-0.144</td>\n",
       "      <td>1.603</td>\n",
       "      <td>-1.395</td>\n",
       "    </tr>\n",
       "    <tr>\n",
       "      <th>4</th>\n",
       "      <td>-0.191</td>\n",
       "      <td>0.050</td>\n",
       "      <td>-0.827</td>\n",
       "      <td>-0.007</td>\n",
       "      <td>-0.178</td>\n",
       "      <td>-0.119</td>\n",
       "      <td>-0.305</td>\n",
       "      <td>-1.395</td>\n",
       "    </tr>\n",
       "    <tr>\n",
       "      <th>...</th>\n",
       "      <td>...</td>\n",
       "      <td>...</td>\n",
       "      <td>...</td>\n",
       "      <td>...</td>\n",
       "      <td>...</td>\n",
       "      <td>...</td>\n",
       "      <td>...</td>\n",
       "      <td>...</td>\n",
       "    </tr>\n",
       "    <tr>\n",
       "      <th>91</th>\n",
       "      <td>-0.522</td>\n",
       "      <td>-0.589</td>\n",
       "      <td>0.784</td>\n",
       "      <td>1.000</td>\n",
       "      <td>1.455</td>\n",
       "      <td>-0.313</td>\n",
       "      <td>0.331</td>\n",
       "      <td>1.516</td>\n",
       "    </tr>\n",
       "    <tr>\n",
       "      <th>92</th>\n",
       "      <td>-0.191</td>\n",
       "      <td>-0.909</td>\n",
       "      <td>1.663</td>\n",
       "      <td>1.000</td>\n",
       "      <td>-0.440</td>\n",
       "      <td>-0.652</td>\n",
       "      <td>0.543</td>\n",
       "      <td>1.516</td>\n",
       "    </tr>\n",
       "    <tr>\n",
       "      <th>93</th>\n",
       "      <td>-0.853</td>\n",
       "      <td>-0.749</td>\n",
       "      <td>1.223</td>\n",
       "      <td>1.000</td>\n",
       "      <td>0.475</td>\n",
       "      <td>-0.214</td>\n",
       "      <td>0.755</td>\n",
       "      <td>1.516</td>\n",
       "    </tr>\n",
       "    <tr>\n",
       "      <th>94</th>\n",
       "      <td>-0.026</td>\n",
       "      <td>-0.270</td>\n",
       "      <td>0.198</td>\n",
       "      <td>1.000</td>\n",
       "      <td>0.802</td>\n",
       "      <td>-0.038</td>\n",
       "      <td>0.967</td>\n",
       "      <td>1.516</td>\n",
       "    </tr>\n",
       "    <tr>\n",
       "      <th>95</th>\n",
       "      <td>1.794</td>\n",
       "      <td>1.807</td>\n",
       "      <td>-0.973</td>\n",
       "      <td>-2.088</td>\n",
       "      <td>0.148</td>\n",
       "      <td>-0.230</td>\n",
       "      <td>-1.789</td>\n",
       "      <td>1.516</td>\n",
       "    </tr>\n",
       "  </tbody>\n",
       "</table>\n",
       "<p>96 rows × 8 columns</p>\n",
       "</div>"
      ],
      "text/plain": [
       "     grid  positionOrder  points   laps  fastestLap  fastestLapSpeed   year  \\\n",
       "0  -1.018         -1.068   0.491 -0.007      -0.048           -0.185 -0.517   \n",
       "1   1.628          1.648  -0.973 -2.356      -1.681           -1.367  1.179   \n",
       "2   2.290         -0.110  -0.095 -0.007       0.083           -0.346  1.391   \n",
       "3   0.305          0.529  -0.973 -0.074      -2.073           -0.144  1.603   \n",
       "4  -0.191          0.050  -0.827 -0.007      -0.178           -0.119 -0.305   \n",
       "..    ...            ...     ...    ...         ...              ...    ...   \n",
       "91 -0.522         -0.589   0.784  1.000       1.455           -0.313  0.331   \n",
       "92 -0.191         -0.909   1.663  1.000      -0.440           -0.652  0.543   \n",
       "93 -0.853         -0.749   1.223  1.000       0.475           -0.214  0.755   \n",
       "94 -0.026         -0.270   0.198  1.000       0.802           -0.038  0.967   \n",
       "95  1.794          1.807  -0.973 -2.088       0.148           -0.230 -1.789   \n",
       "\n",
       "    circuitId  \n",
       "0      -1.395  \n",
       "1      -1.395  \n",
       "2      -1.395  \n",
       "3      -1.395  \n",
       "4      -1.395  \n",
       "..        ...  \n",
       "91      1.516  \n",
       "92      1.516  \n",
       "93      1.516  \n",
       "94      1.516  \n",
       "95      1.516  \n",
       "\n",
       "[96 rows x 8 columns]"
      ]
     },
     "execution_count": 105,
     "metadata": {},
     "output_type": "execute_result"
    }
   ],
   "source": [
    "del(datasetFernando['name'])\n",
    "del(datasetFernando['name_y'])\n",
    "del(datasetFernando['fastestLapTime']) #este luego no sera asi\n",
    "\n",
    "scaler = StandardScaler()\n",
    "standarFernando = scaler.fit_transform(datasetFernando)\n",
    "standFernando = pd.DataFrame(standarFernando, columns=datasetFernando.columns)\n",
    "\n",
    "standFernando\n"
   ]
  },
  {
   "cell_type": "markdown",
   "metadata": {},
   "source": [
    "## 5. Model Selection"
   ]
  },
  {
   "cell_type": "markdown",
   "metadata": {},
   "source": [
    "Para esta práctica se han considerado 2 modelos distintos:\n",
    "- Regresión lineal univariable:  Este es el modelo más simple de regresión lineal. Solo utilizaremos el atributo de correlación como atributo de entrada. \n",
    "- Regresión lineal multivariable: Este es un modelo de regresión lineal más complejo ya que no solo tiene un atributo como entrada sino varios de ellos."
   ]
  },
  {
   "cell_type": "markdown",
   "metadata": {},
   "source": [
    "## 6. Cross-validation"
   ]
  },
  {
   "cell_type": "markdown",
   "metadata": {},
   "source": [
    "En esta práctica el método seleccionado para realizar Cross-validation ha sido cross-validation k-fold ya que es el método mas completo de todos y porque los demás pueden ocasionar algunos errores a la hora de dividir el dataset para el entrenamiento y validación. \n",
    "Pero antes de continuar debemos seleccionar el valor más adecuado de K para obtener los mejores resultados posibles."
   ]
  },
  {
   "cell_type": "code",
   "execution_count": 106,
   "metadata": {},
   "outputs": [
    {
     "name": "stdout",
     "output_type": "stream",
     "text": [
      "-> folds=2, accuracy=0.288 (0.157,0.419)\n",
      "-> folds=3, accuracy=0.298 (-0.001,0.539)\n",
      "-> folds=4, accuracy=0.213 (-0.023,0.552)\n",
      "-> folds=5, accuracy=0.099 (-0.495,0.476)\n",
      "-> folds=6, accuracy=0.261 (-0.322,0.567)\n",
      "-> folds=7, accuracy=0.110 (-0.909,0.548)\n",
      "-> folds=8, accuracy=0.066 (-1.168,0.661)\n",
      "-> folds=9, accuracy=-0.053 (-2.269,0.550)\n",
      "-> folds=10, accuracy=0.167 (-0.396,0.645)\n",
      "-> folds=11, accuracy=0.076 (-1.696,0.640)\n",
      "-> folds=12, accuracy=-0.037 (-3.027,0.695)\n",
      "-> folds=13, accuracy=-0.037 (-3.027,0.679)\n",
      "-> folds=14, accuracy=-0.119 (-3.787,0.724)\n"
     ]
    }
   ],
   "source": [
    "folds = range(2,15)\n",
    "\n",
    "def evaluatemodel(cv, standar):\n",
    "    \n",
    "    x = standar[['grid']]\n",
    "    y = standar[['positionOrder']]\n",
    "    lab = preprocessing.LabelEncoder()\n",
    "    y_transformed = lab.fit_transform(y)\n",
    "    \n",
    "    Reg = LinearRegression()\n",
    "    scores = cross_val_score(Reg, x, y_transformed, cv=cv, n_jobs=-1)\n",
    "    return mean(scores), scores.min(), scores.max()\n",
    "\n",
    "for k in folds:\n",
    "    cv = KFold(n_splits=k, shuffle=True, random_state=10)\n",
    "    k_mean, k_min, k_max = evaluatemodel(cv, standFernando)\n",
    "    print('-> folds=%d, accuracy=%.3f (%.3f,%.3f)' % (k, k_mean, k_min, k_max))"
   ]
  },
  {
   "cell_type": "markdown",
   "metadata": {},
   "source": [
    "Como podemos observar la mayor accuracy se obtiene con una K igual a 3, por lo tanto sera el valor que utilizaremos."
   ]
  },
  {
   "cell_type": "markdown",
   "metadata": {},
   "source": [
    "## 7. Metric Analysis"
   ]
  },
  {
   "cell_type": "markdown",
   "metadata": {},
   "source": [
    "Ahora ya visualizaremos los resultados de nuestros dos modelos seleccionados. Para visualizar los resultados y compararlos entre si, guardaremos los resultados en diccionarios y crearemos una tabla con ellos."
   ]
  },
  {
   "cell_type": "code",
   "execution_count": 107,
   "metadata": {},
   "outputs": [],
   "source": [
    "resultados_de_los_modelos = {'Modelo' : [], 'Score' : [], 'R2_Score' : [], 'KFold Score' : [], 'MSE' : []}\n",
    "resultados_de_los_modelos = pd.DataFrame(data=resultados_de_los_modelos)\n",
    "columns = ['Modelo', 'Score', 'R2_Score', 'KFold Score','MSE']"
   ]
  },
  {
   "cell_type": "markdown",
   "metadata": {},
   "source": [
    "Para más adelante poder visualizar la regresión multivariada, crearemos una función utilizando PCA."
   ]
  },
  {
   "cell_type": "code",
   "execution_count": 108,
   "metadata": {},
   "outputs": [],
   "source": [
    "from sklearn.decomposition import PCA\n",
    "def plot_predictions(model, X, Y, X2=np.array([])):\n",
    "    pca = PCA(n_components=1)\n",
    "    x_pca = pca.fit_transform(X)\n",
    "    \n",
    "    if X2.shape[0] > 0:\n",
    "        x_pca2 = pca.fit_transform(X2)\n",
    "        pred = model.predict(X2)\n",
    "        x_aux = np.sort(x_pca2, axis=None)\n",
    "    else:    \n",
    "        pred = model.predict(X)\n",
    "        x_aux = np.sort(x_pca, axis=None)\n",
    "        \n",
    "    pred = np.sort(pred, axis=None)\n",
    " \n",
    "    x_aux = np.sort(x_pca, axis=None)\n",
    "    plt.figure()\n",
    "    plt.ylabel('positionOrder')\n",
    "    plt.xlabel('Inputs')\n",
    "    plt.scatter(x_pca, Y, color='tab:blue')\n",
    "    plt.plot(x_aux, pred, color='chocolate')\n",
    " \n",
    "    plt.show()\n"
   ]
  },
  {
   "cell_type": "markdown",
   "metadata": {},
   "source": [
    "### Regresion lineal univariable"
   ]
  },
  {
   "cell_type": "code",
   "execution_count": 109,
   "metadata": {},
   "outputs": [
    {
     "name": "stdout",
     "output_type": "stream",
     "text": [
      "REGRESION LINEAL UNIVARIABLE\n"
     ]
    },
    {
     "data": {
      "image/png": "[encoded data removed]",
      "text/plain": [
       "<Figure size 432x288 with 1 Axes>"
      ]
     },
     "metadata": {},
     "output_type": "display_data"
    }
   ],
   "source": [
    "k = 3\n",
    "x = standFernando[['grid']]\n",
    "y = standFernando[['positionOrder']]\n",
    "\n",
    "lab = preprocessing.LabelEncoder()\n",
    "y_transformed = lab.fit_transform(y)\n",
    "\n",
    "x_train, x_test, y_train, y_test = sklearn.model_selection.train_test_split(x,y_transformed, test_size=0.20, random_state=50)\n",
    "print(\"REGRESION LINEAL UNIVARIABLE\")\n",
    "\n",
    "lin_reg = LinearRegression() \n",
    "lin_reg.fit(x_train, y_train) \n",
    "\n",
    "resultados_de_los_modelos = resultados_de_los_modelos.append({'Modelo' : 'Regresión lineal univariable',\n",
    "                                    'Score': lin_reg.score(x_test, y_test),\n",
    "                                    'R2_Score': r2_score(y_test, lin_reg.predict(x_test)),\n",
    "                                    'KFold Score' : np.mean(cross_val_score(lin_reg, x, y, cv=k)),\n",
    "                                    'MSE' : mean_squared_error(lin_reg.predict(x_test), y_test)},ignore_index=True)\n",
    "\n",
    "plot_predictions(lin_reg, x_test, y_test)\n"
   ]
  },
  {
   "cell_type": "code",
   "execution_count": 110,
   "metadata": {},
   "outputs": [
    {
     "data": {
      "text/html": [
       "<div>\n",
       "<style scoped>\n",
       "    .dataframe tbody tr th:only-of-type {\n",
       "        vertical-align: middle;\n",
       "    }\n",
       "\n",
       "    .dataframe tbody tr th {\n",
       "        vertical-align: top;\n",
       "    }\n",
       "\n",
       "    .dataframe thead th {\n",
       "        text-align: right;\n",
       "    }\n",
       "</style>\n",
       "<table border=\"1\" class=\"dataframe\">\n",
       "  <thead>\n",
       "    <tr style=\"text-align: right;\">\n",
       "      <th></th>\n",
       "      <th>Modelo</th>\n",
       "      <th>Score</th>\n",
       "      <th>R2_Score</th>\n",
       "      <th>KFold Score</th>\n",
       "      <th>MSE</th>\n",
       "    </tr>\n",
       "  </thead>\n",
       "  <tbody>\n",
       "    <tr>\n",
       "      <th>0</th>\n",
       "      <td>Regresión lineal univariable</td>\n",
       "      <td>0.380</td>\n",
       "      <td>0.380</td>\n",
       "      <td>0.295</td>\n",
       "      <td>26.177</td>\n",
       "    </tr>\n",
       "  </tbody>\n",
       "</table>\n",
       "</div>"
      ],
      "text/plain": [
       "                         Modelo  Score  R2_Score  KFold Score    MSE\n",
       "0  Regresión lineal univariable  0.380     0.380        0.295 26.177"
      ]
     },
     "execution_count": 110,
     "metadata": {},
     "output_type": "execute_result"
    }
   ],
   "source": [
    "resultados_de_los_modelos"
   ]
  },
  {
   "cell_type": "markdown",
   "metadata": {},
   "source": [
    "### Regresion lineal multivariable"
   ]
  },
  {
   "cell_type": "code",
   "execution_count": 111,
   "metadata": {},
   "outputs": [
    {
     "name": "stdout",
     "output_type": "stream",
     "text": [
      "REGRESION LINEAL MULTIVARIABLE \n",
      "\n"
     ]
    },
    {
     "data": {
      "image/png": "[encoded data removed]",
      "text/plain": [
       "<Figure size 432x288 with 1 Axes>"
      ]
     },
     "metadata": {},
     "output_type": "display_data"
    }
   ],
   "source": [
    "x = standFernando[['grid','fastestLap','fastestLapSpeed']]\n",
    "y = standFernando[['positionOrder']]\n",
    "\n",
    "x_train, x_test, y_train, y_test = sklearn.model_selection.train_test_split(x,y, test_size=0.2, random_state=50)\n",
    "print(\"REGRESION LINEAL MULTIVARIABLE\", \"\\n\")\n",
    "\n",
    "lin_reg = LinearRegression() \n",
    "lin_reg.fit(x_train, y_train) \n",
    "\n",
    "resultados_de_los_modelos = resultados_de_los_modelos.append({'Modelo' : 'Regresión lineal multivariable',\n",
    "                                    'Score': lin_reg.score(x_test, y_test),\n",
    "                                    'R2_Score': r2_score(y_test, lin_reg.predict(x_test)),\n",
    "                                    'KFold Score' : np.mean(cross_val_score(lin_reg, x, y, cv=3)),\n",
    "                                    'MSE' : mean_squared_error(lin_reg.predict(x_test), y_test)},ignore_index=True)\n",
    "\n",
    "plot_predictions(lin_reg, x_test, y_test)"
   ]
  },
  {
   "cell_type": "code",
   "execution_count": 112,
   "metadata": {},
   "outputs": [
    {
     "data": {
      "text/html": [
       "<div>\n",
       "<style scoped>\n",
       "    .dataframe tbody tr th:only-of-type {\n",
       "        vertical-align: middle;\n",
       "    }\n",
       "\n",
       "    .dataframe tbody tr th {\n",
       "        vertical-align: top;\n",
       "    }\n",
       "\n",
       "    .dataframe thead th {\n",
       "        text-align: right;\n",
       "    }\n",
       "</style>\n",
       "<table border=\"1\" class=\"dataframe\">\n",
       "  <thead>\n",
       "    <tr style=\"text-align: right;\">\n",
       "      <th></th>\n",
       "      <th>Modelo</th>\n",
       "      <th>Score</th>\n",
       "      <th>R2_Score</th>\n",
       "      <th>KFold Score</th>\n",
       "      <th>MSE</th>\n",
       "    </tr>\n",
       "  </thead>\n",
       "  <tbody>\n",
       "    <tr>\n",
       "      <th>0</th>\n",
       "      <td>Regresión lineal univariable</td>\n",
       "      <td>0.380</td>\n",
       "      <td>0.380</td>\n",
       "      <td>0.295</td>\n",
       "      <td>26.177</td>\n",
       "    </tr>\n",
       "    <tr>\n",
       "      <th>1</th>\n",
       "      <td>Regresión lineal multivariable</td>\n",
       "      <td>0.427</td>\n",
       "      <td>0.427</td>\n",
       "      <td>0.287</td>\n",
       "      <td>0.708</td>\n",
       "    </tr>\n",
       "  </tbody>\n",
       "</table>\n",
       "</div>"
      ],
      "text/plain": [
       "                           Modelo  Score  R2_Score  KFold Score    MSE\n",
       "0    Regresión lineal univariable  0.380     0.380        0.295 26.177\n",
       "1  Regresión lineal multivariable  0.427     0.427        0.287  0.708"
      ]
     },
     "execution_count": 112,
     "metadata": {},
     "output_type": "execute_result"
    }
   ],
   "source": [
    "resultados_de_los_modelos"
   ]
  },
  {
   "cell_type": "code",
   "execution_count": null,
   "metadata": {},
   "outputs": [],
   "source": []
  },
  {
   "cell_type": "code",
   "execution_count": null,
   "metadata": {},
   "outputs": [],
   "source": []
  }
 ],
 "metadata": {
  "kernelspec": {
   "display_name": "Python 3",
   "language": "python",
   "name": "python3"
  },
  "language_info": {
   "codemirror_mode": {
    "name": "ipython",
    "version": 3
   },
   "file_extension": ".py",
   "mimetype": "text/x-python",
   "name": "python",
   "nbconvert_exporter": "python",
   "pygments_lexer": "ipython3",
   "version": "3.8.10"
  }
 },
 "nbformat": 4,
 "nbformat_minor": 4
}
